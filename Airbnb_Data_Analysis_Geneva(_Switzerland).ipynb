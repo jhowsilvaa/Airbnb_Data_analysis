{
  "cells": [
    {
      "cell_type": "markdown",
      "metadata": {
        "id": "view-in-github",
        "colab_type": "text"
      },
      "source": [
        "<a href=\"https://colab.research.google.com/github/jhowsilvaa/Airbnb_Data_analysis/blob/main/Airbnb_Data_Analysis_Geneva(_Switzerland).ipynb\" target=\"_parent\"><img src=\"https://colab.research.google.com/assets/colab-badge.svg\" alt=\"Open In Colab\"/></a>"
      ]
    },
    {
      "cell_type": "markdown",
      "metadata": {
        "id": "kLI0gJtzDGuQ"
      },
      "source": [
        " <h2>Análise dos Dados do Airbnb - Genebra (Suiça) </h2>\n",
        "\n",
        "---\n",
        "\n",
        "\n",
        "O [Airbnb](https://www.airbnb.com.br/) já é considerado como sendo a **maior empresa hoteleira da atualidade**. Ah, o detalhe é que ele **não possui nenhum hotel**!\n",
        "\n",
        "Conectando pessoas que querem viajar (e se hospedar) com anfitriões que querem alugar seus imóveis de maneira prática, o Airbnb fornece uma plataforma inovadora para tornar essa hospedagem alternativa.\n",
        "\n",
        "No final de 2018, a Startup fundada 10 anos atrás, já havia **hospedado mais de 300 milhões** de pessoas ao redor de todo o mundo, desafiando as redes hoteleiras tradicionais.\n",
        "\n",
        "Uma das iniciativas do Airbnb é disponibilizar dados do site, para algumas das principais cidades do mundo. Por meio do portal [Inside Airbnb](http://insideairbnb.com/get-the-data.html), é possível baixar uma grande quantidade de dados para desenvolver projetos e soluções de *Data Science*.\n",
        "<center>\n",
        "<img src=\"https://img.icons8.com/color/512/airbnb.png\" width='08%'>\n",
        "\n",
        "</center>\n",
        "\n",
        "\n",
        "**Neste *notebook*, iremos analisar os dados referentes à cidade Genebra, e ver quais insights podem ser extraídos a partir de dados brutos.**\n"
      ]
    },
    {
      "cell_type": "markdown",
      "metadata": {
        "id": "yhEwL3ya8w58"
      },
      "source": [
        "<center>\n",
        "<h1 > <img align=\"top\" alt=\"Colaboratory logo\" width=\"2.9%\"  src=\"https://www.crwflags.com/fotw/images/c/ch-ge_f.gif\"> <b>Conheça Genebra  <img align=\"top\" alt=\"Colaboratory logo\" width=\"2.9%\"  src=\"https://www.crwflags.com/fotw/images/c/ch-ge_f.gif\">\n",
        "<h1>\n",
        "\n",
        "<center>\n",
        "<p>Considerada a <b>segunda maior cidade</b> da suíça e um dos centros financeiros mais importante do mundo, a Encantadora <b>Genebra</b> fica na área sul do Lago Léman, a charmosa metrópole tem sido apontada como um dos melhores destinos turísticos para visitar.</p>\n",
        "</center>\n",
        "<center>\n",
        "<p>\n",
        "Genebra é conhecida como a <b> capital da paz</b>, já que instituições como  a  Cruz Vermelha, a Organização Mundial da Saúde e a ONU residem na metropole. A cidade esconde uma cultura divertida e animada, com uma variedade de hotéis de luxo, uma forte presença gastronomica (com vários restaurantes estrelados) para explorar, além de um cenário artístico vibrante. \n",
        "</p>\n",
        "<p>\n",
        "A localização da cidade às margens do Lago de Genebra significa que você pode dar um mergulho relaxante com vista para o Jet d'Eau, ou velejar ou praticar esqui aquático, e a proximidade da cidade com as Montanhas Jura para uma verdadeira fuga da realidade.\n",
        "Na margem esquerda da cidade , as desejáveis ​​áreas Colony e Colony-Bellerive têm os maiores valores de propriedade por suas vistas únicas para o lago e a montanha e casas contemporâneas, enquanto na margem direita Chambésy, Versoix e Grand-Saconnex são os mais populares.\n",
        "</p>\n",
        "\n",
        "</center>\n",
        "\n",
        "👉 [Encontre lugares para ficar em Genebra no Airbnb](https://www.airbnb.com.br/a/stays/Geneva--Geneva--Switzerland)\n",
        "👈\n",
        "\n",
        "\n",
        "<img src=\"https://swissroboticsday.ch/wp-content/uploads/2018/05/Lausanne.jpeg\" width='550px'>\n",
        "\n",
        "\n",
        "\n",
        "\n",
        "\n"
      ]
    },
    {
      "cell_type": "markdown",
      "metadata": {
        "id": "eqKuGGzp7th_"
      },
      "source": [
        "##**Importação de dados** <img align=\"left\" alt=\"Colaboratory logo\" width=\"3.0%\" src=\"https://cdn-icons-png.flaticon.com/512/2111/2111283.png\">"
      ]
    },
    {
      "cell_type": "code",
      "execution_count": null,
      "metadata": {
        "id": "Z6N6wgAIY8y8"
      },
      "outputs": [],
      "source": [
        "# importando os pacotes necessarios\n",
        "from folium import Map, Marker, Popup, Figure, Icon, plugins\n",
        "import numpy as np\n",
        "import matplotlib.pyplot as plt\n",
        "import pandas as pd\n",
        "import plotly.express as px\n",
        "from rich.panel import Panel\n",
        "from rich import print\n",
        "import seaborn as sns\n",
        "from scipy.stats import variation \n",
        "%matplotlib inline\n",
        "\n"
      ]
    },
    {
      "cell_type": "markdown",
      "metadata": {
        "id": "k53bUy0NGVbb"
      },
      "source": [
        "\n",
        "<p align=\"center\"> \n",
        "Todos os dados usados aqui foram obtidos a partir do site <a href=\"http://insideairbnb.com/get-the-data.html\">Inside Airbnb</a>\n",
        "</p>\n",
        "<p align=\"center\"> \n",
        "<img align=\"center\" alt=\"Colaboratory logo\" width=\"20%\" src=\"https://c.tenor.com/rsSIoLjds9UAAAAC/airbnb-door.gif\">\n",
        "\n",
        "\n",
        "\n",
        "<p align=\"center\"> \n",
        "Para esta análise exploratória inicial, será baixado apenas o seguinte arquivo:\n",
        "</p>\n",
        "<p> \n",
        "<li align=\"center\"><b>listings.csv</b> - Summary information and metrics for listings in Geneva (good for visualisations).</p>\n",
        "\n",
        "Neste dataset que baixamos é a versão \"resumida\" do Airbnb, existe uma versão mais completa (`listings.csv.gz`)."
      ]
    },
    {
      "cell_type": "code",
      "execution_count": null,
      "metadata": {
        "id": "2TP7thlIZGQd"
      },
      "outputs": [],
      "source": [
        "# importando a base de dados\n",
        "df_geneve = pd.read_csv('http://data.insideairbnb.com/switzerland/geneva/geneva/2022-06-22/visualisations/listings.csv')\n"
      ]
    },
    {
      "cell_type": "markdown",
      "metadata": {
        "id": "mSfS74gU1LBS"
      },
      "source": [
        "## **Dicionário de Variaveis** <img align=\"left\" alt=\"Colaboratory logo\" width=\"3.0%\" src=\"https://img.icons8.com/external-tal-revivo-fresh-tal-revivo/512/external-airbnb-hassel-free-room-rental-service-logotype-logo-fresh-tal-revivo.png\">\n",
        "\n",
        "📕 Um guia interativo que fornece descrições conceituais de cada variável em nosso conjunto de dados.\n",
        "\n",
        "\n"
      ]
    },
    {
      "cell_type": "code",
      "execution_count": null,
      "metadata": {
        "colab": {
          "base_uri": "https://localhost:8080/",
          "height": 437,
          "resources": {
            "http://localhost:8080/style.css": {
              "data": "CjwhRE9DVFlQRSBodG1sPgo8aHRtbCBsYW5nPWVuPgogIDxtZXRhIGNoYXJzZXQ9dXRmLTg+CiAgPG1ldGEgbmFtZT12aWV3cG9ydCBjb250ZW50PSJpbml0aWFsLXNjYWxlPTEsIG1pbmltdW0tc2NhbGU9MSwgd2lkdGg9ZGV2aWNlLXdpZHRoIj4KICA8dGl0bGU+RXJyb3IgNDA0IChOb3QgRm91bmQpISExPC90aXRsZT4KICA8c3R5bGU+CiAgICAqe21hcmdpbjowO3BhZGRpbmc6MH1odG1sLGNvZGV7Zm9udDoxNXB4LzIycHggYXJpYWwsc2Fucy1zZXJpZn1odG1se2JhY2tncm91bmQ6I2ZmZjtjb2xvcjojMjIyO3BhZGRpbmc6MTVweH1ib2R5e21hcmdpbjo3JSBhdXRvIDA7bWF4LXdpZHRoOjM5MHB4O21pbi1oZWlnaHQ6MTgwcHg7cGFkZGluZzozMHB4IDAgMTVweH0qID4gYm9keXtiYWNrZ3JvdW5kOnVybCgvL3d3dy5nb29nbGUuY29tL2ltYWdlcy9lcnJvcnMvcm9ib3QucG5nKSAxMDAlIDVweCBuby1yZXBlYXQ7cGFkZGluZy1yaWdodDoyMDVweH1we21hcmdpbjoxMXB4IDAgMjJweDtvdmVyZmxvdzpoaWRkZW59aW5ze2NvbG9yOiM3Nzc7dGV4dC1kZWNvcmF0aW9uOm5vbmV9YSBpbWd7Ym9yZGVyOjB9QG1lZGlhIHNjcmVlbiBhbmQgKG1heC13aWR0aDo3NzJweCl7Ym9keXtiYWNrZ3JvdW5kOm5vbmU7bWFyZ2luLXRvcDowO21heC13aWR0aDpub25lO3BhZGRpbmctcmlnaHQ6MH19I2xvZ297YmFja2dyb3VuZDp1cmwoLy93d3cuZ29vZ2xlLmNvbS9pbWFnZXMvbG9nb3MvZXJyb3JwYWdlL2Vycm9yX2xvZ28tMTUweDU0LnBuZykgbm8tcmVwZWF0O21hcmdpbi1sZWZ0Oi01cHh9QG1lZGlhIG9ubHkgc2NyZWVuIGFuZCAobWluLXJlc29sdXRpb246MTkyZHBpKXsjbG9nb3tiYWNrZ3JvdW5kOnVybCgvL3d3dy5nb29nbGUuY29tL2ltYWdlcy9sb2dvcy9lcnJvcnBhZ2UvZXJyb3JfbG9nby0xNTB4NTQtMngucG5nKSBuby1yZXBlYXQgMCUgMCUvMTAwJSAxMDAlOy1tb3otYm9yZGVyLWltYWdlOnVybCgvL3d3dy5nb29nbGUuY29tL2ltYWdlcy9sb2dvcy9lcnJvcnBhZ2UvZXJyb3JfbG9nby0xNTB4NTQtMngucG5nKSAwfX1AbWVkaWEgb25seSBzY3JlZW4gYW5kICgtd2Via2l0LW1pbi1kZXZpY2UtcGl4ZWwtcmF0aW86Mil7I2xvZ297YmFja2dyb3VuZDp1cmwoLy93d3cuZ29vZ2xlLmNvbS9pbWFnZXMvbG9nb3MvZXJyb3JwYWdlL2Vycm9yX2xvZ28tMTUweDU0LTJ4LnBuZykgbm8tcmVwZWF0Oy13ZWJraXQtYmFja2dyb3VuZC1zaXplOjEwMCUgMTAwJX19I2xvZ297ZGlzcGxheTppbmxpbmUtYmxvY2s7aGVpZ2h0OjU0cHg7d2lkdGg6MTUwcHh9CiAgPC9zdHlsZT4KICA8YSBocmVmPS8vd3d3Lmdvb2dsZS5jb20vPjxzcGFuIGlkPWxvZ28gYXJpYS1sYWJlbD1Hb29nbGU+PC9zcGFuPjwvYT4KICA8cD48Yj40MDQuPC9iPiA8aW5zPlRoYXTigJlzIGFuIGVycm9yLjwvaW5zPgogIDxwPiAgPGlucz5UaGF04oCZcyBhbGwgd2Uga25vdy48L2lucz4K",
              "headers": [
                [
                  "content-length",
                  "1449"
                ],
                [
                  "content-type",
                  "text/html; charset=utf-8"
                ]
              ],
              "ok": false,
              "status": 404,
              "status_text": ""
            }
          }
        },
        "id": "R_LdziTvi7aB",
        "outputId": "bd54e400-04d3-45d3-88a7-0a8bb1f1e378",
        "cellView": "form"
      },
      "outputs": [
        {
          "output_type": "display_data",
          "data": {
            "text/plain": [
              "<IPython.core.display.HTML object>"
            ],
            "text/html": [
              "<!DOCTYPE html>\n",
              "<html lang=\"en\" dir=\"ltr\">\n",
              "  <head>\n",
              "    <meta charset=\"UTF-8\">\n",
              "    <link rel=\"stylesheet\" href=\"style.css\">\n",
              "    <link rel=\"stylesheet\" href=\"https://cdnjs.cloudflare.com/ajax/libs/font-awesome/5.15.2/css/all.min.css\"/>\n",
              "     <meta name=\"viewport\" content=\"width=device-width, initial-scale=1.0\">\n",
              "   </head>\n",
              "<body>\n",
              "  <div class=\"container\">\n",
              "    <input type=\"radio\" name=\"dot\" id=\"one\">\n",
              "    <input type=\"radio\" name=\"dot\" id=\"two\">\n",
              "    <input type=\"radio\" name=\"dot\" id=\"tree\">\n",
              "    <input type=\"radio\" name=\"dot\" id=\"four\">\n",
              "    <input type=\"radio\" name=\"dot\" id=\"five\">\n",
              "    <input type=\"radio\" name=\"dot\" id=\"six\">\n",
              "\n",
              "\n",
              "\n",
              "    <div class=\"main-card\">\n",
              "      <div class=\"cards\">\n",
              "        <div class=\"card\">\n",
              "         <div class=\"content\">\n",
              "           <div class=\"img\">\n",
              "            <img src=\"https://c.tenor.com/BAGbC68hRz8AAAAC/airbnb-globe.gif\" alt=\"airbnb\">\n",
              "          </div>\n",
              "           <div class=\"details\">\n",
              "             <h3 style='color:black;' >id</h3>\n",
              "            <span>Numero de Indentificação do imovel.</span>\n",
              "           </div>\n",
              "         </div>\n",
              "        </div>\n",
              "        <div class=\"card\">\n",
              "         <div class=\"content\">\n",
              "           <div class=\"img\">\n",
              "              <img src=\"https://i.gifer.com/embedded/download/4Bsa.gif\" alt=\"airbnb\">\n",
              "           </div>\n",
              "           <div class=\"details\">\n",
              "             <h3 style='color:black;'>name</h3>\n",
              "            <span>Nome da propriedade.</span>\n",
              "           </div>\n",
              "         </div>\n",
              "        </div>\n",
              "        <div class=\"card\">\n",
              "         <div class=\"content\">\n",
              "           <div class=\"img\">\n",
              "            <img src=\"https://i.pinimg.com/originals/9f/75/7f/9f757ffb3e2aaf3daa0d1eaf2268bd50.gif\" alt=\"airbnb\">\n",
              "           </div>\n",
              "           <div class=\"details\">\n",
              "              <h3 style='color:black;' >host_id</h3>\n",
              "            <span>Numero de Indentificação do proprietário do imovel(anfitrião).</span>\n",
              "           </div>\n",
              "         </div>\n",
              "        </div>\n",
              "      </div>\n",
              "      <div class=\"cards\">\n",
              "        <div class=\"card\">\n",
              "         <div class=\"content\">\n",
              "           <div class=\"img\">\n",
              "            <img src=\"https://media.itsnicethat.com/original_images/563b97a87fa44cff9d001760.gif\" alt=\"airbnb\">\n",
              "           </div>\n",
              "           <div class=\"details\">\n",
              "             <h3 style='color:black;' >host_name</h3>\n",
              "            <span>Nome do proprietário do imovel(anfitrião).</span>\n",
              "           </div>\n",
              "         </div>\n",
              "        </div>\n",
              "        <div class=\"card\">\n",
              "         <div class=\"content\">\n",
              "           <div class=\"img\">\n",
              "            <img src=\"https://www.gizmodo.com.au/wp-content/uploads/sites/2/2016/09/09/cnfjdlbjzjdzhea3q8q5.gif\" alt=\"airbnb.\">\n",
              "           </div>\n",
              "           <div class=\"details\">\n",
              "             <h3 style='color:black;'>neighbourhood_group</h3>\n",
              "            <span>Não contém nenhum valor valido(dados ausentes).</span>\n",
              "           </div>\n",
              "         </div>\n",
              "        </div>\n",
              "        <div class=\"card\">\n",
              "         <div class=\"content\">\n",
              "           <div class=\"img\">\n",
              "            <img src=\"https://i.gifer.com/94WF.gif\" alt=\"airbnb.\">\n",
              "           </div>\n",
              "           <div class=\"details\">\n",
              "              <h3 style='color:black;' >neighbourhood</h3>\n",
              "            <span>Nome do Bairro.</span>\n",
              "           </div>\n",
              "         </div>\n",
              "        </div>\n",
              "      </div>\n",
              "      \n",
              "      <div class=\"cards\">\n",
              "        <div class=\"card\">\n",
              "         <div class=\"content\">\n",
              "           <div class=\"img\">\n",
              "            <img src=\"https://cdn.dribbble.com/users/97602/screenshots/2337410/one_man_band.gif\" alt=\"airbnb\">\n",
              "          </div>\n",
              "           <div class=\"details\">\n",
              "             <h3 style='color:black;' >latitude</h3>\n",
              "            <span>coordenada da latitude da propriedade.</span>\n",
              "           </div>\n",
              "         </div>\n",
              "        </div>\n",
              "        <div class=\"card\">\n",
              "         <div class=\"content\">\n",
              "           <div class=\"img\">  \n",
              "                <img src=\"https://freight.cargo.site/t/original/i/4023ad65cfeb26b9c2dea6d154dd39531b2b102007a344c1cb4c467cf73676c9/1.gif\" alt=\"airbnb\">\n",
              "           </div>\n",
              "           <div class=\"details\">\n",
              "             <h3 style='color:black;'>longitude</h3>\n",
              "            <span>coordenada da longitude da propriedade.</span>\n",
              "           </div>\n",
              "         </div>\n",
              "        </div>\n",
              "        <div class=\"card\">\n",
              "         <div class=\"content\">\n",
              "           <div class=\"img\">\n",
              "               <img src=\"https://freight.cargo.site/t/original/i/94d9ed5cb0cbeb35e96d16b491e3aaff791253b00e4518406fcacb9c10dec9f9/4.gif\" alt=\"airbnb\">\n",
              "           </div>\n",
              "           <div class=\"details\">\n",
              "              <h3 style='color:black;' >room_type</h3>\n",
              "            <span>O tipo de quarto.</span>\n",
              "           </div>\n",
              "         </div>\n",
              "        </div>\n",
              "      </div>\n",
              "      <div class=\"cards\">\n",
              "        <div class=\"card\">\n",
              "         <div class=\"content\">\n",
              "           <div class=\"img\">\n",
              "                <img src=\"https://i.pinimg.com/originals/01/db/ee/01dbee81a7d4b7678c08bd53b16a18b4.gif\" alt=\"airbnb\">\n",
              "           </div>\n",
              "           <div class=\"details\">\n",
              "             <h3 style='color:black;' >price</h3>\n",
              "            <span>preço para alugar o imóvel.</span>\n",
              "           </div>\n",
              "         </div>\n",
              "        </div>\n",
              "        <div class=\"card\">\n",
              "         <div class=\"content\">\n",
              "           <div class=\"img\">\n",
              "                <img src=\"https://etapes.com/app/uploads/2015/11/1446805788.gif\" alt=\"airbnb\">\n",
              "           </div>\n",
              "           <div class=\"details\">\n",
              "             <h3 style='color:black;'>minimum_nights</h3>\n",
              "            <span>O número mínimo de noites que um hóspede pode reservar seu aluguel de temporada.</span>\n",
              "           </div>\n",
              "         </div>\n",
              "        </div>\n",
              "        <div class=\"card\">\n",
              "         <div class=\"content\">\n",
              "           <div class=\"img\">\n",
              "               <img src=\"https://i.pinimg.com/originals/99/86/9d/99869df9eb48204eeaf26ff49cbc72fe.gif\" alt=\"airbnb\">\n",
              "           </div>\n",
              "           <div class=\"details\">\n",
              "              <h3 style='color:black;'>number_of_reviews</h3>\n",
              "            <span>Número de Reviews da propriedade.</span>\n",
              "           </div>\n",
              "         </div>\n",
              "        </div>\n",
              "      </div>\n",
              "      <div class=\"cards\">\n",
              "        <div class=\"card\">\n",
              "         <div class=\"content\">\n",
              "           <div class=\"img\">\n",
              "             <img src=\"https://mir-s3-cdn-cf.behance.net/project_modules/fs/81474438433363.576176f7e65ee.gif\" alt=\"airbnb\">\n",
              "           </div>\n",
              "           <div class=\"details\">\n",
              "             <h3 style='color:black;'>last_review</h3>\n",
              "            <span>Data da Ultima Review.</span>\n",
              "           </div>\n",
              "         </div>\n",
              "        </div>\n",
              "        <div class=\"card\">\n",
              "         <div class=\"content\">\n",
              "           <div class=\"img\">\n",
              "                <img src=\"https://cdn.dribbble.com/users/1937292/screenshots/6962478/video-1565151647.gif\" alt=\"airbnb\">\n",
              "           </div>\n",
              "           <div class=\"details\">\n",
              "             <h3 style='color:black;'>reviews_per_month</h3>\n",
              "            <span>Quantidade de Reviews por mês.</span>\n",
              "           </div>\n",
              "         </div>\n",
              "        </div>\n",
              "        <div class=\"card\">\n",
              "         <div class=\"content\">\n",
              "           <div class=\"img\">\n",
              "               <img src=\"https://news.airbnb.com/wp-content/uploads/sites/4/2018/07/gif-n3_airbnb_1200.gif\" alt=\"airbnb\">\n",
              "           </div>\n",
              "           <div class=\"details\">\n",
              "              <h3 style='color:black;'>calculated host listings count</h3>\n",
              "            <span>Quantidade de imóveis do mesmo anfitrião.</span>\n",
              "           </div>\n",
              "         </div>\n",
              "        </div>\n",
              "      </div>\n",
              "      <div class=\"cards\">\n",
              "        <div class=\"card\">\n",
              "         <div class=\"content\">\n",
              "           <div class=\"img\">\n",
              "              <img src=\"https://cdn.dribbble.com/users/500242/screenshots/3834025/airbnb-dribbble2.gif\" alt=\"airbnb\">\n",
              "           </div>\n",
              "           <div class=\"details\">\n",
              "             <h3 style='color:black;' >availability_365</h3>\n",
              "            <span>Indicador do número total de dias em que o anúncio está disponível durante o ano.</span>\n",
              "           </div>\n",
              "         </div>\n",
              "        </div>\n",
              "        <div class=\"card\">\n",
              "         <div class=\"content\">\n",
              "           <div class=\"img\">\n",
              "            <img src=\"https://i.pinimg.com/originals/46/5b/c4/465bc4bc137942ccd0a2a8ecb96387e8.gif\" alt=\"airbnb\">\n",
              "           </div>\n",
              "           <div class=\"details\">\n",
              "              <h3 style='color:black;'>number_of_reviews_ltm</h3>\n",
              "            <span>Numero de Reviews dos últimos Doze Meses.</span>\n",
              "           </div>\n",
              "         </div>\n",
              "        </div>\n",
              "        <div class=\"card\">\n",
              "         <div class=\"content\">\n",
              "           <div class=\"img\">\n",
              "              <img src=\"https://i.pinimg.com/originals/a3/cd/30/a3cd30c0ba0e7f827dfe22e7a7011cd8.gif\" alt=\"airbnb\">\n",
              "\n",
              "           </div>\n",
              "           <div class=\"details\">\n",
              "              <h3 style='color:black;'>license</h3>\n",
              "            <span>Número da apólice da propriedade.</span>\n",
              "           </div>\n",
              "         </div>\n",
              "        </div>\n",
              "      </div>\n",
              "    </div>\n",
              "    <div class=\"button\">\n",
              "      <label for=\"one\" class=\" active one\"></label>\n",
              "      <label for=\"two\" class=\"two\"></label>\n",
              "      <label for=\"tree\" class=\"tree\"></label>\n",
              "      <label for=\"four\" class=\"four\"></label>\n",
              "      <label for=\"five\" class=\"five\"></label>\n",
              "      <label for=\"six\" class=\"six\"></label>\n",
              "\n",
              "    </div>\n",
              "  </div>\n",
              "</body>\n",
              "</html>\n",
              "<style>\n",
              "    @import url('https://fonts.googleapis.com/css2?family=Poppins:wght@200;300;400;500;600;700&display=swap');\n",
              "*{\n",
              "    margin: 0;\n",
              "    padding: 0;\n",
              "    box-sizing: border-box;\n",
              "    font-family: \"Poppins\", sans-serif;\n",
              "}\n",
              "body{\n",
              "  display: flex;\n",
              "  justify-content: start;\n",
              "  align-items: center;\n",
              "  color: #434343;\n",
              "\n",
              "  font-size: 16px\n",
              "}\n",
              "::selection{\n",
              "  background:   #FF676D;\n",
              "  color: #fff;\n",
              "}\n",
              ".container{\n",
              "  max-width: 850px;\n",
              "  width: 100%;\n",
              "  overflow: hidden;\n",
              "  padding: 15px 0;\n",
              "\n",
              "}\n",
              ".container .main-card{\n",
              "  display: flex;\n",
              "  justify-content: space-evenly;\n",
              "  width: 600%;\n",
              "  transition: 1s;\n",
              "\n",
              "}\n",
              "#two:checked ~ .main-card{\n",
              "  margin-left: -100%;\n",
              "}\n",
              "#tree:checked ~ .main-card{\n",
              "  margin-left: -200%;\n",
              "}\n",
              "#four:checked ~ .main-card{\n",
              "  margin-left: -300%;\n",
              "}\n",
              "#five:checked ~ .main-card{\n",
              "  margin-left: -400%;\n",
              "}\n",
              "#six:checked ~ .main-card{\n",
              "  margin-left: -500%;\n",
              "}\n",
              ".container .main-card .cards{\n",
              "  width: calc(100% / 3 - 10px);\n",
              "  display: flex;\n",
              "  flex-wrap: wrap;\n",
              "  margin: 0 20px;\n",
              "  justify-content: space-between;\n",
              "\n",
              "}\n",
              ".main-card .cards .card{\n",
              "  width: calc(100% / 3 - 10px);\n",
              "  background: #fff;\n",
              "  border-radius: 12px;\n",
              "  padding: 30px;\n",
              "  box-shadow: 0 5px 10px rgba(0, 0, 0, 0.25);\n",
              "  transition: all 0.4s ease;\n",
              "  box-shadow: 20px 20px 50px -30px red;\n",
              "\n",
              "\n",
              "}\n",
              ".main-card .cards .card:hover{\n",
              "  transform: translateY(-15px);\n",
              "}\n",
              ".cards .card .content{\n",
              "  width: 100%;\n",
              "  display: flex;\n",
              "  flex-direction: column;\n",
              "  justify-content: center;\n",
              "  align-items: center;\n",
              "  text-align: center;\n",
              "\n",
              "\n",
              "}\n",
              ".cards .card .content .img{\n",
              "  width: 7em;\n",
              "  height: 7em;\n",
              "  border-radius: 50%;\n",
              "  border: 5px solid red;\n",
              "  padding: 0px;\n",
              "  margin-bottom: 2em;\n",
              "}\n",
              ".card .content .img img{\n",
              "  height: 100%;\n",
              "  width: 100%;\n",
              "  border: 3px solid #ffff;\n",
              "  border-radius: 50%;\n",
              "  object-fit: cover;\n",
              "}\n",
              "\n",
              "\n",
              "\n",
              ".container .button{\n",
              "  width: 100%;\n",
              "  display: flex;\n",
              "  justify-content: center;\n",
              "  margin: 20px;\n",
              "}\n",
              ".button label{\n",
              "  height: 15px;\n",
              "  width: 15px;\n",
              "  border-radius: 20px;\n",
              "  background: #fff;\n",
              "  margin: 0 4px;\n",
              "  cursor: pointer;\n",
              "  transition: all 0.5s ease;\n",
              "}\n",
              "h3 {\n",
              "    font-size: 100%;\n",
              "    margin: 16px 0;\n",
              "}\n",
              ".button label.active{\n",
              "  width: 35px;\n",
              "}\n",
              "#one:checked ~ .button .one{\n",
              "  width: 35px;\n",
              "}\n",
              "#one:checked ~ .button .two{\n",
              "  width: 15px;\n",
              "}\n",
              "#two:checked ~ .button .one{\n",
              "  width: 15px;\n",
              "}\n",
              "#two:checked ~ .button .two{\n",
              "  width: 35px;\n",
              "}\n",
              "#tree:checked ~ .button .two{\n",
              "  width: 15px;\n",
              "}\n",
              "#tree:checked ~ .button .one{\n",
              "  width: 15px;\n",
              "}\n",
              "#tree:checked ~ .button .tree{\n",
              "  width: 35px;\n",
              "}\n",
              "#four:checked ~ .button .one{\n",
              "  width: 15px;\n",
              "}\n",
              "#four:checked ~ .button .tree{\n",
              "  width: 15px;\n",
              "}\n",
              "#four:checked ~ .button .four{\n",
              "  width: 35px;\n",
              "}\n",
              "#five:checked ~ .button .four{\n",
              "  width: 15px;\n",
              "}\n",
              "#five:checked ~ .button .one{\n",
              "  width: 15px;\n",
              "}\n",
              "#five:checked ~ .button .five{\n",
              "  width: 35px;\n",
              "}\n",
              "#six:checked ~ .button .five{\n",
              "  width: 15px;\n",
              "}\n",
              "#six:checked ~ .button .one{\n",
              "  width: 15px;\n",
              "}\n",
              "#six:checked ~ .button .six{\n",
              "  width: 35px;\n",
              "}\n",
              "input[type=\"radio\"]{\n",
              "  display: none;\n",
              "}\n",
              "@media (max-width: 768px) {\n",
              "  .main-card .cards .card{\n",
              "    margin: 20px 0 10px 0;\n",
              "    width: calc(100% / 2 - 10px);\n",
              "  }\n",
              "}\n",
              "@media (max-width: 720px) {\n",
              "  .main-card .cards .card{\n",
              "    margin: 5px 0 5px 0;\n",
              "    width: 30%;\n",
              "    flex-direction: column;\n",
              "\n",
              "  }\n",
              "}\n",
              "\n",
              "</style>\n"
            ]
          },
          "metadata": {}
        }
      ],
      "source": [
        "#@title Consulte o dicionário 👇\n",
        "%%html\n",
        "<!DOCTYPE html>\n",
        "<html lang=\"en\" dir=\"ltr\">\n",
        "  <head>\n",
        "    <meta charset=\"UTF-8\">\n",
        "    <link rel=\"stylesheet\" href=\"style.css\">\n",
        "    <link rel=\"stylesheet\" href=\"https://cdnjs.cloudflare.com/ajax/libs/font-awesome/5.15.2/css/all.:min.css\"/>\n",
        "     <meta name=\"viewport\" content=\"width=device-width, initial-scale=1.0\">\n",
        "   </head>\n",
        "<body>\n",
        "  <div class=\"container\">\n",
        "    <input type=\"radio\" name=\"dot\" id=\"one\">\n",
        "    <input type=\"radio\" name=\"dot\" id=\"two\">\n",
        "    <input type=\"radio\" name=\"dot\" id=\"tree\">\n",
        "    <input type=\"radio\" name=\"dot\" id=\"four\">\n",
        "    <input type=\"radio\" name=\"dot\" id=\"five\">\n",
        "    <input type=\"radio\" name=\"dot\" id=\"six\">\n",
        "\n",
        "\n",
        "\n",
        "    <div class=\"main-card\">\n",
        "      <div class=\"cards\">\n",
        "        <div class=\"card\">\n",
        "         <div class=\"content\">\n",
        "           <div class=\"img\">\n",
        "            <img src=\"https://c.tenor.com/BAGbC68hRz8AAAAC/airbnb-globe.gif\" alt=\"airbnb\">\n",
        "          </div>\n",
        "           <div class=\"details\">\n",
        "             <h3 style='color:black;' >id</h3>\n",
        "            <span>Numero de Indentificação do imovel.</span>\n",
        "           </div>\n",
        "         </div>\n",
        "        </div>\n",
        "        <div class=\"card\">\n",
        "         <div class=\"content\">\n",
        "           <div class=\"img\">\n",
        "              <img src=\"https://i.gifer.com/embedded/download/4Bsa.gif\" alt=\"airbnb\">\n",
        "           </div>\n",
        "           <div class=\"details\">\n",
        "             <h3 style='color:black;'>name</h3>\n",
        "            <span>Nome da propriedade.</span>\n",
        "           </div>\n",
        "         </div>\n",
        "        </div>\n",
        "        <div class=\"card\">\n",
        "         <div class=\"content\">\n",
        "           <div class=\"img\">\n",
        "            <img src=\"https://i.pinimg.com/originals/9f/75/7f/9f757ffb3e2aaf3daa0d1eaf2268bd50.gif\" alt=\"airbnb\">\n",
        "           </div>\n",
        "           <div class=\"details\">\n",
        "              <h3 style='color:black;' >host_id</h3>\n",
        "            <span>Numero de Indentificação do proprietário do imovel(anfitrião).</span>\n",
        "           </div>\n",
        "         </div>\n",
        "        </div>\n",
        "      </div>\n",
        "      <div class=\"cards\">\n",
        "        <div class=\"card\">\n",
        "         <div class=\"content\">\n",
        "           <div class=\"img\">\n",
        "            <img src=\"https://media.itsnicethat.com/original_images/563b97a87fa44cff9d001760.gif\" alt=\"airbnb\">\n",
        "           </div>\n",
        "           <div class=\"details\">\n",
        "             <h3 style='color:black;' >host_name</h3>\n",
        "            <span>Nome do proprietário do imovel(anfitrião).</span>\n",
        "           </div>\n",
        "         </div>\n",
        "        </div>\n",
        "        <div class=\"card\">\n",
        "         <div class=\"content\">\n",
        "           <div class=\"img\">\n",
        "            <img src=\"https://www.gizmodo.com.au/wp-content/uploads/sites/2/2016/09/09/cnfjdlbjzjdzhea3q8q5.gif\" alt=\"airbnb.\">\n",
        "           </div>\n",
        "           <div class=\"details\">\n",
        "             <h3 style='color:black;'>neighbourhood_group</h3>\n",
        "            <span>Não contém nenhum valor valido(dados ausentes).</span>\n",
        "           </div>\n",
        "         </div>\n",
        "        </div>\n",
        "        <div class=\"card\">\n",
        "         <div class=\"content\">\n",
        "           <div class=\"img\">\n",
        "            <img src=\"https://i.gifer.com/94WF.gif\" alt=\"airbnb.\">\n",
        "           </div>\n",
        "           <div class=\"details\">\n",
        "              <h3 style='color:black;' >neighbourhood</h3>\n",
        "            <span>Nome do Bairro.</span>\n",
        "           </div>\n",
        "         </div>\n",
        "        </div>\n",
        "      </div>\n",
        "      \n",
        "      <div class=\"cards\">\n",
        "        <div class=\"card\">\n",
        "         <div class=\"content\">\n",
        "           <div class=\"img\">\n",
        "            <img src=\"https://cdn.dribbble.com/users/97602/screenshots/2337410/one_man_band.gif\" alt=\"airbnb\">\n",
        "          </div>\n",
        "           <div class=\"details\">\n",
        "             <h3 style='color:black;' >latitude</h3>\n",
        "            <span>coordenada da latitude da propriedade.</span>\n",
        "           </div>\n",
        "         </div>\n",
        "        </div>\n",
        "        <div class=\"card\">\n",
        "         <div class=\"content\">\n",
        "           <div class=\"img\">  \n",
        "                <img src=\"https://freight.cargo.site/t/original/i/4023ad65cfeb26b9c2dea6d154dd39531b2b102007a344c1cb4c467cf73676c9/1.gif\" alt=\"airbnb\">\n",
        "           </div>\n",
        "           <div class=\"details\">\n",
        "             <h3 style='color:black;'>longitude</h3>\n",
        "            <span>coordenada da longitude da propriedade.</span>\n",
        "           </div>\n",
        "         </div>\n",
        "        </div>\n",
        "        <div class=\"card\">\n",
        "         <div class=\"content\">\n",
        "           <div class=\"img\">\n",
        "               <img src=\"https://freight.cargo.site/t/original/i/94d9ed5cb0cbeb35e96d16b491e3aaff791253b00e4518406fcacb9c10dec9f9/4.gif\" alt=\"airbnb\">\n",
        "           </div>\n",
        "           <div class=\"details\">\n",
        "              <h3 style='color:black;' >room_type</h3>\n",
        "            <span>O tipo de quarto.</span>\n",
        "           </div>\n",
        "         </div>\n",
        "        </div>\n",
        "      </div>\n",
        "      <div class=\"cards\">\n",
        "        <div class=\"card\">\n",
        "         <div class=\"content\">\n",
        "           <div class=\"img\">\n",
        "                <img src=\"https://i.pinimg.com/originals/01/db/ee/01dbee81a7d4b7678c08bd53b16a18b4.gif\" alt=\"airbnb\">\n",
        "           </div>\n",
        "           <div class=\"details\">\n",
        "             <h3 style='color:black;' >price</h3>\n",
        "            <span>preço para alugar o imóvel.</span>\n",
        "           </div>\n",
        "         </div>\n",
        "        </div>\n",
        "        <div class=\"card\">\n",
        "         <div class=\"content\">\n",
        "           <div class=\"img\">\n",
        "                <img src=\"https://etapes.com/app/uploads/2015/11/1446805788.gif\" alt=\"airbnb\">\n",
        "           </div>\n",
        "           <div class=\"details\">\n",
        "             <h3 style='color:black;'>minimum_nights</h3>\n",
        "            <span>O número mínimo de noites que um hóspede pode reservar seu aluguel de temporada.</span>\n",
        "           </div>\n",
        "         </div>\n",
        "        </div>\n",
        "        <div class=\"card\">\n",
        "         <div class=\"content\">\n",
        "           <div class=\"img\">\n",
        "               <img src=\"https://i.pinimg.com/originals/99/86/9d/99869df9eb48204eeaf26ff49cbc72fe.gif\" alt=\"airbnb\">\n",
        "           </div>\n",
        "           <div class=\"details\">\n",
        "              <h3 style='color:black;'>number_of_reviews</h3>\n",
        "            <span>Número de Reviews da propriedade.</span>\n",
        "           </div>\n",
        "         </div>\n",
        "        </div>\n",
        "      </div>\n",
        "      <div class=\"cards\">\n",
        "        <div class=\"card\">\n",
        "         <div class=\"content\">\n",
        "           <div class=\"img\">\n",
        "             <img src=\"https://mir-s3-cdn-cf.behance.net/project_modules/fs/81474438433363.576176f7e65ee.gif\" alt=\"airbnb\">\n",
        "           </div>\n",
        "           <div class=\"details\">\n",
        "             <h3 style='color:black;'>last_review</h3>\n",
        "            <span>Data da Ultima Review.</span>\n",
        "           </div>\n",
        "         </div>\n",
        "        </div>\n",
        "        <div class=\"card\">\n",
        "         <div class=\"content\">\n",
        "           <div class=\"img\">\n",
        "                <img src=\"https://cdn.dribbble.com/users/1937292/screenshots/6962478/video-1565151647.gif\" alt=\"airbnb\">\n",
        "           </div>\n",
        "           <div class=\"details\">\n",
        "             <h3 style='color:black;'>reviews_per_month</h3>\n",
        "            <span>Quantidade de Reviews por mês.</span>\n",
        "           </div>\n",
        "         </div>\n",
        "        </div>\n",
        "        <div class=\"card\">\n",
        "         <div class=\"content\">\n",
        "           <div class=\"img\">\n",
        "               <img src=\"https://news.airbnb.com/wp-content/uploads/sites/4/2018/07/gif-n3_airbnb_1200.gif\" alt=\"airbnb\">\n",
        "           </div>\n",
        "           <div class=\"details\">\n",
        "              <h3 style='color:black;'>calculated host listings count</h3>\n",
        "            <span>Quantidade de imóveis do mesmo anfitrião.</span>\n",
        "           </div>\n",
        "         </div>\n",
        "        </div>\n",
        "      </div>\n",
        "      <div class=\"cards\">\n",
        "        <div class=\"card\">\n",
        "         <div class=\"content\">\n",
        "           <div class=\"img\">\n",
        "              <img src=\"https://cdn.dribbble.com/users/500242/screenshots/3834025/airbnb-dribbble2.gif\" alt=\"airbnb\">\n",
        "           </div>\n",
        "           <div class=\"details\">\n",
        "             <h3 style='color:black;' >availability_365</h3>\n",
        "            <span>Indicador do número total de dias em que o anúncio está disponível durante o ano.</span>\n",
        "           </div>\n",
        "         </div>\n",
        "        </div>\n",
        "        <div class=\"card\">\n",
        "         <div class=\"content\">\n",
        "           <div class=\"img\">\n",
        "            <img src=\"https://i.pinimg.com/originals/46/5b/c4/465bc4bc137942ccd0a2a8ecb96387e8.gif\" alt=\"airbnb\">\n",
        "           </div>\n",
        "           <div class=\"details\">\n",
        "              <h3 style='color:black;'>number_of_reviews_ltm</h3>\n",
        "            <span>Numero de Reviews dos últimos Doze Meses.</span>\n",
        "           </div>\n",
        "         </div>\n",
        "        </div>\n",
        "        <div class=\"card\">\n",
        "         <div class=\"content\">\n",
        "           <div class=\"img\">\n",
        "              <img src=\"https://i.pinimg.com/originals/a3/cd/30/a3cd30c0ba0e7f827dfe22e7a7011cd8.gif\" alt=\"airbnb\">\n",
        "\n",
        "           </div>\n",
        "           <div class=\"details\">\n",
        "              <h3 style='color:black;'>license</h3>\n",
        "            <span>Número da apólice da propriedade.</span>\n",
        "           </div>\n",
        "         </div>\n",
        "        </div>\n",
        "      </div>\n",
        "    </div>\n",
        "    <div class=\"button\">\n",
        "      <label for=\"one\" class=\" active one\"></label>\n",
        "      <label for=\"two\" class=\"two\"></label>\n",
        "      <label for=\"tree\" class=\"tree\"></label>\n",
        "      <label for=\"four\" class=\"four\"></label>\n",
        "      <label for=\"five\" class=\"five\"></label>\n",
        "      <label for=\"six\" class=\"six\"></label>\n",
        "\n",
        "    </div>\n",
        "  </div>\n",
        "</body>\n",
        "</html>\n",
        "<style>\n",
        "    @import url('https://fonts.googleapis.com/css2?family=Poppins:wght@200;300;400;500;600;700&display=swap');\n",
        "*{\n",
        "    margin: 0;\n",
        "    padding: 0;\n",
        "    box-sizing: border-box;\n",
        "    font-family: \"Poppins\", sans-serif;\n",
        "}\n",
        "body{\n",
        "  display: flex;\n",
        "  justify-content: start;\n",
        "  align-items: center;\n",
        "  color: #434343;\n",
        "\n",
        "  font-size: 16px\n",
        "}\n",
        "::selection{\n",
        "  background:   #FF676D;\n",
        "  color: #fff;\n",
        "}\n",
        ".container{\n",
        "  max-width: 850px;\n",
        "  width: 100%;\n",
        "  overflow: hidden;\n",
        "  padding: 15px 0;\n",
        "\n",
        "}\n",
        ".container .main-card{\n",
        "  display: flex;\n",
        "  justify-content: space-evenly;\n",
        "  width: 600%;\n",
        "  transition: 1s;\n",
        "\n",
        "}\n",
        "#two:checked ~ .main-card{\n",
        "  margin-left: -100%;\n",
        "}\n",
        "#tree:checked ~ .main-card{\n",
        "  margin-left: -200%;\n",
        "}\n",
        "#four:checked ~ .main-card{\n",
        "  margin-left: -300%;\n",
        "}\n",
        "#five:checked ~ .main-card{\n",
        "  margin-left: -400%;\n",
        "}\n",
        "#six:checked ~ .main-card{\n",
        "  margin-left: -500%;\n",
        "}\n",
        ".container .main-card .cards{\n",
        "  width: calc(100% / 3 - 10px);\n",
        "  display: flex;\n",
        "  flex-wrap: wrap;\n",
        "  margin: 0 20px;\n",
        "  justify-content: space-between;\n",
        "\n",
        "}\n",
        ".main-card .cards .card{\n",
        "  width: calc(100% / 3 - 10px);\n",
        "  background: #fff;\n",
        "  border-radius: 12px;\n",
        "  padding: 30px;\n",
        "  box-shadow: 0 5px 10px rgba(0, 0, 0, 0.25);\n",
        "  transition: all 0.4s ease;\n",
        "  box-shadow: 20px 20px 50px -30px red;\n",
        "\n",
        "\n",
        "}\n",
        ".main-card .cards .card:hover{\n",
        "  transform: translateY(-15px);\n",
        "}\n",
        ".cards .card .content{\n",
        "  width: 100%;\n",
        "  display: flex;\n",
        "  flex-direction: column;\n",
        "  justify-content: center;\n",
        "  align-items: center;\n",
        "  text-align: center;\n",
        "\n",
        "\n",
        "}\n",
        ".cards .card .content .img{\n",
        "  width: 7em;\n",
        "  height: 7em;\n",
        "  border-radius: 50%;\n",
        "  border: 5px solid red;\n",
        "  padding: 0px;\n",
        "  margin-bottom: 2em;\n",
        "}\n",
        ".card .content .img img{\n",
        "  height: 100%;\n",
        "  width: 100%;\n",
        "  border: 3px solid #ffff;\n",
        "  border-radius: 50%;\n",
        "  object-fit: cover;\n",
        "}\n",
        "\n",
        "\n",
        "\n",
        ".container .button{\n",
        "  width: 100%;\n",
        "  display: flex;\n",
        "  justify-content: center;\n",
        "  margin: 20px;\n",
        "}\n",
        ".button label{\n",
        "  height: 15px;\n",
        "  width: 15px;\n",
        "  border-radius: 20px;\n",
        "  background: #fff;\n",
        "  margin: 0 4px;\n",
        "  cursor: pointer;\n",
        "  transition: all 0.5s ease;\n",
        "}\n",
        "h3 {\n",
        "    font-size: 100%;\n",
        "    margin: 16px 0;\n",
        "}\n",
        ".button label.active{\n",
        "  width: 35px;\n",
        "}\n",
        "#one:checked ~ .button .one{\n",
        "  width: 35px;\n",
        "}\n",
        "#one:checked ~ .button .two{\n",
        "  width: 15px;\n",
        "}\n",
        "#two:checked ~ .button .one{\n",
        "  width: 15px;\n",
        "}\n",
        "#two:checked ~ .button .two{\n",
        "  width: 35px;\n",
        "}\n",
        "#tree:checked ~ .button .two{\n",
        "  width: 15px;\n",
        "}\n",
        "#tree:checked ~ .button .one{\n",
        "  width: 15px;\n",
        "}\n",
        "#tree:checked ~ .button .tree{\n",
        "  width: 35px;\n",
        "}\n",
        "#four:checked ~ .button .one{\n",
        "  width: 15px;\n",
        "}\n",
        "#four:checked ~ .button .tree{\n",
        "  width: 15px;\n",
        "}\n",
        "#four:checked ~ .button .four{\n",
        "  width: 35px;\n",
        "}\n",
        "#five:checked ~ .button .four{\n",
        "  width: 15px;\n",
        "}\n",
        "#five:checked ~ .button .one{\n",
        "  width: 15px;\n",
        "}\n",
        "#five:checked ~ .button .five{\n",
        "  width: 35px;\n",
        "}\n",
        "#six:checked ~ .button .five{\n",
        "  width: 15px;\n",
        "}\n",
        "#six:checked ~ .button .one{\n",
        "  width: 15px;\n",
        "}\n",
        "#six:checked ~ .button .six{\n",
        "  width: 35px;\n",
        "}\n",
        "input[type=\"radio\"]{\n",
        "  display: none;\n",
        "}\n",
        "@media (max-width: 768px) {\n",
        "  .main-card .cards .card{\n",
        "    margin: 20px 0 10px 0;\n",
        "    width: calc(100% / 2 - 10px);\n",
        "  }\n",
        "}\n",
        "@media (max-width: 720px) {\n",
        "  .main-card .cards .card{\n",
        "    margin: 5px 0 5px 0;\n",
        "    width: 30%;\n",
        "    flex-direction: column;\n",
        "\n",
        "  }\n",
        "}\n",
        "\n",
        "</style>"
      ]
    },
    {
      "cell_type": "markdown",
      "source": [
        "## **nálise dos Dados** <img align=\"left\" alt=\"Colaboratory logo\" width=\"3.0%\" src=\"https://cdn2.iconfinder.com/data/icons/ios-14-custom-application/62/application-22-256.png\">\n",
        "\n",
        "💹 Esta etapa tem por objetivo permitir um entendimento de como os dados estão estruturados."
      ],
      "metadata": {
        "id": "79LgErOkdGFj"
      }
    },
    {
      "cell_type": "markdown",
      "source": [
        "* Antes de iniciar a análise dos dados, vamos verificar o nosso *dataset*, analisando as 5 primeiras entradas.\n"
      ],
      "metadata": {
        "id": "CBw3CRw1VUTP"
      }
    },
    {
      "cell_type": "code",
      "source": [
        "df_geneve.head()"
      ],
      "metadata": {
        "colab": {
          "base_uri": "https://localhost:8080/",
          "height": 600
        },
        "id": "AFN_mUzCVVp4",
        "outputId": "edeaf3be-a980-40d7-fe8d-f5f0218c18da"
      },
      "execution_count": null,
      "outputs": [
        {
          "output_type": "execute_result",
          "data": {
            "text/plain": [
              "       id                                            name  host_id host_name  \\\n",
              "0   42515                 Geneva center - Hosting females   185647    Noelle   \n",
              "1   44959  Perfect Cozy Bedroom Close to Lake & Transport   198343      Rita   \n",
              "2  276025                      Lovely flat by Geneva lake  1442438      Gaby   \n",
              "3  325986              Stylish loft in Pâquis, next to UN  1667362     Virna   \n",
              "4  338682             Top location 1 block from the lake!  1001280      Mike   \n",
              "\n",
              "   neighbourhood_group      neighbourhood  latitude  longitude  \\\n",
              "0                  NaN  Commune de Genève  46.20140    6.15507   \n",
              "1                  NaN  Commune de Genève  46.19704    6.16076   \n",
              "2                  NaN            Versoix  46.27944    6.16724   \n",
              "3                  NaN  Commune de Genève  46.21428    6.14610   \n",
              "4                  NaN  Commune de Genève  46.20682    6.15526   \n",
              "\n",
              "         room_type  price  minimum_nights  number_of_reviews last_review  \\\n",
              "0     Private room     79               3                 63  2022-05-28   \n",
              "1     Private room     59               1                 49  2020-04-03   \n",
              "2  Entire home/apt     70               7                110  2022-05-28   \n",
              "3  Entire home/apt    150               7                108  2021-11-10   \n",
              "4  Entire home/apt    157               5                104  2022-03-13   \n",
              "\n",
              "   reviews_per_month  calculated_host_listings_count  availability_365  \\\n",
              "0               0.48                               1               355   \n",
              "1               0.34                               1                 0   \n",
              "2               0.88                               1               234   \n",
              "3               0.88                               2               192   \n",
              "4               0.83                               1                52   \n",
              "\n",
              "   number_of_reviews_ltm license  \n",
              "0                      5     NaN  \n",
              "1                      0     NaN  \n",
              "2                      3     NaN  \n",
              "3                      4     NaN  \n",
              "4                      9     NaN  "
            ],
            "text/html": [
              "\n",
              "  <div id=\"df-4fac05cc-3dcf-40be-9b83-120a71928ead\">\n",
              "    <div class=\"colab-df-container\">\n",
              "      <div>\n",
              "<style scoped>\n",
              "    .dataframe tbody tr th:only-of-type {\n",
              "        vertical-align: middle;\n",
              "    }\n",
              "\n",
              "    .dataframe tbody tr th {\n",
              "        vertical-align: top;\n",
              "    }\n",
              "\n",
              "    .dataframe thead th {\n",
              "        text-align: right;\n",
              "    }\n",
              "</style>\n",
              "<table border=\"1\" class=\"dataframe\">\n",
              "  <thead>\n",
              "    <tr style=\"text-align: right;\">\n",
              "      <th></th>\n",
              "      <th>id</th>\n",
              "      <th>name</th>\n",
              "      <th>host_id</th>\n",
              "      <th>host_name</th>\n",
              "      <th>neighbourhood_group</th>\n",
              "      <th>neighbourhood</th>\n",
              "      <th>latitude</th>\n",
              "      <th>longitude</th>\n",
              "      <th>room_type</th>\n",
              "      <th>price</th>\n",
              "      <th>minimum_nights</th>\n",
              "      <th>number_of_reviews</th>\n",
              "      <th>last_review</th>\n",
              "      <th>reviews_per_month</th>\n",
              "      <th>calculated_host_listings_count</th>\n",
              "      <th>availability_365</th>\n",
              "      <th>number_of_reviews_ltm</th>\n",
              "      <th>license</th>\n",
              "    </tr>\n",
              "  </thead>\n",
              "  <tbody>\n",
              "    <tr>\n",
              "      <th>0</th>\n",
              "      <td>42515</td>\n",
              "      <td>Geneva center - Hosting females</td>\n",
              "      <td>185647</td>\n",
              "      <td>Noelle</td>\n",
              "      <td>NaN</td>\n",
              "      <td>Commune de Genève</td>\n",
              "      <td>46.20140</td>\n",
              "      <td>6.15507</td>\n",
              "      <td>Private room</td>\n",
              "      <td>79</td>\n",
              "      <td>3</td>\n",
              "      <td>63</td>\n",
              "      <td>2022-05-28</td>\n",
              "      <td>0.48</td>\n",
              "      <td>1</td>\n",
              "      <td>355</td>\n",
              "      <td>5</td>\n",
              "      <td>NaN</td>\n",
              "    </tr>\n",
              "    <tr>\n",
              "      <th>1</th>\n",
              "      <td>44959</td>\n",
              "      <td>Perfect Cozy Bedroom Close to Lake &amp; Transport</td>\n",
              "      <td>198343</td>\n",
              "      <td>Rita</td>\n",
              "      <td>NaN</td>\n",
              "      <td>Commune de Genève</td>\n",
              "      <td>46.19704</td>\n",
              "      <td>6.16076</td>\n",
              "      <td>Private room</td>\n",
              "      <td>59</td>\n",
              "      <td>1</td>\n",
              "      <td>49</td>\n",
              "      <td>2020-04-03</td>\n",
              "      <td>0.34</td>\n",
              "      <td>1</td>\n",
              "      <td>0</td>\n",
              "      <td>0</td>\n",
              "      <td>NaN</td>\n",
              "    </tr>\n",
              "    <tr>\n",
              "      <th>2</th>\n",
              "      <td>276025</td>\n",
              "      <td>Lovely flat by Geneva lake</td>\n",
              "      <td>1442438</td>\n",
              "      <td>Gaby</td>\n",
              "      <td>NaN</td>\n",
              "      <td>Versoix</td>\n",
              "      <td>46.27944</td>\n",
              "      <td>6.16724</td>\n",
              "      <td>Entire home/apt</td>\n",
              "      <td>70</td>\n",
              "      <td>7</td>\n",
              "      <td>110</td>\n",
              "      <td>2022-05-28</td>\n",
              "      <td>0.88</td>\n",
              "      <td>1</td>\n",
              "      <td>234</td>\n",
              "      <td>3</td>\n",
              "      <td>NaN</td>\n",
              "    </tr>\n",
              "    <tr>\n",
              "      <th>3</th>\n",
              "      <td>325986</td>\n",
              "      <td>Stylish loft in Pâquis, next to UN</td>\n",
              "      <td>1667362</td>\n",
              "      <td>Virna</td>\n",
              "      <td>NaN</td>\n",
              "      <td>Commune de Genève</td>\n",
              "      <td>46.21428</td>\n",
              "      <td>6.14610</td>\n",
              "      <td>Entire home/apt</td>\n",
              "      <td>150</td>\n",
              "      <td>7</td>\n",
              "      <td>108</td>\n",
              "      <td>2021-11-10</td>\n",
              "      <td>0.88</td>\n",
              "      <td>2</td>\n",
              "      <td>192</td>\n",
              "      <td>4</td>\n",
              "      <td>NaN</td>\n",
              "    </tr>\n",
              "    <tr>\n",
              "      <th>4</th>\n",
              "      <td>338682</td>\n",
              "      <td>Top location 1 block from the lake!</td>\n",
              "      <td>1001280</td>\n",
              "      <td>Mike</td>\n",
              "      <td>NaN</td>\n",
              "      <td>Commune de Genève</td>\n",
              "      <td>46.20682</td>\n",
              "      <td>6.15526</td>\n",
              "      <td>Entire home/apt</td>\n",
              "      <td>157</td>\n",
              "      <td>5</td>\n",
              "      <td>104</td>\n",
              "      <td>2022-03-13</td>\n",
              "      <td>0.83</td>\n",
              "      <td>1</td>\n",
              "      <td>52</td>\n",
              "      <td>9</td>\n",
              "      <td>NaN</td>\n",
              "    </tr>\n",
              "  </tbody>\n",
              "</table>\n",
              "</div>\n",
              "      <button class=\"colab-df-convert\" onclick=\"convertToInteractive('df-4fac05cc-3dcf-40be-9b83-120a71928ead')\"\n",
              "              title=\"Convert this dataframe to an interactive table.\"\n",
              "              style=\"display:none;\">\n",
              "        \n",
              "  <svg xmlns=\"http://www.w3.org/2000/svg\" height=\"24px\"viewBox=\"0 0 24 24\"\n",
              "       width=\"24px\">\n",
              "    <path d=\"M0 0h24v24H0V0z\" fill=\"none\"/>\n",
              "    <path d=\"M18.56 5.44l.94 2.06.94-2.06 2.06-.94-2.06-.94-.94-2.06-.94 2.06-2.06.94zm-11 1L8.5 8.5l.94-2.06 2.06-.94-2.06-.94L8.5 2.5l-.94 2.06-2.06.94zm10 10l.94 2.06.94-2.06 2.06-.94-2.06-.94-.94-2.06-.94 2.06-2.06.94z\"/><path d=\"M17.41 7.96l-1.37-1.37c-.4-.4-.92-.59-1.43-.59-.52 0-1.04.2-1.43.59L10.3 9.45l-7.72 7.72c-.78.78-.78 2.05 0 2.83L4 21.41c.39.39.9.59 1.41.59.51 0 1.02-.2 1.41-.59l7.78-7.78 2.81-2.81c.8-.78.8-2.07 0-2.86zM5.41 20L4 18.59l7.72-7.72 1.47 1.35L5.41 20z\"/>\n",
              "  </svg>\n",
              "      </button>\n",
              "      \n",
              "  <style>\n",
              "    .colab-df-container {\n",
              "      display:flex;\n",
              "      flex-wrap:wrap;\n",
              "      gap: 12px;\n",
              "    }\n",
              "\n",
              "    .colab-df-convert {\n",
              "      background-color: #E8F0FE;\n",
              "      border: none;\n",
              "      border-radius: 50%;\n",
              "      cursor: pointer;\n",
              "      display: none;\n",
              "      fill: #1967D2;\n",
              "      height: 32px;\n",
              "      padding: 0 0 0 0;\n",
              "      width: 32px;\n",
              "    }\n",
              "\n",
              "    .colab-df-convert:hover {\n",
              "      background-color: #E2EBFA;\n",
              "      box-shadow: 0px 1px 2px rgba(60, 64, 67, 0.3), 0px 1px 3px 1px rgba(60, 64, 67, 0.15);\n",
              "      fill: #174EA6;\n",
              "    }\n",
              "\n",
              "    [theme=dark] .colab-df-convert {\n",
              "      background-color: #3B4455;\n",
              "      fill: #D2E3FC;\n",
              "    }\n",
              "\n",
              "    [theme=dark] .colab-df-convert:hover {\n",
              "      background-color: #434B5C;\n",
              "      box-shadow: 0px 1px 3px 1px rgba(0, 0, 0, 0.15);\n",
              "      filter: drop-shadow(0px 1px 2px rgba(0, 0, 0, 0.3));\n",
              "      fill: #FFFFFF;\n",
              "    }\n",
              "  </style>\n",
              "\n",
              "      <script>\n",
              "        const buttonEl =\n",
              "          document.querySelector('#df-4fac05cc-3dcf-40be-9b83-120a71928ead button.colab-df-convert');\n",
              "        buttonEl.style.display =\n",
              "          google.colab.kernel.accessAllowed ? 'block' : 'none';\n",
              "\n",
              "        async function convertToInteractive(key) {\n",
              "          const element = document.querySelector('#df-4fac05cc-3dcf-40be-9b83-120a71928ead');\n",
              "          const dataTable =\n",
              "            await google.colab.kernel.invokeFunction('convertToInteractive',\n",
              "                                                     [key], {});\n",
              "          if (!dataTable) return;\n",
              "\n",
              "          const docLinkHtml = 'Like what you see? Visit the ' +\n",
              "            '<a target=\"_blank\" href=https://colab.research.google.com/notebooks/data_table.ipynb>data table notebook</a>'\n",
              "            + ' to learn more about interactive tables.';\n",
              "          element.innerHTML = '';\n",
              "          dataTable['output_type'] = 'display_data';\n",
              "          await google.colab.output.renderOutput(dataTable, element);\n",
              "          const docLink = document.createElement('div');\n",
              "          docLink.innerHTML = docLinkHtml;\n",
              "          element.appendChild(docLink);\n",
              "        }\n",
              "      </script>\n",
              "    </div>\n",
              "  </div>\n",
              "  "
            ]
          },
          "metadata": {},
          "execution_count": 97
        }
      ]
    },
    {
      "cell_type": "markdown",
      "source": [
        "###**1. Quantos atributos (variáveis) e quantas entradas o nosso conjunto de dados possui ❓ Quais os tipos das variáveis ❓**\n",
        "\n",
        "* Vamos dar uma olhada em quantos registros nosso conjunto de dados possui e e observar o tipo de cada coluna."
      ],
      "metadata": {
        "id": "IJf_krEN32MG"
      }
    },
    {
      "cell_type": "code",
      "source": [
        "#@title **Visualize as informações no card 👇**\n",
        "\n",
        "print(Panel(f'''\n",
        "[bright_white]Entradas: {df_geneve.shape[0]}\n",
        "Variaveis:[bright_white] {df_geneve.shape[1]}[/]\n",
        "\n",
        "[bright_white]{df_geneve.dtypes}[/]''', \n",
        "expand=False, style='deep_pink2  on grey11', \n",
        "title='[bright_white]Tipo de Variaveis[/]'))\n"
      ],
      "metadata": {
        "colab": {
          "base_uri": "https://localhost:8080/",
          "height": 442
        },
        "id": "ysSydgzQds0d",
        "outputId": "d6948720-1bb2-46ea-84cf-113c37187089",
        "cellView": "form"
      },
      "execution_count": null,
      "outputs": [
        {
          "output_type": "display_data",
          "data": {
            "text/plain": [
              "\u001b[38;5;197;48;5;234m╭─\u001b[0m\u001b[38;5;197;48;5;234m───────────\u001b[0m\u001b[38;5;197;48;5;234m \u001b[0m\u001b[97;48;5;234mTipo de Variaveis\u001b[0m\u001b[38;5;197;48;5;234m \u001b[0m\u001b[38;5;197;48;5;234m───────────\u001b[0m\u001b[38;5;197;48;5;234m─╮\u001b[0m\n",
              "\u001b[38;5;197;48;5;234m│\u001b[0m\u001b[38;5;197;48;5;234m \u001b[0m\u001b[38;5;197;48;5;234m                                         \u001b[0m\u001b[38;5;197;48;5;234m \u001b[0m\u001b[38;5;197;48;5;234m│\u001b[0m\n",
              "\u001b[38;5;197;48;5;234m│\u001b[0m\u001b[38;5;197;48;5;234m \u001b[0m\u001b[97;48;5;234mEntradas: 3223\u001b[0m\u001b[38;5;197;48;5;234m                           \u001b[0m\u001b[38;5;197;48;5;234m \u001b[0m\u001b[38;5;197;48;5;234m│\u001b[0m\n",
              "\u001b[38;5;197;48;5;234m│\u001b[0m\u001b[38;5;197;48;5;234m \u001b[0m\u001b[97;48;5;234mVariaveis:\u001b[0m\u001b[97;48;5;234m 18\u001b[0m\u001b[38;5;197;48;5;234m                            \u001b[0m\u001b[38;5;197;48;5;234m \u001b[0m\u001b[38;5;197;48;5;234m│\u001b[0m\n",
              "\u001b[38;5;197;48;5;234m│\u001b[0m\u001b[38;5;197;48;5;234m \u001b[0m\u001b[38;5;197;48;5;234m                                         \u001b[0m\u001b[38;5;197;48;5;234m \u001b[0m\u001b[38;5;197;48;5;234m│\u001b[0m\n",
              "\u001b[38;5;197;48;5;234m│\u001b[0m\u001b[38;5;197;48;5;234m \u001b[0m\u001b[97;48;5;234mid                                  int64\u001b[0m\u001b[38;5;197;48;5;234m \u001b[0m\u001b[38;5;197;48;5;234m│\u001b[0m\n",
              "\u001b[38;5;197;48;5;234m│\u001b[0m\u001b[38;5;197;48;5;234m \u001b[0m\u001b[97;48;5;234mname                               object\u001b[0m\u001b[38;5;197;48;5;234m \u001b[0m\u001b[38;5;197;48;5;234m│\u001b[0m\n",
              "\u001b[38;5;197;48;5;234m│\u001b[0m\u001b[38;5;197;48;5;234m \u001b[0m\u001b[97;48;5;234mhost_id                             int64\u001b[0m\u001b[38;5;197;48;5;234m \u001b[0m\u001b[38;5;197;48;5;234m│\u001b[0m\n",
              "\u001b[38;5;197;48;5;234m│\u001b[0m\u001b[38;5;197;48;5;234m \u001b[0m\u001b[97;48;5;234mhost_name                          object\u001b[0m\u001b[38;5;197;48;5;234m \u001b[0m\u001b[38;5;197;48;5;234m│\u001b[0m\n",
              "\u001b[38;5;197;48;5;234m│\u001b[0m\u001b[38;5;197;48;5;234m \u001b[0m\u001b[97;48;5;234mneighbourhood_group               float64\u001b[0m\u001b[38;5;197;48;5;234m \u001b[0m\u001b[38;5;197;48;5;234m│\u001b[0m\n",
              "\u001b[38;5;197;48;5;234m│\u001b[0m\u001b[38;5;197;48;5;234m \u001b[0m\u001b[97;48;5;234mneighbourhood                      object\u001b[0m\u001b[38;5;197;48;5;234m \u001b[0m\u001b[38;5;197;48;5;234m│\u001b[0m\n",
              "\u001b[38;5;197;48;5;234m│\u001b[0m\u001b[38;5;197;48;5;234m \u001b[0m\u001b[97;48;5;234mlatitude                          float64\u001b[0m\u001b[38;5;197;48;5;234m \u001b[0m\u001b[38;5;197;48;5;234m│\u001b[0m\n",
              "\u001b[38;5;197;48;5;234m│\u001b[0m\u001b[38;5;197;48;5;234m \u001b[0m\u001b[97;48;5;234mlongitude                         float64\u001b[0m\u001b[38;5;197;48;5;234m \u001b[0m\u001b[38;5;197;48;5;234m│\u001b[0m\n",
              "\u001b[38;5;197;48;5;234m│\u001b[0m\u001b[38;5;197;48;5;234m \u001b[0m\u001b[97;48;5;234mroom_type                          object\u001b[0m\u001b[38;5;197;48;5;234m \u001b[0m\u001b[38;5;197;48;5;234m│\u001b[0m\n",
              "\u001b[38;5;197;48;5;234m│\u001b[0m\u001b[38;5;197;48;5;234m \u001b[0m\u001b[97;48;5;234mprice                               int64\u001b[0m\u001b[38;5;197;48;5;234m \u001b[0m\u001b[38;5;197;48;5;234m│\u001b[0m\n",
              "\u001b[38;5;197;48;5;234m│\u001b[0m\u001b[38;5;197;48;5;234m \u001b[0m\u001b[97;48;5;234mminimum_nights                      int64\u001b[0m\u001b[38;5;197;48;5;234m \u001b[0m\u001b[38;5;197;48;5;234m│\u001b[0m\n",
              "\u001b[38;5;197;48;5;234m│\u001b[0m\u001b[38;5;197;48;5;234m \u001b[0m\u001b[97;48;5;234mnumber_of_reviews                   int64\u001b[0m\u001b[38;5;197;48;5;234m \u001b[0m\u001b[38;5;197;48;5;234m│\u001b[0m\n",
              "\u001b[38;5;197;48;5;234m│\u001b[0m\u001b[38;5;197;48;5;234m \u001b[0m\u001b[97;48;5;234mlast_review                        object\u001b[0m\u001b[38;5;197;48;5;234m \u001b[0m\u001b[38;5;197;48;5;234m│\u001b[0m\n",
              "\u001b[38;5;197;48;5;234m│\u001b[0m\u001b[38;5;197;48;5;234m \u001b[0m\u001b[97;48;5;234mreviews_per_month                 float64\u001b[0m\u001b[38;5;197;48;5;234m \u001b[0m\u001b[38;5;197;48;5;234m│\u001b[0m\n",
              "\u001b[38;5;197;48;5;234m│\u001b[0m\u001b[38;5;197;48;5;234m \u001b[0m\u001b[97;48;5;234mcalculated_host_listings_count      int64\u001b[0m\u001b[38;5;197;48;5;234m \u001b[0m\u001b[38;5;197;48;5;234m│\u001b[0m\n",
              "\u001b[38;5;197;48;5;234m│\u001b[0m\u001b[38;5;197;48;5;234m \u001b[0m\u001b[97;48;5;234mavailability_365                    int64\u001b[0m\u001b[38;5;197;48;5;234m \u001b[0m\u001b[38;5;197;48;5;234m│\u001b[0m\n",
              "\u001b[38;5;197;48;5;234m│\u001b[0m\u001b[38;5;197;48;5;234m \u001b[0m\u001b[97;48;5;234mnumber_of_reviews_ltm               int64\u001b[0m\u001b[38;5;197;48;5;234m \u001b[0m\u001b[38;5;197;48;5;234m│\u001b[0m\n",
              "\u001b[38;5;197;48;5;234m│\u001b[0m\u001b[38;5;197;48;5;234m \u001b[0m\u001b[97;48;5;234mlicense                            object\u001b[0m\u001b[38;5;197;48;5;234m \u001b[0m\u001b[38;5;197;48;5;234m│\u001b[0m\n",
              "\u001b[38;5;197;48;5;234m│\u001b[0m\u001b[38;5;197;48;5;234m \u001b[0m\u001b[97;48;5;234mdtype: object\u001b[0m\u001b[38;5;197;48;5;234m                            \u001b[0m\u001b[38;5;197;48;5;234m \u001b[0m\u001b[38;5;197;48;5;234m│\u001b[0m\n",
              "\u001b[38;5;197;48;5;234m╰───────────────────────────────────────────╯\u001b[0m\n"
            ],
            "text/html": [
              "<pre style=\"white-space:pre;overflow-x:auto;line-height:normal;font-family:Menlo,'DejaVu Sans Mono',consolas,'Courier New',monospace\"><span style=\"color: #ff005f; text-decoration-color: #ff005f; background-color: #1c1c1c\">╭──────────── </span><span style=\"color: #ffffff; text-decoration-color: #ffffff; background-color: #1c1c1c\">Tipo de Variaveis</span><span style=\"color: #ff005f; text-decoration-color: #ff005f; background-color: #1c1c1c\"> ────────────╮</span>\n",
              "<span style=\"color: #ff005f; text-decoration-color: #ff005f; background-color: #1c1c1c\">│                                           │</span>\n",
              "<span style=\"color: #ff005f; text-decoration-color: #ff005f; background-color: #1c1c1c\">│ </span><span style=\"color: #ffffff; text-decoration-color: #ffffff; background-color: #1c1c1c\">Entradas: 3223</span><span style=\"color: #ff005f; text-decoration-color: #ff005f; background-color: #1c1c1c\">                            │</span>\n",
              "<span style=\"color: #ff005f; text-decoration-color: #ff005f; background-color: #1c1c1c\">│ </span><span style=\"color: #ffffff; text-decoration-color: #ffffff; background-color: #1c1c1c\">Variaveis: 18</span><span style=\"color: #ff005f; text-decoration-color: #ff005f; background-color: #1c1c1c\">                             │</span>\n",
              "<span style=\"color: #ff005f; text-decoration-color: #ff005f; background-color: #1c1c1c\">│                                           │</span>\n",
              "<span style=\"color: #ff005f; text-decoration-color: #ff005f; background-color: #1c1c1c\">│ </span><span style=\"color: #ffffff; text-decoration-color: #ffffff; background-color: #1c1c1c\">id                                  int64</span><span style=\"color: #ff005f; text-decoration-color: #ff005f; background-color: #1c1c1c\"> │</span>\n",
              "<span style=\"color: #ff005f; text-decoration-color: #ff005f; background-color: #1c1c1c\">│ </span><span style=\"color: #ffffff; text-decoration-color: #ffffff; background-color: #1c1c1c\">name                               object</span><span style=\"color: #ff005f; text-decoration-color: #ff005f; background-color: #1c1c1c\"> │</span>\n",
              "<span style=\"color: #ff005f; text-decoration-color: #ff005f; background-color: #1c1c1c\">│ </span><span style=\"color: #ffffff; text-decoration-color: #ffffff; background-color: #1c1c1c\">host_id                             int64</span><span style=\"color: #ff005f; text-decoration-color: #ff005f; background-color: #1c1c1c\"> │</span>\n",
              "<span style=\"color: #ff005f; text-decoration-color: #ff005f; background-color: #1c1c1c\">│ </span><span style=\"color: #ffffff; text-decoration-color: #ffffff; background-color: #1c1c1c\">host_name                          object</span><span style=\"color: #ff005f; text-decoration-color: #ff005f; background-color: #1c1c1c\"> │</span>\n",
              "<span style=\"color: #ff005f; text-decoration-color: #ff005f; background-color: #1c1c1c\">│ </span><span style=\"color: #ffffff; text-decoration-color: #ffffff; background-color: #1c1c1c\">neighbourhood_group               float64</span><span style=\"color: #ff005f; text-decoration-color: #ff005f; background-color: #1c1c1c\"> │</span>\n",
              "<span style=\"color: #ff005f; text-decoration-color: #ff005f; background-color: #1c1c1c\">│ </span><span style=\"color: #ffffff; text-decoration-color: #ffffff; background-color: #1c1c1c\">neighbourhood                      object</span><span style=\"color: #ff005f; text-decoration-color: #ff005f; background-color: #1c1c1c\"> │</span>\n",
              "<span style=\"color: #ff005f; text-decoration-color: #ff005f; background-color: #1c1c1c\">│ </span><span style=\"color: #ffffff; text-decoration-color: #ffffff; background-color: #1c1c1c\">latitude                          float64</span><span style=\"color: #ff005f; text-decoration-color: #ff005f; background-color: #1c1c1c\"> │</span>\n",
              "<span style=\"color: #ff005f; text-decoration-color: #ff005f; background-color: #1c1c1c\">│ </span><span style=\"color: #ffffff; text-decoration-color: #ffffff; background-color: #1c1c1c\">longitude                         float64</span><span style=\"color: #ff005f; text-decoration-color: #ff005f; background-color: #1c1c1c\"> │</span>\n",
              "<span style=\"color: #ff005f; text-decoration-color: #ff005f; background-color: #1c1c1c\">│ </span><span style=\"color: #ffffff; text-decoration-color: #ffffff; background-color: #1c1c1c\">room_type                          object</span><span style=\"color: #ff005f; text-decoration-color: #ff005f; background-color: #1c1c1c\"> │</span>\n",
              "<span style=\"color: #ff005f; text-decoration-color: #ff005f; background-color: #1c1c1c\">│ </span><span style=\"color: #ffffff; text-decoration-color: #ffffff; background-color: #1c1c1c\">price                               int64</span><span style=\"color: #ff005f; text-decoration-color: #ff005f; background-color: #1c1c1c\"> │</span>\n",
              "<span style=\"color: #ff005f; text-decoration-color: #ff005f; background-color: #1c1c1c\">│ </span><span style=\"color: #ffffff; text-decoration-color: #ffffff; background-color: #1c1c1c\">minimum_nights                      int64</span><span style=\"color: #ff005f; text-decoration-color: #ff005f; background-color: #1c1c1c\"> │</span>\n",
              "<span style=\"color: #ff005f; text-decoration-color: #ff005f; background-color: #1c1c1c\">│ </span><span style=\"color: #ffffff; text-decoration-color: #ffffff; background-color: #1c1c1c\">number_of_reviews                   int64</span><span style=\"color: #ff005f; text-decoration-color: #ff005f; background-color: #1c1c1c\"> │</span>\n",
              "<span style=\"color: #ff005f; text-decoration-color: #ff005f; background-color: #1c1c1c\">│ </span><span style=\"color: #ffffff; text-decoration-color: #ffffff; background-color: #1c1c1c\">last_review                        object</span><span style=\"color: #ff005f; text-decoration-color: #ff005f; background-color: #1c1c1c\"> │</span>\n",
              "<span style=\"color: #ff005f; text-decoration-color: #ff005f; background-color: #1c1c1c\">│ </span><span style=\"color: #ffffff; text-decoration-color: #ffffff; background-color: #1c1c1c\">reviews_per_month                 float64</span><span style=\"color: #ff005f; text-decoration-color: #ff005f; background-color: #1c1c1c\"> │</span>\n",
              "<span style=\"color: #ff005f; text-decoration-color: #ff005f; background-color: #1c1c1c\">│ </span><span style=\"color: #ffffff; text-decoration-color: #ffffff; background-color: #1c1c1c\">calculated_host_listings_count      int64</span><span style=\"color: #ff005f; text-decoration-color: #ff005f; background-color: #1c1c1c\"> │</span>\n",
              "<span style=\"color: #ff005f; text-decoration-color: #ff005f; background-color: #1c1c1c\">│ </span><span style=\"color: #ffffff; text-decoration-color: #ffffff; background-color: #1c1c1c\">availability_365                    int64</span><span style=\"color: #ff005f; text-decoration-color: #ff005f; background-color: #1c1c1c\"> │</span>\n",
              "<span style=\"color: #ff005f; text-decoration-color: #ff005f; background-color: #1c1c1c\">│ </span><span style=\"color: #ffffff; text-decoration-color: #ffffff; background-color: #1c1c1c\">number_of_reviews_ltm               int64</span><span style=\"color: #ff005f; text-decoration-color: #ff005f; background-color: #1c1c1c\"> │</span>\n",
              "<span style=\"color: #ff005f; text-decoration-color: #ff005f; background-color: #1c1c1c\">│ </span><span style=\"color: #ffffff; text-decoration-color: #ffffff; background-color: #1c1c1c\">license                            object</span><span style=\"color: #ff005f; text-decoration-color: #ff005f; background-color: #1c1c1c\"> │</span>\n",
              "<span style=\"color: #ff005f; text-decoration-color: #ff005f; background-color: #1c1c1c\">│ </span><span style=\"color: #ffffff; text-decoration-color: #ffffff; background-color: #1c1c1c\">dtype: object</span><span style=\"color: #ff005f; text-decoration-color: #ff005f; background-color: #1c1c1c\">                             │</span>\n",
              "<span style=\"color: #ff005f; text-decoration-color: #ff005f; background-color: #1c1c1c\">╰───────────────────────────────────────────╯</span>\n",
              "</pre>\n"
            ]
          },
          "metadata": {}
        }
      ]
    },
    {
      "cell_type": "markdown",
      "source": [
        "###  **2. Qual a porcentagem de valores ausentes no dataset ❓**  \n",
        "\n"
      ],
      "metadata": {
        "id": "yhQtcyOiuwcQ"
      }
    },
    {
      "cell_type": "markdown",
      "source": [
        "<p> A quantidade de Valores ausentes está associada a qualidade de um dataset,<p> é \n",
        "essencial entender se esses valores nulos são importantes comparados ao total de entradas.\n",
        "<br><br>\n",
        "\n",
        "* É possível constatar que a coluna `neighbourhood_group` possui 100% dos seus valores nulos.\n",
        " \n",
        "* Bem próximo dos 100% temos a coluna `license` que possui 98% dos dados nulos.\n",
        "\n",
        "* As colunas `reviews_per_month` e `last_review` apresentam aproximadamente 20% dos dados nulos."
      ],
      "metadata": {
        "id": "WmEiahJUGgRC"
      }
    },
    {
      "cell_type": "code",
      "source": [
        "#@title **Visualize as informações no card 👇**\n",
        "\n",
        "\n",
        "df_null = np.divide(df_geneve.isnull().sum(), len(df_geneve))*100\n",
        "\n",
        "print(Panel(f'''\n",
        "[bright_white]{df_null.sort_values(ascending=False).round(2)}[/]''', \n",
        "            style='salmon1 on grey11', \n",
        "            expand=False, \n",
        "            title='[bright_white]% de dados ausentes'\n",
        "            ))"
      ],
      "metadata": {
        "colab": {
          "base_uri": "https://localhost:8080/",
          "height": 369
        },
        "id": "pBhnxGyC4sNS",
        "outputId": "8ebd37a4-9483-4dec-eeff-9d7ad21349cf",
        "cellView": "form"
      },
      "execution_count": null,
      "outputs": [
        {
          "output_type": "display_data",
          "data": {
            "text/plain": [
              "\u001b[38;5;209;48;5;234m╭─\u001b[0m\u001b[38;5;209;48;5;234m─────────\u001b[0m\u001b[38;5;209;48;5;234m \u001b[0m\u001b[97;48;5;234m% de dados ausentes\u001b[0m\u001b[38;5;209;48;5;234m \u001b[0m\u001b[38;5;209;48;5;234m──────────\u001b[0m\u001b[38;5;209;48;5;234m─╮\u001b[0m\n",
              "\u001b[38;5;209;48;5;234m│\u001b[0m\u001b[38;5;209;48;5;234m \u001b[0m\u001b[38;5;209;48;5;234m                                        \u001b[0m\u001b[38;5;209;48;5;234m \u001b[0m\u001b[38;5;209;48;5;234m│\u001b[0m\n",
              "\u001b[38;5;209;48;5;234m│\u001b[0m\u001b[38;5;209;48;5;234m \u001b[0m\u001b[97;48;5;234mneighbourhood_group               100.00\u001b[0m\u001b[38;5;209;48;5;234m \u001b[0m\u001b[38;5;209;48;5;234m│\u001b[0m\n",
              "\u001b[38;5;209;48;5;234m│\u001b[0m\u001b[38;5;209;48;5;234m \u001b[0m\u001b[97;48;5;234mlicense                            98.63\u001b[0m\u001b[38;5;209;48;5;234m \u001b[0m\u001b[38;5;209;48;5;234m│\u001b[0m\n",
              "\u001b[38;5;209;48;5;234m│\u001b[0m\u001b[38;5;209;48;5;234m \u001b[0m\u001b[97;48;5;234mreviews_per_month                  20.35\u001b[0m\u001b[38;5;209;48;5;234m \u001b[0m\u001b[38;5;209;48;5;234m│\u001b[0m\n",
              "\u001b[38;5;209;48;5;234m│\u001b[0m\u001b[38;5;209;48;5;234m \u001b[0m\u001b[97;48;5;234mlast_review                        20.35\u001b[0m\u001b[38;5;209;48;5;234m \u001b[0m\u001b[38;5;209;48;5;234m│\u001b[0m\n",
              "\u001b[38;5;209;48;5;234m│\u001b[0m\u001b[38;5;209;48;5;234m \u001b[0m\u001b[97;48;5;234mminimum_nights                      0.00\u001b[0m\u001b[38;5;209;48;5;234m \u001b[0m\u001b[38;5;209;48;5;234m│\u001b[0m\n",
              "\u001b[38;5;209;48;5;234m│\u001b[0m\u001b[38;5;209;48;5;234m \u001b[0m\u001b[97;48;5;234mnumber_of_reviews_ltm               0.00\u001b[0m\u001b[38;5;209;48;5;234m \u001b[0m\u001b[38;5;209;48;5;234m│\u001b[0m\n",
              "\u001b[38;5;209;48;5;234m│\u001b[0m\u001b[38;5;209;48;5;234m \u001b[0m\u001b[97;48;5;234mavailability_365                    0.00\u001b[0m\u001b[38;5;209;48;5;234m \u001b[0m\u001b[38;5;209;48;5;234m│\u001b[0m\n",
              "\u001b[38;5;209;48;5;234m│\u001b[0m\u001b[38;5;209;48;5;234m \u001b[0m\u001b[97;48;5;234mcalculated_host_listings_count      0.00\u001b[0m\u001b[38;5;209;48;5;234m \u001b[0m\u001b[38;5;209;48;5;234m│\u001b[0m\n",
              "\u001b[38;5;209;48;5;234m│\u001b[0m\u001b[38;5;209;48;5;234m \u001b[0m\u001b[97;48;5;234mnumber_of_reviews                   0.00\u001b[0m\u001b[38;5;209;48;5;234m \u001b[0m\u001b[38;5;209;48;5;234m│\u001b[0m\n",
              "\u001b[38;5;209;48;5;234m│\u001b[0m\u001b[38;5;209;48;5;234m \u001b[0m\u001b[97;48;5;234mid                                  0.00\u001b[0m\u001b[38;5;209;48;5;234m \u001b[0m\u001b[38;5;209;48;5;234m│\u001b[0m\n",
              "\u001b[38;5;209;48;5;234m│\u001b[0m\u001b[38;5;209;48;5;234m \u001b[0m\u001b[97;48;5;234mname                                0.00\u001b[0m\u001b[38;5;209;48;5;234m \u001b[0m\u001b[38;5;209;48;5;234m│\u001b[0m\n",
              "\u001b[38;5;209;48;5;234m│\u001b[0m\u001b[38;5;209;48;5;234m \u001b[0m\u001b[97;48;5;234mroom_type                           0.00\u001b[0m\u001b[38;5;209;48;5;234m \u001b[0m\u001b[38;5;209;48;5;234m│\u001b[0m\n",
              "\u001b[38;5;209;48;5;234m│\u001b[0m\u001b[38;5;209;48;5;234m \u001b[0m\u001b[97;48;5;234mlongitude                           0.00\u001b[0m\u001b[38;5;209;48;5;234m \u001b[0m\u001b[38;5;209;48;5;234m│\u001b[0m\n",
              "\u001b[38;5;209;48;5;234m│\u001b[0m\u001b[38;5;209;48;5;234m \u001b[0m\u001b[97;48;5;234mlatitude                            0.00\u001b[0m\u001b[38;5;209;48;5;234m \u001b[0m\u001b[38;5;209;48;5;234m│\u001b[0m\n",
              "\u001b[38;5;209;48;5;234m│\u001b[0m\u001b[38;5;209;48;5;234m \u001b[0m\u001b[97;48;5;234mneighbourhood                       0.00\u001b[0m\u001b[38;5;209;48;5;234m \u001b[0m\u001b[38;5;209;48;5;234m│\u001b[0m\n",
              "\u001b[38;5;209;48;5;234m│\u001b[0m\u001b[38;5;209;48;5;234m \u001b[0m\u001b[97;48;5;234mhost_name                           0.00\u001b[0m\u001b[38;5;209;48;5;234m \u001b[0m\u001b[38;5;209;48;5;234m│\u001b[0m\n",
              "\u001b[38;5;209;48;5;234m│\u001b[0m\u001b[38;5;209;48;5;234m \u001b[0m\u001b[97;48;5;234mhost_id                             0.00\u001b[0m\u001b[38;5;209;48;5;234m \u001b[0m\u001b[38;5;209;48;5;234m│\u001b[0m\n",
              "\u001b[38;5;209;48;5;234m│\u001b[0m\u001b[38;5;209;48;5;234m \u001b[0m\u001b[97;48;5;234mprice                               0.00\u001b[0m\u001b[38;5;209;48;5;234m \u001b[0m\u001b[38;5;209;48;5;234m│\u001b[0m\n",
              "\u001b[38;5;209;48;5;234m│\u001b[0m\u001b[38;5;209;48;5;234m \u001b[0m\u001b[97;48;5;234mdtype: float64\u001b[0m\u001b[38;5;209;48;5;234m                          \u001b[0m\u001b[38;5;209;48;5;234m \u001b[0m\u001b[38;5;209;48;5;234m│\u001b[0m\n",
              "\u001b[38;5;209;48;5;234m╰──────────────────────────────────────────╯\u001b[0m\n"
            ],
            "text/html": [
              "<pre style=\"white-space:pre;overflow-x:auto;line-height:normal;font-family:Menlo,'DejaVu Sans Mono',consolas,'Courier New',monospace\"><span style=\"color: #ff875f; text-decoration-color: #ff875f; background-color: #1c1c1c\">╭────────── </span><span style=\"color: #ffffff; text-decoration-color: #ffffff; background-color: #1c1c1c\">% de dados ausentes</span><span style=\"color: #ff875f; text-decoration-color: #ff875f; background-color: #1c1c1c\"> ───────────╮</span>\n",
              "<span style=\"color: #ff875f; text-decoration-color: #ff875f; background-color: #1c1c1c\">│                                          │</span>\n",
              "<span style=\"color: #ff875f; text-decoration-color: #ff875f; background-color: #1c1c1c\">│ </span><span style=\"color: #ffffff; text-decoration-color: #ffffff; background-color: #1c1c1c\">neighbourhood_group               100.00</span><span style=\"color: #ff875f; text-decoration-color: #ff875f; background-color: #1c1c1c\"> │</span>\n",
              "<span style=\"color: #ff875f; text-decoration-color: #ff875f; background-color: #1c1c1c\">│ </span><span style=\"color: #ffffff; text-decoration-color: #ffffff; background-color: #1c1c1c\">license                            98.63</span><span style=\"color: #ff875f; text-decoration-color: #ff875f; background-color: #1c1c1c\"> │</span>\n",
              "<span style=\"color: #ff875f; text-decoration-color: #ff875f; background-color: #1c1c1c\">│ </span><span style=\"color: #ffffff; text-decoration-color: #ffffff; background-color: #1c1c1c\">reviews_per_month                  20.35</span><span style=\"color: #ff875f; text-decoration-color: #ff875f; background-color: #1c1c1c\"> │</span>\n",
              "<span style=\"color: #ff875f; text-decoration-color: #ff875f; background-color: #1c1c1c\">│ </span><span style=\"color: #ffffff; text-decoration-color: #ffffff; background-color: #1c1c1c\">last_review                        20.35</span><span style=\"color: #ff875f; text-decoration-color: #ff875f; background-color: #1c1c1c\"> │</span>\n",
              "<span style=\"color: #ff875f; text-decoration-color: #ff875f; background-color: #1c1c1c\">│ </span><span style=\"color: #ffffff; text-decoration-color: #ffffff; background-color: #1c1c1c\">minimum_nights                      0.00</span><span style=\"color: #ff875f; text-decoration-color: #ff875f; background-color: #1c1c1c\"> │</span>\n",
              "<span style=\"color: #ff875f; text-decoration-color: #ff875f; background-color: #1c1c1c\">│ </span><span style=\"color: #ffffff; text-decoration-color: #ffffff; background-color: #1c1c1c\">number_of_reviews_ltm               0.00</span><span style=\"color: #ff875f; text-decoration-color: #ff875f; background-color: #1c1c1c\"> │</span>\n",
              "<span style=\"color: #ff875f; text-decoration-color: #ff875f; background-color: #1c1c1c\">│ </span><span style=\"color: #ffffff; text-decoration-color: #ffffff; background-color: #1c1c1c\">availability_365                    0.00</span><span style=\"color: #ff875f; text-decoration-color: #ff875f; background-color: #1c1c1c\"> │</span>\n",
              "<span style=\"color: #ff875f; text-decoration-color: #ff875f; background-color: #1c1c1c\">│ </span><span style=\"color: #ffffff; text-decoration-color: #ffffff; background-color: #1c1c1c\">calculated_host_listings_count      0.00</span><span style=\"color: #ff875f; text-decoration-color: #ff875f; background-color: #1c1c1c\"> │</span>\n",
              "<span style=\"color: #ff875f; text-decoration-color: #ff875f; background-color: #1c1c1c\">│ </span><span style=\"color: #ffffff; text-decoration-color: #ffffff; background-color: #1c1c1c\">number_of_reviews                   0.00</span><span style=\"color: #ff875f; text-decoration-color: #ff875f; background-color: #1c1c1c\"> │</span>\n",
              "<span style=\"color: #ff875f; text-decoration-color: #ff875f; background-color: #1c1c1c\">│ </span><span style=\"color: #ffffff; text-decoration-color: #ffffff; background-color: #1c1c1c\">id                                  0.00</span><span style=\"color: #ff875f; text-decoration-color: #ff875f; background-color: #1c1c1c\"> │</span>\n",
              "<span style=\"color: #ff875f; text-decoration-color: #ff875f; background-color: #1c1c1c\">│ </span><span style=\"color: #ffffff; text-decoration-color: #ffffff; background-color: #1c1c1c\">name                                0.00</span><span style=\"color: #ff875f; text-decoration-color: #ff875f; background-color: #1c1c1c\"> │</span>\n",
              "<span style=\"color: #ff875f; text-decoration-color: #ff875f; background-color: #1c1c1c\">│ </span><span style=\"color: #ffffff; text-decoration-color: #ffffff; background-color: #1c1c1c\">room_type                           0.00</span><span style=\"color: #ff875f; text-decoration-color: #ff875f; background-color: #1c1c1c\"> │</span>\n",
              "<span style=\"color: #ff875f; text-decoration-color: #ff875f; background-color: #1c1c1c\">│ </span><span style=\"color: #ffffff; text-decoration-color: #ffffff; background-color: #1c1c1c\">longitude                           0.00</span><span style=\"color: #ff875f; text-decoration-color: #ff875f; background-color: #1c1c1c\"> │</span>\n",
              "<span style=\"color: #ff875f; text-decoration-color: #ff875f; background-color: #1c1c1c\">│ </span><span style=\"color: #ffffff; text-decoration-color: #ffffff; background-color: #1c1c1c\">latitude                            0.00</span><span style=\"color: #ff875f; text-decoration-color: #ff875f; background-color: #1c1c1c\"> │</span>\n",
              "<span style=\"color: #ff875f; text-decoration-color: #ff875f; background-color: #1c1c1c\">│ </span><span style=\"color: #ffffff; text-decoration-color: #ffffff; background-color: #1c1c1c\">neighbourhood                       0.00</span><span style=\"color: #ff875f; text-decoration-color: #ff875f; background-color: #1c1c1c\"> │</span>\n",
              "<span style=\"color: #ff875f; text-decoration-color: #ff875f; background-color: #1c1c1c\">│ </span><span style=\"color: #ffffff; text-decoration-color: #ffffff; background-color: #1c1c1c\">host_name                           0.00</span><span style=\"color: #ff875f; text-decoration-color: #ff875f; background-color: #1c1c1c\"> │</span>\n",
              "<span style=\"color: #ff875f; text-decoration-color: #ff875f; background-color: #1c1c1c\">│ </span><span style=\"color: #ffffff; text-decoration-color: #ffffff; background-color: #1c1c1c\">host_id                             0.00</span><span style=\"color: #ff875f; text-decoration-color: #ff875f; background-color: #1c1c1c\"> │</span>\n",
              "<span style=\"color: #ff875f; text-decoration-color: #ff875f; background-color: #1c1c1c\">│ </span><span style=\"color: #ffffff; text-decoration-color: #ffffff; background-color: #1c1c1c\">price                               0.00</span><span style=\"color: #ff875f; text-decoration-color: #ff875f; background-color: #1c1c1c\"> │</span>\n",
              "<span style=\"color: #ff875f; text-decoration-color: #ff875f; background-color: #1c1c1c\">│ </span><span style=\"color: #ffffff; text-decoration-color: #ffffff; background-color: #1c1c1c\">dtype: float64</span><span style=\"color: #ff875f; text-decoration-color: #ff875f; background-color: #1c1c1c\">                           │</span>\n",
              "<span style=\"color: #ff875f; text-decoration-color: #ff875f; background-color: #1c1c1c\">╰──────────────────────────────────────────╯</span>\n",
              "</pre>\n"
            ]
          },
          "metadata": {}
        }
      ]
    },
    {
      "cell_type": "markdown",
      "source": [
        "  ### **3. Qual o tipo de distribuição das variáveis ❓**\n",
        "\n"
      ],
      "metadata": {
        "id": "83AZ2NK7uTWY"
      }
    },
    {
      "cell_type": "markdown",
      "source": [
        "Em um conjunto de dados é importante descrever o comportamento de como os valores estão distribuídos,\n",
        "<br>usaremos o histograma para identificar a distribuição das variáveis numéricas."
      ],
      "metadata": {
        "id": "nbuPcyI3GvNM"
      }
    },
    {
      "cell_type": "code",
      "source": [
        "df_geneve.hist(bins=15, figsize=(15,10));"
      ],
      "metadata": {
        "id": "rqzuUPI0uwKD",
        "colab": {
          "base_uri": "https://localhost:8080/",
          "height": 607
        },
        "outputId": "c452d287-261c-4ae5-e78c-2f3b0ba4c9ed"
      },
      "execution_count": null,
      "outputs": [
        {
          "output_type": "display_data",
          "data": {
            "text/plain": [
              "<Figure size 1080x720 with 12 Axes>"
            ],
            "image/png": "[encoded data removed]"
          },
          "metadata": {
            "needs_background": "light"
          }
        }
      ]
    },
    {
      "cell_type": "markdown",
      "metadata": {
        "id": "7x4aw1j5wNmn"
      },
      "source": [
        "### **4. Há *outliers* presentes❓**\n"
      ]
    },
    {
      "cell_type": "markdown",
      "source": [
        "Analisando a distribuição dos nossos dados, é possível constatar alguns vislumbres de outlier, verifique, por exemplo, as variáveis `Price`, `minimum_nights` e `calculated_host_listings_count`.\n",
        "\n",
        "Utilizaremos dois métodos para identificar outliers:\n",
        "\n",
        "* Através de um resumo estatístico `Describe()` conseguimos explorar a tendência central, a dispersão e a forma da distribuição de um conjunto de dados, excluindo `NaN` valores.\n",
        "\n",
        "* Plotar um `boxplot` para cada variável numérica.\n",
        "\n",
        "\n",
        "\n"
      ],
      "metadata": {
        "id": "y8cps9c286oM"
      }
    },
    {
      "cell_type": "code",
      "source": [
        "df_geneve.describe().iloc[:, 5:]"
      ],
      "metadata": {
        "colab": {
          "base_uri": "https://localhost:8080/",
          "height": 300
        },
        "id": "qe6HuEGKFp7Z",
        "outputId": "ca168453-bcaf-4420-bcd6-5701d6bd4830"
      },
      "execution_count": null,
      "outputs": [
        {
          "output_type": "execute_result",
          "data": {
            "text/plain": [
              "              price  minimum_nights  number_of_reviews  reviews_per_month  \\\n",
              "count   3223.000000     3223.000000        3223.000000        2567.000000   \n",
              "mean     127.295067        6.641018          22.085014           1.033272   \n",
              "std      225.426269       25.729962          47.625598           1.393001   \n",
              "min        0.000000        1.000000           0.000000           0.010000   \n",
              "25%       65.000000        1.000000           1.000000           0.220000   \n",
              "50%       92.000000        2.000000           6.000000           0.570000   \n",
              "75%      135.500000        5.000000          22.000000           1.230000   \n",
              "max    10184.000000     1100.000000         562.000000          18.510000   \n",
              "\n",
              "       calculated_host_listings_count  availability_365  number_of_reviews_ltm  \n",
              "count                     3223.000000       3223.000000            3223.000000  \n",
              "mean                        10.057400        179.423208               5.920571  \n",
              "std                         24.742776        131.478614              11.798295  \n",
              "min                          1.000000          0.000000               0.000000  \n",
              "25%                          1.000000         50.000000               0.000000  \n",
              "50%                          1.000000        172.000000               1.000000  \n",
              "75%                          4.000000        312.000000               7.000000  \n",
              "max                        114.000000        365.000000             226.000000  "
            ],
            "text/html": [
              "\n",
              "  <div id=\"df-3b4e469b-088d-4e01-9529-7a219b580012\">\n",
              "    <div class=\"colab-df-container\">\n",
              "      <div>\n",
              "<style scoped>\n",
              "    .dataframe tbody tr th:only-of-type {\n",
              "        vertical-align: middle;\n",
              "    }\n",
              "\n",
              "    .dataframe tbody tr th {\n",
              "        vertical-align: top;\n",
              "    }\n",
              "\n",
              "    .dataframe thead th {\n",
              "        text-align: right;\n",
              "    }\n",
              "</style>\n",
              "<table border=\"1\" class=\"dataframe\">\n",
              "  <thead>\n",
              "    <tr style=\"text-align: right;\">\n",
              "      <th></th>\n",
              "      <th>price</th>\n",
              "      <th>minimum_nights</th>\n",
              "      <th>number_of_reviews</th>\n",
              "      <th>reviews_per_month</th>\n",
              "      <th>calculated_host_listings_count</th>\n",
              "      <th>availability_365</th>\n",
              "      <th>number_of_reviews_ltm</th>\n",
              "    </tr>\n",
              "  </thead>\n",
              "  <tbody>\n",
              "    <tr>\n",
              "      <th>count</th>\n",
              "      <td>3223.000000</td>\n",
              "      <td>3223.000000</td>\n",
              "      <td>3223.000000</td>\n",
              "      <td>2567.000000</td>\n",
              "      <td>3223.000000</td>\n",
              "      <td>3223.000000</td>\n",
              "      <td>3223.000000</td>\n",
              "    </tr>\n",
              "    <tr>\n",
              "      <th>mean</th>\n",
              "      <td>127.295067</td>\n",
              "      <td>6.641018</td>\n",
              "      <td>22.085014</td>\n",
              "      <td>1.033272</td>\n",
              "      <td>10.057400</td>\n",
              "      <td>179.423208</td>\n",
              "      <td>5.920571</td>\n",
              "    </tr>\n",
              "    <tr>\n",
              "      <th>std</th>\n",
              "      <td>225.426269</td>\n",
              "      <td>25.729962</td>\n",
              "      <td>47.625598</td>\n",
              "      <td>1.393001</td>\n",
              "      <td>24.742776</td>\n",
              "      <td>131.478614</td>\n",
              "      <td>11.798295</td>\n",
              "    </tr>\n",
              "    <tr>\n",
              "      <th>min</th>\n",
              "      <td>0.000000</td>\n",
              "      <td>1.000000</td>\n",
              "      <td>0.000000</td>\n",
              "      <td>0.010000</td>\n",
              "      <td>1.000000</td>\n",
              "      <td>0.000000</td>\n",
              "      <td>0.000000</td>\n",
              "    </tr>\n",
              "    <tr>\n",
              "      <th>25%</th>\n",
              "      <td>65.000000</td>\n",
              "      <td>1.000000</td>\n",
              "      <td>1.000000</td>\n",
              "      <td>0.220000</td>\n",
              "      <td>1.000000</td>\n",
              "      <td>50.000000</td>\n",
              "      <td>0.000000</td>\n",
              "    </tr>\n",
              "    <tr>\n",
              "      <th>50%</th>\n",
              "      <td>92.000000</td>\n",
              "      <td>2.000000</td>\n",
              "      <td>6.000000</td>\n",
              "      <td>0.570000</td>\n",
              "      <td>1.000000</td>\n",
              "      <td>172.000000</td>\n",
              "      <td>1.000000</td>\n",
              "    </tr>\n",
              "    <tr>\n",
              "      <th>75%</th>\n",
              "      <td>135.500000</td>\n",
              "      <td>5.000000</td>\n",
              "      <td>22.000000</td>\n",
              "      <td>1.230000</td>\n",
              "      <td>4.000000</td>\n",
              "      <td>312.000000</td>\n",
              "      <td>7.000000</td>\n",
              "    </tr>\n",
              "    <tr>\n",
              "      <th>max</th>\n",
              "      <td>10184.000000</td>\n",
              "      <td>1100.000000</td>\n",
              "      <td>562.000000</td>\n",
              "      <td>18.510000</td>\n",
              "      <td>114.000000</td>\n",
              "      <td>365.000000</td>\n",
              "      <td>226.000000</td>\n",
              "    </tr>\n",
              "  </tbody>\n",
              "</table>\n",
              "</div>\n",
              "      <button class=\"colab-df-convert\" onclick=\"convertToInteractive('df-3b4e469b-088d-4e01-9529-7a219b580012')\"\n",
              "              title=\"Convert this dataframe to an interactive table.\"\n",
              "              style=\"display:none;\">\n",
              "        \n",
              "  <svg xmlns=\"http://www.w3.org/2000/svg\" height=\"24px\"viewBox=\"0 0 24 24\"\n",
              "       width=\"24px\">\n",
              "    <path d=\"M0 0h24v24H0V0z\" fill=\"none\"/>\n",
              "    <path d=\"M18.56 5.44l.94 2.06.94-2.06 2.06-.94-2.06-.94-.94-2.06-.94 2.06-2.06.94zm-11 1L8.5 8.5l.94-2.06 2.06-.94-2.06-.94L8.5 2.5l-.94 2.06-2.06.94zm10 10l.94 2.06.94-2.06 2.06-.94-2.06-.94-.94-2.06-.94 2.06-2.06.94z\"/><path d=\"M17.41 7.96l-1.37-1.37c-.4-.4-.92-.59-1.43-.59-.52 0-1.04.2-1.43.59L10.3 9.45l-7.72 7.72c-.78.78-.78 2.05 0 2.83L4 21.41c.39.39.9.59 1.41.59.51 0 1.02-.2 1.41-.59l7.78-7.78 2.81-2.81c.8-.78.8-2.07 0-2.86zM5.41 20L4 18.59l7.72-7.72 1.47 1.35L5.41 20z\"/>\n",
              "  </svg>\n",
              "      </button>\n",
              "      \n",
              "  <style>\n",
              "    .colab-df-container {\n",
              "      display:flex;\n",
              "      flex-wrap:wrap;\n",
              "      gap: 12px;\n",
              "    }\n",
              "\n",
              "    .colab-df-convert {\n",
              "      background-color: #E8F0FE;\n",
              "      border: none;\n",
              "      border-radius: 50%;\n",
              "      cursor: pointer;\n",
              "      display: none;\n",
              "      fill: #1967D2;\n",
              "      height: 32px;\n",
              "      padding: 0 0 0 0;\n",
              "      width: 32px;\n",
              "    }\n",
              "\n",
              "    .colab-df-convert:hover {\n",
              "      background-color: #E2EBFA;\n",
              "      box-shadow: 0px 1px 2px rgba(60, 64, 67, 0.3), 0px 1px 3px 1px rgba(60, 64, 67, 0.15);\n",
              "      fill: #174EA6;\n",
              "    }\n",
              "\n",
              "    [theme=dark] .colab-df-convert {\n",
              "      background-color: #3B4455;\n",
              "      fill: #D2E3FC;\n",
              "    }\n",
              "\n",
              "    [theme=dark] .colab-df-convert:hover {\n",
              "      background-color: #434B5C;\n",
              "      box-shadow: 0px 1px 3px 1px rgba(0, 0, 0, 0.15);\n",
              "      filter: drop-shadow(0px 1px 2px rgba(0, 0, 0, 0.3));\n",
              "      fill: #FFFFFF;\n",
              "    }\n",
              "  </style>\n",
              "\n",
              "      <script>\n",
              "        const buttonEl =\n",
              "          document.querySelector('#df-3b4e469b-088d-4e01-9529-7a219b580012 button.colab-df-convert');\n",
              "        buttonEl.style.display =\n",
              "          google.colab.kernel.accessAllowed ? 'block' : 'none';\n",
              "\n",
              "        async function convertToInteractive(key) {\n",
              "          const element = document.querySelector('#df-3b4e469b-088d-4e01-9529-7a219b580012');\n",
              "          const dataTable =\n",
              "            await google.colab.kernel.invokeFunction('convertToInteractive',\n",
              "                                                     [key], {});\n",
              "          if (!dataTable) return;\n",
              "\n",
              "          const docLinkHtml = 'Like what you see? Visit the ' +\n",
              "            '<a target=\"_blank\" href=https://colab.research.google.com/notebooks/data_table.ipynb>data table notebook</a>'\n",
              "            + ' to learn more about interactive tables.';\n",
              "          element.innerHTML = '';\n",
              "          dataTable['output_type'] = 'display_data';\n",
              "          await google.colab.output.renderOutput(dataTable, element);\n",
              "          const docLink = document.createElement('div');\n",
              "          docLink.innerHTML = docLinkHtml;\n",
              "          element.appendChild(docLink);\n",
              "        }\n",
              "      </script>\n",
              "    </div>\n",
              "  </div>\n",
              "  "
            ]
          },
          "metadata": {},
          "execution_count": 69
        }
      ]
    },
    {
      "cell_type": "markdown",
      "source": [
        "Com o resumo estatístico acima, podemos validar algumas hipóteses como:\n",
        "\n",
        "* Na coluna `minimum_night` o numero maximo de noites minimas é de ***1100***, um valor que esta claramente acima de 365 dias no ano. \n",
        "\n",
        "* Em `price`, averiguamos que 75% do valor está abaixo de **135**, porém temos um registro do valor máximo que é **10184**\n",
        "\n",
        "* O desvio Padrão para todas as Variáveis apresenta-se com um valor alto em relação à média, isso é um grande indicativo de que existem valores estão muito distantes do centro, sustentando a hipótese da presença de outliers."
      ],
      "metadata": {
        "id": "G5m5Rg9e-bg3"
      }
    },
    {
      "cell_type": "code",
      "source": [
        "fig, ax = plt.subplots(2,3, figsize=(20,16))\n",
        "df_geneve.minimum_nights.plot(kind='box', figsize=(15, 10), ax=ax[0,0])\n",
        "df_geneve.price.plot(kind='box', figsize=(15, 10), ax=ax[0,1])\n",
        "df_geneve.calculated_host_listings_count.plot(kind='box', figsize=(15, 12), ax=ax[0,2])\n",
        "df_geneve.number_of_reviews.plot(kind='box', figsize=(15, 10), ax=ax[1,0])\n",
        "df_geneve.number_of_reviews_ltm.plot(kind='box', figsize=(15, 10), ax=ax[1,1])\n",
        "df_geneve.reviews_per_month.plot(kind='box', figsize=(15, 10), ax=ax[1,2])\n",
        "plt.show()\n"
      ],
      "metadata": {
        "colab": {
          "base_uri": "https://localhost:8080/",
          "height": 592
        },
        "id": "Di-iraTJ0HJf",
        "outputId": "24e8af3c-19d9-43f2-e4a3-dfca4880a3b3"
      },
      "execution_count": null,
      "outputs": [
        {
          "output_type": "display_data",
          "data": {
            "text/plain": [
              "<Figure size 1080x720 with 6 Axes>"
            ],
            "image/png": "[encoded data removed]"
          },
          "metadata": {
            "needs_background": "light"
          }
        }
      ]
    },
    {
      "cell_type": "markdown",
      "source": [
        "Verificando os Boxplots, conseguimos ver claramente que temos outliers presentes. Para tratá-los vamos seguir os seguintes passos:\n",
        "\n",
        "* Definir o Q1 e Q3 para as variáveis que serão limpas.\n",
        "* Calcular o IQR para as variáveis.\n",
        "* Definir o limite superior e inferior para cortar os outliers.\n",
        "* Remover os outliers.\n"
      ],
      "metadata": {
        "id": "u7py-ERq0t4C"
      }
    },
    {
      "cell_type": "markdown",
      "source": [
        "#### Identificando os outliers (`price`)"
      ],
      "metadata": {
        "id": "jiu3e4xk_mWi"
      }
    },
    {
      "cell_type": "code",
      "source": [
        "# identificando os outliers para a variável price\n",
        "q1_price = df_geneve.price.quantile(.25)\n",
        "q3_price = df_geneve.price.quantile(.75)\n",
        "IQR_price = q3_price - q1_price\n",
        "print('IQR da variável price: ', IQR_price)\n",
        "\n",
        "# definindo os limites                                       \n",
        "sup_price = q3_price + (1.5 * IQR_price)\n",
        "inf_price = q1_price - (1.5 * IQR_price)\n",
        "\n",
        "print('Limite superior de price: ', sup_price)\n",
        "print('Limite inferior de price: ', inf_price)"
      ],
      "metadata": {
        "colab": {
          "base_uri": "https://localhost:8080/",
          "height": 68
        },
        "id": "t8n5vYVJ1wtF",
        "outputId": "6298b3e1-9f1f-4704-9f4c-7644741b17b6"
      },
      "execution_count": null,
      "outputs": [
        {
          "output_type": "display_data",
          "data": {
            "text/plain": [
              "IQR da variável price:  \u001b[1;36m70.5\u001b[0m\n"
            ],
            "text/html": [
              "<pre style=\"white-space:pre;overflow-x:auto;line-height:normal;font-family:Menlo,'DejaVu Sans Mono',consolas,'Courier New',monospace\">IQR da variável price:  <span style=\"color: #008080; text-decoration-color: #008080; font-weight: bold\">70.5</span>\n",
              "</pre>\n"
            ]
          },
          "metadata": {}
        },
        {
          "output_type": "display_data",
          "data": {
            "text/plain": [
              "Limite superior de price:  \u001b[1;36m241.25\u001b[0m\n"
            ],
            "text/html": [
              "<pre style=\"white-space:pre;overflow-x:auto;line-height:normal;font-family:Menlo,'DejaVu Sans Mono',consolas,'Courier New',monospace\">Limite superior de price:  <span style=\"color: #008080; text-decoration-color: #008080; font-weight: bold\">241.25</span>\n",
              "</pre>\n"
            ]
          },
          "metadata": {}
        },
        {
          "output_type": "display_data",
          "data": {
            "text/plain": [
              "Limite inferior de price:  \u001b[1;36m-40.75\u001b[0m\n"
            ],
            "text/html": [
              "<pre style=\"white-space:pre;overflow-x:auto;line-height:normal;font-family:Menlo,'DejaVu Sans Mono',consolas,'Courier New',monospace\">Limite inferior de price:  <span style=\"color: #008080; text-decoration-color: #008080; font-weight: bold\">-40.75</span>\n",
              "</pre>\n"
            ]
          },
          "metadata": {}
        }
      ]
    },
    {
      "cell_type": "markdown",
      "source": [
        "Abaixo, é possível observar que mesmo não havendo outliers na parte inferior, ainda temos valores iguais a zero que precisam ser tratados. Vamos traçar um boxplot para visualizar a diferença que a limpeza faz."
      ],
      "metadata": {
        "id": "hf93Ujlz6brN"
      }
    },
    {
      "cell_type": "code",
      "source": [
        "fig, ax = plt.subplots(figsize=(15,3))\n",
        "df_geneve.price.plot(kind='box', vert=False);\n",
        "ax.set_title('Dataset Original - price')\n",
        "plt.show()\n",
        "print(\"O dataset possui {} colunas\".format(df_geneve.shape[0]))\n",
        "print(\"{} Entradas acima de 241\".format(len(df_geneve[df_geneve.price > sup_price])))\n",
        "print(\"Representam {:.2f}% do dataset\".format((len(df_geneve[df_geneve.price > sup_price]) / df_geneve.shape[0])*100))"
      ],
      "metadata": {
        "colab": {
          "base_uri": "https://localhost:8080/",
          "height": 278
        },
        "id": "Y2wLpNjW5jxt",
        "outputId": "d9c61775-b171-4d22-fc2a-fcb0753a38c5"
      },
      "execution_count": null,
      "outputs": [
        {
          "output_type": "display_data",
          "data": {
            "text/plain": [
              "<Figure size 1080x216 with 1 Axes>"
            ],
            "image/png": "[encoded data removed]"
          },
          "metadata": {
            "needs_background": "light"
          }
        },
        {
          "output_type": "display_data",
          "data": {
            "text/plain": [
              "O dataset possui \u001b[1;36m3223\u001b[0m colunas\n"
            ],
            "text/html": [
              "<pre style=\"white-space:pre;overflow-x:auto;line-height:normal;font-family:Menlo,'DejaVu Sans Mono',consolas,'Courier New',monospace\">O dataset possui <span style=\"color: #008080; text-decoration-color: #008080; font-weight: bold\">3223</span> colunas\n",
              "</pre>\n"
            ]
          },
          "metadata": {}
        },
        {
          "output_type": "display_data",
          "data": {
            "text/plain": [
              "\u001b[1;36m258\u001b[0m Entradas acima de \u001b[1;36m241\u001b[0m\n"
            ],
            "text/html": [
              "<pre style=\"white-space:pre;overflow-x:auto;line-height:normal;font-family:Menlo,'DejaVu Sans Mono',consolas,'Courier New',monospace\"><span style=\"color: #008080; text-decoration-color: #008080; font-weight: bold\">258</span> Entradas acima de <span style=\"color: #008080; text-decoration-color: #008080; font-weight: bold\">241</span>\n",
              "</pre>\n"
            ]
          },
          "metadata": {}
        },
        {
          "output_type": "display_data",
          "data": {
            "text/plain": [
              "Representam \u001b[1;36m8.00\u001b[0m% do dataset\n"
            ],
            "text/html": [
              "<pre style=\"white-space:pre;overflow-x:auto;line-height:normal;font-family:Menlo,'DejaVu Sans Mono',consolas,'Courier New',monospace\">Representam <span style=\"color: #008080; text-decoration-color: #008080; font-weight: bold\">8.00</span>% do dataset\n",
              "</pre>\n"
            ]
          },
          "metadata": {}
        }
      ]
    },
    {
      "cell_type": "markdown",
      "source": [
        "#### Identificando os outliers (`minimum_nights`)\n",
        "\n"
      ],
      "metadata": {
        "id": "7-HE7kViAV8O"
      }
    },
    {
      "cell_type": "code",
      "source": [
        "# identificando os outliers para a variável minimum_nights\n",
        "q1_minimum_nights = df_geneve.minimum_nights.quantile(.25)\n",
        "q3_minimum_nights = df_geneve.minimum_nights.quantile(.75)\n",
        "IQR_minimum_nights = q3_minimum_nights - q1_minimum_nights\n",
        "print('IQR da variável minimum_nights: ', IQR_minimum_nights)\n",
        "\n",
        "# definindo os limites                                       \n",
        "sup_minimum_nights = q3_minimum_nights + (1.5 * IQR_minimum_nights)\n",
        "inf_minimum_nights = q1_minimum_nights - (1.5 * IQR_minimum_nights)\n",
        "\n",
        "print('Limite superior de minimum_nights: ', sup_minimum_nights)\n",
        "print('Limite inferior de minimum_nights: ', inf_minimum_nights)"
      ],
      "metadata": {
        "colab": {
          "base_uri": "https://localhost:8080/",
          "height": 68
        },
        "id": "CPZMZ6249A-y",
        "outputId": "00ec70a7-3d41-4ef8-cad6-a9f6a5e1ffd6"
      },
      "execution_count": null,
      "outputs": [
        {
          "output_type": "display_data",
          "data": {
            "text/plain": [
              "IQR da variável minimum_nights:  \u001b[1;36m4.0\u001b[0m\n"
            ],
            "text/html": [
              "<pre style=\"white-space:pre;overflow-x:auto;line-height:normal;font-family:Menlo,'DejaVu Sans Mono',consolas,'Courier New',monospace\">IQR da variável minimum_nights:  <span style=\"color: #008080; text-decoration-color: #008080; font-weight: bold\">4.0</span>\n",
              "</pre>\n"
            ]
          },
          "metadata": {}
        },
        {
          "output_type": "display_data",
          "data": {
            "text/plain": [
              "Limite superior de minimum_nights:  \u001b[1;36m11.0\u001b[0m\n"
            ],
            "text/html": [
              "<pre style=\"white-space:pre;overflow-x:auto;line-height:normal;font-family:Menlo,'DejaVu Sans Mono',consolas,'Courier New',monospace\">Limite superior de minimum_nights:  <span style=\"color: #008080; text-decoration-color: #008080; font-weight: bold\">11.0</span>\n",
              "</pre>\n"
            ]
          },
          "metadata": {}
        },
        {
          "output_type": "display_data",
          "data": {
            "text/plain": [
              "Limite inferior de minimum_nights:  \u001b[1;36m-5.0\u001b[0m\n"
            ],
            "text/html": [
              "<pre style=\"white-space:pre;overflow-x:auto;line-height:normal;font-family:Menlo,'DejaVu Sans Mono',consolas,'Courier New',monospace\">Limite inferior de minimum_nights:  <span style=\"color: #008080; text-decoration-color: #008080; font-weight: bold\">-5.0</span>\n",
              "</pre>\n"
            ]
          },
          "metadata": {}
        }
      ]
    },
    {
      "cell_type": "markdown",
      "source": [
        "* Aqui obtemos o mesmo comportamento que observamos em price."
      ],
      "metadata": {
        "id": "0neATZemAhVb"
      }
    },
    {
      "cell_type": "code",
      "source": [
        "# verificando o conjunto original\n",
        "fig, ax = plt.subplots(figsize=(15,3))\n",
        "df_geneve.minimum_nights.plot(kind='box', vert=False);\n",
        "ax.set_title('Dataset Original - minimum_nights')\n",
        "plt.show()\n",
        "print(\"O dataset possui {} colunas\".format(df_geneve.shape[0]))\n",
        "print(\"{} Entradas acima de 11\".format(len(df_geneve[df_geneve.minimum_nights > sup_minimum_nights ])))\n",
        "print(\"Representam {:.2f}% do dataset\".format((len(df_geneve[df_geneve.minimum_nights > sup_minimum_nights ]) / df_geneve.shape[0])*100))"
      ],
      "metadata": {
        "colab": {
          "base_uri": "https://localhost:8080/",
          "height": 278
        },
        "id": "li8mMOvU-fcH",
        "outputId": "56a1765a-d416-469b-e468-1a4cb2e908a5"
      },
      "execution_count": null,
      "outputs": [
        {
          "output_type": "display_data",
          "data": {
            "text/plain": [
              "<Figure size 1080x216 with 1 Axes>"
            ],
            "image/png": "[encoded data removed]"
          },
          "metadata": {
            "needs_background": "light"
          }
        },
        {
          "output_type": "display_data",
          "data": {
            "text/plain": [
              "O dataset possui \u001b[1;36m3223\u001b[0m colunas\n"
            ],
            "text/html": [
              "<pre style=\"white-space:pre;overflow-x:auto;line-height:normal;font-family:Menlo,'DejaVu Sans Mono',consolas,'Courier New',monospace\">O dataset possui <span style=\"color: #008080; text-decoration-color: #008080; font-weight: bold\">3223</span> colunas\n",
              "</pre>\n"
            ]
          },
          "metadata": {}
        },
        {
          "output_type": "display_data",
          "data": {
            "text/plain": [
              "\u001b[1;36m339\u001b[0m Entradas acima de \u001b[1;36m11\u001b[0m\n"
            ],
            "text/html": [
              "<pre style=\"white-space:pre;overflow-x:auto;line-height:normal;font-family:Menlo,'DejaVu Sans Mono',consolas,'Courier New',monospace\"><span style=\"color: #008080; text-decoration-color: #008080; font-weight: bold\">339</span> Entradas acima de <span style=\"color: #008080; text-decoration-color: #008080; font-weight: bold\">11</span>\n",
              "</pre>\n"
            ]
          },
          "metadata": {}
        },
        {
          "output_type": "display_data",
          "data": {
            "text/plain": [
              "Representam \u001b[1;36m10.52\u001b[0m% do dataset\n"
            ],
            "text/html": [
              "<pre style=\"white-space:pre;overflow-x:auto;line-height:normal;font-family:Menlo,'DejaVu Sans Mono',consolas,'Courier New',monospace\">Representam <span style=\"color: #008080; text-decoration-color: #008080; font-weight: bold\">10.52</span>% do dataset\n",
              "</pre>\n"
            ]
          },
          "metadata": {}
        }
      ]
    },
    {
      "cell_type": "markdown",
      "source": [
        "#### Limpeza de dados\n",
        "\n",
        "Agora que identificamos *outliers* nas variáveis ​​`price` e `minimum_nights`, vamos limpar os nossos dados e depois vou:\n",
        "\n",
        "* Comparar os boxplots limpos com os originais\n",
        "\n",
        "* Plotar novamente o histograma\n"
      ],
      "metadata": {
        "id": "SxsvILCDE2Bv"
      }
    },
    {
      "cell_type": "code",
      "source": [
        "# limpando o dataset\n",
        "df_clean = df_geneve.copy()\n",
        "\n",
        "df_clean.drop(df_clean[df_clean.price > sup_price].index, axis=0, inplace=True)\n",
        "df_clean.drop(df_clean[df_clean.price == 0.0].index, axis=0, inplace=True)\n",
        "df_clean.drop(df_clean[df_clean.minimum_nights > sup_minimum_nights].index, axis=0, inplace=True)"
      ],
      "metadata": {
        "id": "x84EkOxhICA5"
      },
      "execution_count": null,
      "outputs": []
    },
    {
      "cell_type": "code",
      "source": [
        "# verificando a distribuição estatística dos dados limpos\n",
        "df_clean.describe()"
      ],
      "metadata": {
        "colab": {
          "base_uri": "https://localhost:8080/",
          "height": 364
        },
        "id": "Su8MMo2namJ0",
        "outputId": "a15cb70d-e08c-4eb9-b4a4-1efe8df00809"
      },
      "execution_count": null,
      "outputs": [
        {
          "output_type": "execute_result",
          "data": {
            "text/plain": [
              "                 id       host_id  neighbourhood_group     latitude  \\\n",
              "count  2.647000e+03  2.647000e+03                  0.0  2647.000000   \n",
              "mean   1.217023e+17  1.390192e+08                  NaN    46.207046   \n",
              "std    2.430895e+17  1.392984e+08                  NaN     0.032579   \n",
              "min    4.251500e+04  6.783700e+04                  NaN    46.116390   \n",
              "25%    2.506949e+07  2.151552e+07                  NaN    46.192520   \n",
              "50%    4.303330e+07  8.908735e+07                  NaN    46.202320   \n",
              "75%    5.305440e+07  2.380028e+08                  NaN    46.213155   \n",
              "max    6.541262e+17  4.643403e+08                  NaN    46.377450   \n",
              "\n",
              "         longitude        price  minimum_nights  number_of_reviews  \\\n",
              "count  2647.000000  2647.000000     2647.000000        2647.000000   \n",
              "mean      6.155695    97.080468        2.843219          24.105025   \n",
              "std       0.056219    45.318032        2.073839          50.356480   \n",
              "min       5.950040    15.000000        1.000000           0.000000   \n",
              "25%       6.128000    64.000000        1.000000           1.000000   \n",
              "50%       6.146350    89.000000        2.000000           7.000000   \n",
              "75%       6.196995   122.000000        4.000000          24.000000   \n",
              "max       6.328190   240.000000       11.000000         562.000000   \n",
              "\n",
              "       reviews_per_month  calculated_host_listings_count  availability_365  \\\n",
              "count        2156.000000                     2647.000000       2647.000000   \n",
              "mean            1.133919                       10.560635        176.131470   \n",
              "std             1.467362                       25.872485        132.596197   \n",
              "min             0.010000                        1.000000          0.000000   \n",
              "25%             0.260000                        1.000000         44.500000   \n",
              "50%             0.675000                        1.000000        172.000000   \n",
              "75%             1.382500                        4.000000        311.000000   \n",
              "max            18.510000                      114.000000        365.000000   \n",
              "\n",
              "       number_of_reviews_ltm  \n",
              "count            2647.000000  \n",
              "mean                6.677748  \n",
              "std                12.627013  \n",
              "min                 0.000000  \n",
              "25%                 0.000000  \n",
              "50%                 2.000000  \n",
              "75%                 8.000000  \n",
              "max               226.000000  "
            ],
            "text/html": [
              "\n",
              "  <div id=\"df-f83fd2ea-499d-4fce-8633-e983bacb4f75\">\n",
              "    <div class=\"colab-df-container\">\n",
              "      <div>\n",
              "<style scoped>\n",
              "    .dataframe tbody tr th:only-of-type {\n",
              "        vertical-align: middle;\n",
              "    }\n",
              "\n",
              "    .dataframe tbody tr th {\n",
              "        vertical-align: top;\n",
              "    }\n",
              "\n",
              "    .dataframe thead th {\n",
              "        text-align: right;\n",
              "    }\n",
              "</style>\n",
              "<table border=\"1\" class=\"dataframe\">\n",
              "  <thead>\n",
              "    <tr style=\"text-align: right;\">\n",
              "      <th></th>\n",
              "      <th>id</th>\n",
              "      <th>host_id</th>\n",
              "      <th>neighbourhood_group</th>\n",
              "      <th>latitude</th>\n",
              "      <th>longitude</th>\n",
              "      <th>price</th>\n",
              "      <th>minimum_nights</th>\n",
              "      <th>number_of_reviews</th>\n",
              "      <th>reviews_per_month</th>\n",
              "      <th>calculated_host_listings_count</th>\n",
              "      <th>availability_365</th>\n",
              "      <th>number_of_reviews_ltm</th>\n",
              "    </tr>\n",
              "  </thead>\n",
              "  <tbody>\n",
              "    <tr>\n",
              "      <th>count</th>\n",
              "      <td>2.647000e+03</td>\n",
              "      <td>2.647000e+03</td>\n",
              "      <td>0.0</td>\n",
              "      <td>2647.000000</td>\n",
              "      <td>2647.000000</td>\n",
              "      <td>2647.000000</td>\n",
              "      <td>2647.000000</td>\n",
              "      <td>2647.000000</td>\n",
              "      <td>2156.000000</td>\n",
              "      <td>2647.000000</td>\n",
              "      <td>2647.000000</td>\n",
              "      <td>2647.000000</td>\n",
              "    </tr>\n",
              "    <tr>\n",
              "      <th>mean</th>\n",
              "      <td>1.217023e+17</td>\n",
              "      <td>1.390192e+08</td>\n",
              "      <td>NaN</td>\n",
              "      <td>46.207046</td>\n",
              "      <td>6.155695</td>\n",
              "      <td>97.080468</td>\n",
              "      <td>2.843219</td>\n",
              "      <td>24.105025</td>\n",
              "      <td>1.133919</td>\n",
              "      <td>10.560635</td>\n",
              "      <td>176.131470</td>\n",
              "      <td>6.677748</td>\n",
              "    </tr>\n",
              "    <tr>\n",
              "      <th>std</th>\n",
              "      <td>2.430895e+17</td>\n",
              "      <td>1.392984e+08</td>\n",
              "      <td>NaN</td>\n",
              "      <td>0.032579</td>\n",
              "      <td>0.056219</td>\n",
              "      <td>45.318032</td>\n",
              "      <td>2.073839</td>\n",
              "      <td>50.356480</td>\n",
              "      <td>1.467362</td>\n",
              "      <td>25.872485</td>\n",
              "      <td>132.596197</td>\n",
              "      <td>12.627013</td>\n",
              "    </tr>\n",
              "    <tr>\n",
              "      <th>min</th>\n",
              "      <td>4.251500e+04</td>\n",
              "      <td>6.783700e+04</td>\n",
              "      <td>NaN</td>\n",
              "      <td>46.116390</td>\n",
              "      <td>5.950040</td>\n",
              "      <td>15.000000</td>\n",
              "      <td>1.000000</td>\n",
              "      <td>0.000000</td>\n",
              "      <td>0.010000</td>\n",
              "      <td>1.000000</td>\n",
              "      <td>0.000000</td>\n",
              "      <td>0.000000</td>\n",
              "    </tr>\n",
              "    <tr>\n",
              "      <th>25%</th>\n",
              "      <td>2.506949e+07</td>\n",
              "      <td>2.151552e+07</td>\n",
              "      <td>NaN</td>\n",
              "      <td>46.192520</td>\n",
              "      <td>6.128000</td>\n",
              "      <td>64.000000</td>\n",
              "      <td>1.000000</td>\n",
              "      <td>1.000000</td>\n",
              "      <td>0.260000</td>\n",
              "      <td>1.000000</td>\n",
              "      <td>44.500000</td>\n",
              "      <td>0.000000</td>\n",
              "    </tr>\n",
              "    <tr>\n",
              "      <th>50%</th>\n",
              "      <td>4.303330e+07</td>\n",
              "      <td>8.908735e+07</td>\n",
              "      <td>NaN</td>\n",
              "      <td>46.202320</td>\n",
              "      <td>6.146350</td>\n",
              "      <td>89.000000</td>\n",
              "      <td>2.000000</td>\n",
              "      <td>7.000000</td>\n",
              "      <td>0.675000</td>\n",
              "      <td>1.000000</td>\n",
              "      <td>172.000000</td>\n",
              "      <td>2.000000</td>\n",
              "    </tr>\n",
              "    <tr>\n",
              "      <th>75%</th>\n",
              "      <td>5.305440e+07</td>\n",
              "      <td>2.380028e+08</td>\n",
              "      <td>NaN</td>\n",
              "      <td>46.213155</td>\n",
              "      <td>6.196995</td>\n",
              "      <td>122.000000</td>\n",
              "      <td>4.000000</td>\n",
              "      <td>24.000000</td>\n",
              "      <td>1.382500</td>\n",
              "      <td>4.000000</td>\n",
              "      <td>311.000000</td>\n",
              "      <td>8.000000</td>\n",
              "    </tr>\n",
              "    <tr>\n",
              "      <th>max</th>\n",
              "      <td>6.541262e+17</td>\n",
              "      <td>4.643403e+08</td>\n",
              "      <td>NaN</td>\n",
              "      <td>46.377450</td>\n",
              "      <td>6.328190</td>\n",
              "      <td>240.000000</td>\n",
              "      <td>11.000000</td>\n",
              "      <td>562.000000</td>\n",
              "      <td>18.510000</td>\n",
              "      <td>114.000000</td>\n",
              "      <td>365.000000</td>\n",
              "      <td>226.000000</td>\n",
              "    </tr>\n",
              "  </tbody>\n",
              "</table>\n",
              "</div>\n",
              "      <button class=\"colab-df-convert\" onclick=\"convertToInteractive('df-f83fd2ea-499d-4fce-8633-e983bacb4f75')\"\n",
              "              title=\"Convert this dataframe to an interactive table.\"\n",
              "              style=\"display:none;\">\n",
              "        \n",
              "  <svg xmlns=\"http://www.w3.org/2000/svg\" height=\"24px\"viewBox=\"0 0 24 24\"\n",
              "       width=\"24px\">\n",
              "    <path d=\"M0 0h24v24H0V0z\" fill=\"none\"/>\n",
              "    <path d=\"M18.56 5.44l.94 2.06.94-2.06 2.06-.94-2.06-.94-.94-2.06-.94 2.06-2.06.94zm-11 1L8.5 8.5l.94-2.06 2.06-.94-2.06-.94L8.5 2.5l-.94 2.06-2.06.94zm10 10l.94 2.06.94-2.06 2.06-.94-2.06-.94-.94-2.06-.94 2.06-2.06.94z\"/><path d=\"M17.41 7.96l-1.37-1.37c-.4-.4-.92-.59-1.43-.59-.52 0-1.04.2-1.43.59L10.3 9.45l-7.72 7.72c-.78.78-.78 2.05 0 2.83L4 21.41c.39.39.9.59 1.41.59.51 0 1.02-.2 1.41-.59l7.78-7.78 2.81-2.81c.8-.78.8-2.07 0-2.86zM5.41 20L4 18.59l7.72-7.72 1.47 1.35L5.41 20z\"/>\n",
              "  </svg>\n",
              "      </button>\n",
              "      \n",
              "  <style>\n",
              "    .colab-df-container {\n",
              "      display:flex;\n",
              "      flex-wrap:wrap;\n",
              "      gap: 12px;\n",
              "    }\n",
              "\n",
              "    .colab-df-convert {\n",
              "      background-color: #E8F0FE;\n",
              "      border: none;\n",
              "      border-radius: 50%;\n",
              "      cursor: pointer;\n",
              "      display: none;\n",
              "      fill: #1967D2;\n",
              "      height: 32px;\n",
              "      padding: 0 0 0 0;\n",
              "      width: 32px;\n",
              "    }\n",
              "\n",
              "    .colab-df-convert:hover {\n",
              "      background-color: #E2EBFA;\n",
              "      box-shadow: 0px 1px 2px rgba(60, 64, 67, 0.3), 0px 1px 3px 1px rgba(60, 64, 67, 0.15);\n",
              "      fill: #174EA6;\n",
              "    }\n",
              "\n",
              "    [theme=dark] .colab-df-convert {\n",
              "      background-color: #3B4455;\n",
              "      fill: #D2E3FC;\n",
              "    }\n",
              "\n",
              "    [theme=dark] .colab-df-convert:hover {\n",
              "      background-color: #434B5C;\n",
              "      box-shadow: 0px 1px 3px 1px rgba(0, 0, 0, 0.15);\n",
              "      filter: drop-shadow(0px 1px 2px rgba(0, 0, 0, 0.3));\n",
              "      fill: #FFFFFF;\n",
              "    }\n",
              "  </style>\n",
              "\n",
              "      <script>\n",
              "        const buttonEl =\n",
              "          document.querySelector('#df-f83fd2ea-499d-4fce-8633-e983bacb4f75 button.colab-df-convert');\n",
              "        buttonEl.style.display =\n",
              "          google.colab.kernel.accessAllowed ? 'block' : 'none';\n",
              "\n",
              "        async function convertToInteractive(key) {\n",
              "          const element = document.querySelector('#df-f83fd2ea-499d-4fce-8633-e983bacb4f75');\n",
              "          const dataTable =\n",
              "            await google.colab.kernel.invokeFunction('convertToInteractive',\n",
              "                                                     [key], {});\n",
              "          if (!dataTable) return;\n",
              "\n",
              "          const docLinkHtml = 'Like what you see? Visit the ' +\n",
              "            '<a target=\"_blank\" href=https://colab.research.google.com/notebooks/data_table.ipynb>data table notebook</a>'\n",
              "            + ' to learn more about interactive tables.';\n",
              "          element.innerHTML = '';\n",
              "          dataTable['output_type'] = 'display_data';\n",
              "          await google.colab.output.renderOutput(dataTable, element);\n",
              "          const docLink = document.createElement('div');\n",
              "          docLink.innerHTML = docLinkHtml;\n",
              "          element.appendChild(docLink);\n",
              "        }\n",
              "      </script>\n",
              "    </div>\n",
              "  </div>\n",
              "  "
            ]
          },
          "metadata": {},
          "execution_count": 55
        }
      ]
    },
    {
      "cell_type": "markdown",
      "source": [
        "Perceba como fica visivel o resultado da nossa limpeza quando levamos em consideração os quartis do dado original.\n",
        "\n",
        "Para ter certeza de que não estamos lidando com outliers que prejudicariam nossa análise, vamos verificar o histograma."
      ],
      "metadata": {
        "id": "2X7Md3dfRseH"
      }
    },
    {
      "cell_type": "code",
      "source": [
        "fig, ax = plt.subplots(figsize=(15,3))\n",
        "df_clean.price.plot(kind='box', vert=False);\n",
        "ax.set_title('Dataset Limpo - price')\n",
        "plt.show()"
      ],
      "metadata": {
        "colab": {
          "base_uri": "https://localhost:8080/",
          "height": 227
        },
        "id": "5gvMdvUfUsq1",
        "outputId": "85fe30c5-cbdf-47ac-e7cf-b6deb7d9d7da"
      },
      "execution_count": null,
      "outputs": [
        {
          "output_type": "display_data",
          "data": {
            "text/plain": [
              "<Figure size 1080x216 with 1 Axes>"
            ],
            "image/png": "[encoded data removed]"
          },
          "metadata": {
            "needs_background": "light"
          }
        }
      ]
    },
    {
      "cell_type": "code",
      "source": [
        "fig, ax = plt.subplots(figsize=(15,3))\n",
        "df_clean.minimum_nights.plot(kind='box', vert=False);\n",
        "ax.set_title('Dataset Limpo - minimum_nights')\n",
        "plt.show()"
      ],
      "metadata": {
        "colab": {
          "base_uri": "https://localhost:8080/",
          "height": 227
        },
        "id": "mxCnqq9JUaKf",
        "outputId": "9fe169b6-4fdf-4dbf-9e82-d1c7d9be6d36"
      },
      "execution_count": null,
      "outputs": [
        {
          "output_type": "display_data",
          "data": {
            "text/plain": [
              "<Figure size 1080x216 with 1 Axes>"
            ],
            "image/png": "[encoded data removed]"
          },
          "metadata": {
            "needs_background": "light"
          }
        }
      ]
    },
    {
      "cell_type": "code",
      "source": [
        "df_clean.hist(bins='sturges', figsize=(15,10), color=['firebrick']);"
      ],
      "metadata": {
        "colab": {
          "base_uri": "https://localhost:8080/",
          "height": 607
        },
        "id": "3Mq0ECn3MKVg",
        "outputId": "5775397b-5b2f-491b-89e4-9ff70629d535"
      },
      "execution_count": null,
      "outputs": [
        {
          "output_type": "display_data",
          "data": {
            "text/plain": [
              "<Figure size 1080x720 with 12 Axes>"
            ],
            "image/png": "[encoded data removed]"
          },
          "metadata": {
            "needs_background": "light"
          }
        }
      ]
    },
    {
      "cell_type": "markdown",
      "source": [
        "### **5. Qual a correlação existente entre as variáveis❓**"
      ],
      "metadata": {
        "id": "3kjfTiHKJ6ru"
      }
    },
    {
      "cell_type": "markdown",
      "source": [
        "A correlação descreve a direção e o grau de relação de duas ou mais variáveis.\n",
        "Para determinar as correlações existentes entre as variáveis ​​de interesse, irei:\n",
        "\n",
        "* Gerar uma matriz de correlação.\n",
        "\n",
        "* Com a biblioteca `seaborn`, criar um heatmap utilizando a Matriz de correlação."
      ],
      "metadata": {
        "id": "57DT6ujWKSta"
      }
    },
    {
      "cell_type": "code",
      "source": [
        "corr = df_clean[['price', 'minimum_nights', 'number_of_reviews', 'reviews_per_month',\n",
        "    'calculated_host_listings_count', 'availability_365',]].corr() #matriz de correlação\n",
        "\n",
        "corr"
      ],
      "metadata": {
        "id": "B-D8rlMh_Po_",
        "colab": {
          "base_uri": "https://localhost:8080/",
          "height": 238
        },
        "outputId": "27b1513e-2da6-415d-907b-8af565d78919"
      },
      "execution_count": null,
      "outputs": [
        {
          "output_type": "execute_result",
          "data": {
            "text/plain": [
              "                                   price  minimum_nights  number_of_reviews  \\\n",
              "price                           1.000000       -0.008451          -0.011879   \n",
              "minimum_nights                 -0.008451        1.000000          -0.126649   \n",
              "number_of_reviews              -0.011879       -0.126649           1.000000   \n",
              "reviews_per_month              -0.036003       -0.260057           0.472454   \n",
              "calculated_host_listings_count  0.023227       -0.114793          -0.081483   \n",
              "availability_365               -0.071202       -0.072380          -0.052275   \n",
              "\n",
              "                                reviews_per_month  \\\n",
              "price                                   -0.036003   \n",
              "minimum_nights                          -0.260057   \n",
              "number_of_reviews                        0.472454   \n",
              "reviews_per_month                        1.000000   \n",
              "calculated_host_listings_count           0.024115   \n",
              "availability_365                         0.087460   \n",
              "\n",
              "                                calculated_host_listings_count  \\\n",
              "price                                                 0.023227   \n",
              "minimum_nights                                       -0.114793   \n",
              "number_of_reviews                                    -0.081483   \n",
              "reviews_per_month                                     0.024115   \n",
              "calculated_host_listings_count                        1.000000   \n",
              "availability_365                                      0.198101   \n",
              "\n",
              "                                availability_365  \n",
              "price                                  -0.071202  \n",
              "minimum_nights                         -0.072380  \n",
              "number_of_reviews                      -0.052275  \n",
              "reviews_per_month                       0.087460  \n",
              "calculated_host_listings_count          0.198101  \n",
              "availability_365                        1.000000  "
            ],
            "text/html": [
              "\n",
              "  <div id=\"df-8335fc79-474f-4f2c-a976-f924e0651185\">\n",
              "    <div class=\"colab-df-container\">\n",
              "      <div>\n",
              "<style scoped>\n",
              "    .dataframe tbody tr th:only-of-type {\n",
              "        vertical-align: middle;\n",
              "    }\n",
              "\n",
              "    .dataframe tbody tr th {\n",
              "        vertical-align: top;\n",
              "    }\n",
              "\n",
              "    .dataframe thead th {\n",
              "        text-align: right;\n",
              "    }\n",
              "</style>\n",
              "<table border=\"1\" class=\"dataframe\">\n",
              "  <thead>\n",
              "    <tr style=\"text-align: right;\">\n",
              "      <th></th>\n",
              "      <th>price</th>\n",
              "      <th>minimum_nights</th>\n",
              "      <th>number_of_reviews</th>\n",
              "      <th>reviews_per_month</th>\n",
              "      <th>calculated_host_listings_count</th>\n",
              "      <th>availability_365</th>\n",
              "    </tr>\n",
              "  </thead>\n",
              "  <tbody>\n",
              "    <tr>\n",
              "      <th>price</th>\n",
              "      <td>1.000000</td>\n",
              "      <td>-0.008451</td>\n",
              "      <td>-0.011879</td>\n",
              "      <td>-0.036003</td>\n",
              "      <td>0.023227</td>\n",
              "      <td>-0.071202</td>\n",
              "    </tr>\n",
              "    <tr>\n",
              "      <th>minimum_nights</th>\n",
              "      <td>-0.008451</td>\n",
              "      <td>1.000000</td>\n",
              "      <td>-0.126649</td>\n",
              "      <td>-0.260057</td>\n",
              "      <td>-0.114793</td>\n",
              "      <td>-0.072380</td>\n",
              "    </tr>\n",
              "    <tr>\n",
              "      <th>number_of_reviews</th>\n",
              "      <td>-0.011879</td>\n",
              "      <td>-0.126649</td>\n",
              "      <td>1.000000</td>\n",
              "      <td>0.472454</td>\n",
              "      <td>-0.081483</td>\n",
              "      <td>-0.052275</td>\n",
              "    </tr>\n",
              "    <tr>\n",
              "      <th>reviews_per_month</th>\n",
              "      <td>-0.036003</td>\n",
              "      <td>-0.260057</td>\n",
              "      <td>0.472454</td>\n",
              "      <td>1.000000</td>\n",
              "      <td>0.024115</td>\n",
              "      <td>0.087460</td>\n",
              "    </tr>\n",
              "    <tr>\n",
              "      <th>calculated_host_listings_count</th>\n",
              "      <td>0.023227</td>\n",
              "      <td>-0.114793</td>\n",
              "      <td>-0.081483</td>\n",
              "      <td>0.024115</td>\n",
              "      <td>1.000000</td>\n",
              "      <td>0.198101</td>\n",
              "    </tr>\n",
              "    <tr>\n",
              "      <th>availability_365</th>\n",
              "      <td>-0.071202</td>\n",
              "      <td>-0.072380</td>\n",
              "      <td>-0.052275</td>\n",
              "      <td>0.087460</td>\n",
              "      <td>0.198101</td>\n",
              "      <td>1.000000</td>\n",
              "    </tr>\n",
              "  </tbody>\n",
              "</table>\n",
              "</div>\n",
              "      <button class=\"colab-df-convert\" onclick=\"convertToInteractive('df-8335fc79-474f-4f2c-a976-f924e0651185')\"\n",
              "              title=\"Convert this dataframe to an interactive table.\"\n",
              "              style=\"display:none;\">\n",
              "        \n",
              "  <svg xmlns=\"http://www.w3.org/2000/svg\" height=\"24px\"viewBox=\"0 0 24 24\"\n",
              "       width=\"24px\">\n",
              "    <path d=\"M0 0h24v24H0V0z\" fill=\"none\"/>\n",
              "    <path d=\"M18.56 5.44l.94 2.06.94-2.06 2.06-.94-2.06-.94-.94-2.06-.94 2.06-2.06.94zm-11 1L8.5 8.5l.94-2.06 2.06-.94-2.06-.94L8.5 2.5l-.94 2.06-2.06.94zm10 10l.94 2.06.94-2.06 2.06-.94-2.06-.94-.94-2.06-.94 2.06-2.06.94z\"/><path d=\"M17.41 7.96l-1.37-1.37c-.4-.4-.92-.59-1.43-.59-.52 0-1.04.2-1.43.59L10.3 9.45l-7.72 7.72c-.78.78-.78 2.05 0 2.83L4 21.41c.39.39.9.59 1.41.59.51 0 1.02-.2 1.41-.59l7.78-7.78 2.81-2.81c.8-.78.8-2.07 0-2.86zM5.41 20L4 18.59l7.72-7.72 1.47 1.35L5.41 20z\"/>\n",
              "  </svg>\n",
              "      </button>\n",
              "      \n",
              "  <style>\n",
              "    .colab-df-container {\n",
              "      display:flex;\n",
              "      flex-wrap:wrap;\n",
              "      gap: 12px;\n",
              "    }\n",
              "\n",
              "    .colab-df-convert {\n",
              "      background-color: #E8F0FE;\n",
              "      border: none;\n",
              "      border-radius: 50%;\n",
              "      cursor: pointer;\n",
              "      display: none;\n",
              "      fill: #1967D2;\n",
              "      height: 32px;\n",
              "      padding: 0 0 0 0;\n",
              "      width: 32px;\n",
              "    }\n",
              "\n",
              "    .colab-df-convert:hover {\n",
              "      background-color: #E2EBFA;\n",
              "      box-shadow: 0px 1px 2px rgba(60, 64, 67, 0.3), 0px 1px 3px 1px rgba(60, 64, 67, 0.15);\n",
              "      fill: #174EA6;\n",
              "    }\n",
              "\n",
              "    [theme=dark] .colab-df-convert {\n",
              "      background-color: #3B4455;\n",
              "      fill: #D2E3FC;\n",
              "    }\n",
              "\n",
              "    [theme=dark] .colab-df-convert:hover {\n",
              "      background-color: #434B5C;\n",
              "      box-shadow: 0px 1px 3px 1px rgba(0, 0, 0, 0.15);\n",
              "      filter: drop-shadow(0px 1px 2px rgba(0, 0, 0, 0.3));\n",
              "      fill: #FFFFFF;\n",
              "    }\n",
              "  </style>\n",
              "\n",
              "      <script>\n",
              "        const buttonEl =\n",
              "          document.querySelector('#df-8335fc79-474f-4f2c-a976-f924e0651185 button.colab-df-convert');\n",
              "        buttonEl.style.display =\n",
              "          google.colab.kernel.accessAllowed ? 'block' : 'none';\n",
              "\n",
              "        async function convertToInteractive(key) {\n",
              "          const element = document.querySelector('#df-8335fc79-474f-4f2c-a976-f924e0651185');\n",
              "          const dataTable =\n",
              "            await google.colab.kernel.invokeFunction('convertToInteractive',\n",
              "                                                     [key], {});\n",
              "          if (!dataTable) return;\n",
              "\n",
              "          const docLinkHtml = 'Like what you see? Visit the ' +\n",
              "            '<a target=\"_blank\" href=https://colab.research.google.com/notebooks/data_table.ipynb>data table notebook</a>'\n",
              "            + ' to learn more about interactive tables.';\n",
              "          element.innerHTML = '';\n",
              "          dataTable['output_type'] = 'display_data';\n",
              "          await google.colab.output.renderOutput(dataTable, element);\n",
              "          const docLink = document.createElement('div');\n",
              "          docLink.innerHTML = docLinkHtml;\n",
              "          element.appendChild(docLink);\n",
              "        }\n",
              "      </script>\n",
              "    </div>\n",
              "  </div>\n",
              "  "
            ]
          },
          "metadata": {},
          "execution_count": 40
        }
      ]
    },
    {
      "cell_type": "code",
      "source": [
        "sns.heatmap(corr, cmap='RdBu', fmt='.2f', square=True, linecolor='white', annot=True)"
      ],
      "metadata": {
        "colab": {
          "base_uri": "https://localhost:8080/",
          "height": 428
        },
        "id": "J75kAnwO0tkG",
        "outputId": "886c876d-cca1-4901-a283-79eb18bd9b0c"
      },
      "execution_count": null,
      "outputs": [
        {
          "output_type": "execute_result",
          "data": {
            "text/plain": [
              "<matplotlib.axes._subplots.AxesSubplot at 0x7f98fcf8a7c0>"
            ]
          },
          "metadata": {},
          "execution_count": 41
        },
        {
          "output_type": "display_data",
          "data": {
            "text/plain": [
              "<Figure size 432x288 with 2 Axes>"
            ],
            "image/png": "[encoded data removed]"
          },
          "metadata": {
            "needs_background": "light"
          }
        }
      ]
    },
    {
      "cell_type": "markdown",
      "metadata": {
        "id": "YqK1L0oPKCIq"
      },
      "source": [
        "### **6. Qual o tipo de imóvel mais alugado no Airbnb❓**\n",
        "\n"
      ]
    },
    {
      "cell_type": "markdown",
      "source": [
        "Os anfitriões no Airbnb oferecem uma grande variedade de acomodações, desde apartamentos/casas inteiras, apenas o aluguel de um quarto ou mesmo dividir o quarto com outras pessoas. Se você consultou a variável `room_type` em nosso dicionário de variáveis, sabe que ela indica o tipo de locação anunciada no Airbnb.\n",
        "\n",
        "com o método `value_counts()` contaremos a quantidade de registro de cada tipo de aluguel."
      ],
      "metadata": {
        "id": "MWTvsisiLXXl"
      }
    },
    {
      "cell_type": "code",
      "source": [
        "Room_type = df_clean.room_type.value_counts()\n",
        "Room_type\n"
      ],
      "metadata": {
        "colab": {
          "base_uri": "https://localhost:8080/"
        },
        "id": "ZbfK6HJRUiWH",
        "outputId": "8d4b6d64-ef0b-4f57-bb04-34c23ec45348"
      },
      "execution_count": null,
      "outputs": [
        {
          "output_type": "execute_result",
          "data": {
            "text/plain": [
              "Entire home/apt    1808\n",
              "Private room        804\n",
              "Hotel room           21\n",
              "Shared room          14\n",
              "Name: room_type, dtype: int64"
            ]
          },
          "metadata": {},
          "execution_count": 43
        }
      ]
    },
    {
      "cell_type": "code",
      "source": [
        "percen_room = np.divide(Room_type, len(df_geneve))*100\n",
        "percen_room.round(2)"
      ],
      "metadata": {
        "id": "vQjWoxymVWTv",
        "colab": {
          "base_uri": "https://localhost:8080/"
        },
        "outputId": "5b4c1377-daf7-4774-d31c-480db0a10292"
      },
      "execution_count": null,
      "outputs": [
        {
          "output_type": "execute_result",
          "data": {
            "text/plain": [
              "Entire home/apt    56.10\n",
              "Private room       24.95\n",
              "Hotel room          0.65\n",
              "Shared room         0.43\n",
              "Name: room_type, dtype: float64"
            ]
          },
          "metadata": {},
          "execution_count": 44
        }
      ]
    },
    {
      "cell_type": "markdown",
      "metadata": {
        "id": "MFa5NbnLJMcd"
      },
      "source": [
        "### **7. Qual a localidade mais cara do dataset ❓**\n",
        "\n"
      ]
    },
    {
      "cell_type": "markdown",
      "source": [
        "Para comparar bairros (neighbourhoods) a partir do preço, \n",
        "\n",
        "utilizaremos o `groupby` que  envolve uma combinação de divisão do objeto, \n",
        "\n",
        "aplicação de uma função e combinação dos resultados.\n"
      ],
      "metadata": {
        "id": "aj2wwLbJuHZR"
      }
    },
    {
      "cell_type": "code",
      "source": [
        "#@title **Visualize as informações no card 👇**\n",
        "places_costly = df_clean.groupby(['neighbourhood']).price.mean().sort_values(ascending=False).head(10)\n",
        "places_costly\n",
        "\n",
        "print(Panel(f'''\n",
        "[bright_white]{places_costly}[/]''', \n",
        "            style='bright_cyan on grey11', \n",
        "            expand=False, \n",
        "            title='[bright_white]Preço médio de locação'\n",
        "            ))"
      ],
      "metadata": {
        "colab": {
          "base_uri": "https://localhost:8080/",
          "height": 272
        },
        "cellView": "form",
        "id": "WvAR0sG0WQJ9",
        "outputId": "1de05ff2-a778-4945-b9dc-035626682191"
      },
      "execution_count": null,
      "outputs": [
        {
          "output_type": "display_data",
          "data": {
            "text/plain": [
              "\u001b[96;48;5;234m╭─\u001b[0m\u001b[96;48;5;234m───\u001b[0m\u001b[96;48;5;234m \u001b[0m\u001b[97;48;5;234mPreço médio de locação\u001b[0m\u001b[96;48;5;234m \u001b[0m\u001b[96;48;5;234m────\u001b[0m\u001b[96;48;5;234m─╮\u001b[0m\n",
              "\u001b[96;48;5;234m│\u001b[0m\u001b[96;48;5;234m \u001b[0m\u001b[96;48;5;234m                               \u001b[0m\u001b[96;48;5;234m \u001b[0m\u001b[96;48;5;234m│\u001b[0m\n",
              "\u001b[96;48;5;234m│\u001b[0m\u001b[96;48;5;234m \u001b[0m\u001b[97;48;5;234mneighbourhood\u001b[0m\u001b[96;48;5;234m                  \u001b[0m\u001b[96;48;5;234m \u001b[0m\u001b[96;48;5;234m│\u001b[0m\n",
              "\u001b[96;48;5;234m│\u001b[0m\u001b[96;48;5;234m \u001b[0m\u001b[97;48;5;234mAvusy                152.000000\u001b[0m\u001b[96;48;5;234m \u001b[0m\u001b[96;48;5;234m│\u001b[0m\n",
              "\u001b[96;48;5;234m│\u001b[0m\u001b[96;48;5;234m \u001b[0m\u001b[97;48;5;234mCologny              143.888889\u001b[0m\u001b[96;48;5;234m \u001b[0m\u001b[96;48;5;234m│\u001b[0m\n",
              "\u001b[96;48;5;234m│\u001b[0m\u001b[96;48;5;234m \u001b[0m\u001b[97;48;5;234mHermance             140.833333\u001b[0m\u001b[96;48;5;234m \u001b[0m\u001b[96;48;5;234m│\u001b[0m\n",
              "\u001b[96;48;5;234m│\u001b[0m\u001b[96;48;5;234m \u001b[0m\u001b[97;48;5;234mChêne-Bougeries      121.500000\u001b[0m\u001b[96;48;5;234m \u001b[0m\u001b[96;48;5;234m│\u001b[0m\n",
              "\u001b[96;48;5;234m│\u001b[0m\u001b[96;48;5;234m \u001b[0m\u001b[97;48;5;234mRussin               120.000000\u001b[0m\u001b[96;48;5;234m \u001b[0m\u001b[96;48;5;234m│\u001b[0m\n",
              "\u001b[96;48;5;234m│\u001b[0m\u001b[96;48;5;234m \u001b[0m\u001b[97;48;5;234mPregny-Chambésy      117.222222\u001b[0m\u001b[96;48;5;234m \u001b[0m\u001b[96;48;5;234m│\u001b[0m\n",
              "\u001b[96;48;5;234m│\u001b[0m\u001b[96;48;5;234m \u001b[0m\u001b[97;48;5;234mJussy                115.142857\u001b[0m\u001b[96;48;5;234m \u001b[0m\u001b[96;48;5;234m│\u001b[0m\n",
              "\u001b[96;48;5;234m│\u001b[0m\u001b[96;48;5;234m \u001b[0m\u001b[97;48;5;234mCommune de Genève    114.357814\u001b[0m\u001b[96;48;5;234m \u001b[0m\u001b[96;48;5;234m│\u001b[0m\n",
              "\u001b[96;48;5;234m│\u001b[0m\u001b[96;48;5;234m \u001b[0m\u001b[97;48;5;234mGrand-Saconnex       111.060000\u001b[0m\u001b[96;48;5;234m \u001b[0m\u001b[96;48;5;234m│\u001b[0m\n",
              "\u001b[96;48;5;234m│\u001b[0m\u001b[96;48;5;234m \u001b[0m\u001b[97;48;5;234mTroinex              109.400000\u001b[0m\u001b[96;48;5;234m \u001b[0m\u001b[96;48;5;234m│\u001b[0m\n",
              "\u001b[96;48;5;234m│\u001b[0m\u001b[96;48;5;234m \u001b[0m\u001b[97;48;5;234mName: price, dtype: float64\u001b[0m\u001b[96;48;5;234m    \u001b[0m\u001b[96;48;5;234m \u001b[0m\u001b[96;48;5;234m│\u001b[0m\n",
              "\u001b[96;48;5;234m╰─────────────────────────────────╯\u001b[0m\n"
            ],
            "text/html": [
              "<pre style=\"white-space:pre;overflow-x:auto;line-height:normal;font-family:Menlo,'DejaVu Sans Mono',consolas,'Courier New',monospace\"><span style=\"color: #00ffff; text-decoration-color: #00ffff; background-color: #1c1c1c\">╭──── </span><span style=\"color: #ffffff; text-decoration-color: #ffffff; background-color: #1c1c1c\">Preço médio de locação</span><span style=\"color: #00ffff; text-decoration-color: #00ffff; background-color: #1c1c1c\"> ─────╮</span>\n",
              "<span style=\"color: #00ffff; text-decoration-color: #00ffff; background-color: #1c1c1c\">│                                 │</span>\n",
              "<span style=\"color: #00ffff; text-decoration-color: #00ffff; background-color: #1c1c1c\">│ </span><span style=\"color: #ffffff; text-decoration-color: #ffffff; background-color: #1c1c1c\">neighbourhood</span><span style=\"color: #00ffff; text-decoration-color: #00ffff; background-color: #1c1c1c\">                   │</span>\n",
              "<span style=\"color: #00ffff; text-decoration-color: #00ffff; background-color: #1c1c1c\">│ </span><span style=\"color: #ffffff; text-decoration-color: #ffffff; background-color: #1c1c1c\">Avusy                152.000000</span><span style=\"color: #00ffff; text-decoration-color: #00ffff; background-color: #1c1c1c\"> │</span>\n",
              "<span style=\"color: #00ffff; text-decoration-color: #00ffff; background-color: #1c1c1c\">│ </span><span style=\"color: #ffffff; text-decoration-color: #ffffff; background-color: #1c1c1c\">Cologny              143.888889</span><span style=\"color: #00ffff; text-decoration-color: #00ffff; background-color: #1c1c1c\"> │</span>\n",
              "<span style=\"color: #00ffff; text-decoration-color: #00ffff; background-color: #1c1c1c\">│ </span><span style=\"color: #ffffff; text-decoration-color: #ffffff; background-color: #1c1c1c\">Hermance             140.833333</span><span style=\"color: #00ffff; text-decoration-color: #00ffff; background-color: #1c1c1c\"> │</span>\n",
              "<span style=\"color: #00ffff; text-decoration-color: #00ffff; background-color: #1c1c1c\">│ </span><span style=\"color: #ffffff; text-decoration-color: #ffffff; background-color: #1c1c1c\">Chêne-Bougeries      121.500000</span><span style=\"color: #00ffff; text-decoration-color: #00ffff; background-color: #1c1c1c\"> │</span>\n",
              "<span style=\"color: #00ffff; text-decoration-color: #00ffff; background-color: #1c1c1c\">│ </span><span style=\"color: #ffffff; text-decoration-color: #ffffff; background-color: #1c1c1c\">Russin               120.000000</span><span style=\"color: #00ffff; text-decoration-color: #00ffff; background-color: #1c1c1c\"> │</span>\n",
              "<span style=\"color: #00ffff; text-decoration-color: #00ffff; background-color: #1c1c1c\">│ </span><span style=\"color: #ffffff; text-decoration-color: #ffffff; background-color: #1c1c1c\">Pregny-Chambésy      117.222222</span><span style=\"color: #00ffff; text-decoration-color: #00ffff; background-color: #1c1c1c\"> │</span>\n",
              "<span style=\"color: #00ffff; text-decoration-color: #00ffff; background-color: #1c1c1c\">│ </span><span style=\"color: #ffffff; text-decoration-color: #ffffff; background-color: #1c1c1c\">Jussy                115.142857</span><span style=\"color: #00ffff; text-decoration-color: #00ffff; background-color: #1c1c1c\"> │</span>\n",
              "<span style=\"color: #00ffff; text-decoration-color: #00ffff; background-color: #1c1c1c\">│ </span><span style=\"color: #ffffff; text-decoration-color: #ffffff; background-color: #1c1c1c\">Commune de Genève    114.357814</span><span style=\"color: #00ffff; text-decoration-color: #00ffff; background-color: #1c1c1c\"> │</span>\n",
              "<span style=\"color: #00ffff; text-decoration-color: #00ffff; background-color: #1c1c1c\">│ </span><span style=\"color: #ffffff; text-decoration-color: #ffffff; background-color: #1c1c1c\">Grand-Saconnex       111.060000</span><span style=\"color: #00ffff; text-decoration-color: #00ffff; background-color: #1c1c1c\"> │</span>\n",
              "<span style=\"color: #00ffff; text-decoration-color: #00ffff; background-color: #1c1c1c\">│ </span><span style=\"color: #ffffff; text-decoration-color: #ffffff; background-color: #1c1c1c\">Troinex              109.400000</span><span style=\"color: #00ffff; text-decoration-color: #00ffff; background-color: #1c1c1c\"> │</span>\n",
              "<span style=\"color: #00ffff; text-decoration-color: #00ffff; background-color: #1c1c1c\">│ </span><span style=\"color: #ffffff; text-decoration-color: #ffffff; background-color: #1c1c1c\">Name: price, dtype: float64</span><span style=\"color: #00ffff; text-decoration-color: #00ffff; background-color: #1c1c1c\">     │</span>\n",
              "<span style=\"color: #00ffff; text-decoration-color: #00ffff; background-color: #1c1c1c\">╰─────────────────────────────────╯</span>\n",
              "</pre>\n"
            ]
          },
          "metadata": {}
        }
      ]
    },
    {
      "cell_type": "markdown",
      "source": [
        "Observando o card acima,Podemos ver que a região de  Avusy têm o preço médio mais altos do que lugares como Cologny , Pregny-Chambésy,\n",
        "Chêne-Bougeries, Russin e Meinier.\n",
        "\n",
        "De acordo com [o índice anual de situação financeira para o ano de 2021](https://www.ge.ch/document/fiscalite-communes-indice-annuel-capacite-financiere), publicado no [site oficial da república e do cantão de Genebra](https://www.ge.ch),o índice de situação financeira do assentamento de Avusy é inferior ao das outras regiões mencionadas acima. Enquanto todas as outras comunas do cantão genebrino fazem parte dos 25 municípios com maior capacidade financeira de Genebra, Avusy é um dos últimos lugares. É improvável que Colony e Avusy estejam na mesma agenda em termos de alto desempenho econômico, Colony lidera o ranking de capacidade financeira com um valor quase 3 vezes maior do que o 4º lugar (Vandoeuvres), sem falar que  a \"Beverly Hills de Genebra\", Conhecida assim por alguns, é o lar do Fórum Econômico Mundial (WEF), onde o engajamento e a colaboração entre as maiores e mais importantes empresas do mundo acontecem todos os anos. \n",
        "\n",
        "Podemos destacar também que a maioria das regiões do cantão de genebra apresentadas no card, são comunas limítrofes do lago Lemano(O maior lago da Europa Ocidental) e estabelecem uma proximidade geográfica com centro de genebra, o que torna essas regiões únicas.\n",
        "\n",
        "Quando realizamos uma análise exploratória de dados é essencial fazer perguntas durante a investigação ou quando estamos tentando validar uma hipótese. Interpretar os dados sem questionamento é como legitimar que eles dizem qualquer coisa. Só para dar um único exemplo de como uma amostra pode ser não-representativa, veja quantas entradas há para Avusy.\n",
        "\n",
        "\n",
        "\n",
        "\n",
        "\n"
      ],
      "metadata": {
        "id": "9h2x6FWQWm56"
      }
    },
    {
      "cell_type": "code",
      "source": [
        "avusy = df_clean[df_clean.neighbourhood == 'Avusy']\n",
        "print(f'Numero de Entradas: {len(avusy)}')\n",
        "avusy"
      ],
      "metadata": {
        "colab": {
          "base_uri": "https://localhost:8080/",
          "height": 283
        },
        "id": "sxl8PQ4gO9If",
        "outputId": "4a8283a4-1983-4abd-ab8b-6e54f9dc4f3c"
      },
      "execution_count": null,
      "outputs": [
        {
          "output_type": "display_data",
          "data": {
            "text/plain": [
              "Numero de Entradas: \u001b[1;36m1\u001b[0m\n"
            ],
            "text/html": [
              "<pre style=\"white-space:pre;overflow-x:auto;line-height:normal;font-family:Menlo,'DejaVu Sans Mono',consolas,'Courier New',monospace\">Numero de Entradas: <span style=\"color: #008080; text-decoration-color: #008080; font-weight: bold\">1</span>\n",
              "</pre>\n"
            ]
          },
          "metadata": {}
        },
        {
          "output_type": "execute_result",
          "data": {
            "text/plain": [
              "           id                                               name   host_id  \\\n",
              "2441  9205570  Super appart, piscine à 4 minutes douane de Ge...  12207393   \n",
              "\n",
              "                host_name  neighbourhood_group neighbourhood  latitude  \\\n",
              "2441  Christelle Et Alain                  NaN         Avusy  46.12869   \n",
              "\n",
              "      longitude        room_type  price  minimum_nights  number_of_reviews  \\\n",
              "2441    6.00314  Entire home/apt    152               2                197   \n",
              "\n",
              "     last_review  reviews_per_month  calculated_host_listings_count  \\\n",
              "2441  2022-06-18               2.44                               1   \n",
              "\n",
              "      availability_365  number_of_reviews_ltm license  \n",
              "2441               184                     20     NaN  "
            ],
            "text/html": [
              "\n",
              "  <div id=\"df-7b9108a3-de21-444c-8f36-3fc589d28745\">\n",
              "    <div class=\"colab-df-container\">\n",
              "      <div>\n",
              "<style scoped>\n",
              "    .dataframe tbody tr th:only-of-type {\n",
              "        vertical-align: middle;\n",
              "    }\n",
              "\n",
              "    .dataframe tbody tr th {\n",
              "        vertical-align: top;\n",
              "    }\n",
              "\n",
              "    .dataframe thead th {\n",
              "        text-align: right;\n",
              "    }\n",
              "</style>\n",
              "<table border=\"1\" class=\"dataframe\">\n",
              "  <thead>\n",
              "    <tr style=\"text-align: right;\">\n",
              "      <th></th>\n",
              "      <th>id</th>\n",
              "      <th>name</th>\n",
              "      <th>host_id</th>\n",
              "      <th>host_name</th>\n",
              "      <th>neighbourhood_group</th>\n",
              "      <th>neighbourhood</th>\n",
              "      <th>latitude</th>\n",
              "      <th>longitude</th>\n",
              "      <th>room_type</th>\n",
              "      <th>price</th>\n",
              "      <th>minimum_nights</th>\n",
              "      <th>number_of_reviews</th>\n",
              "      <th>last_review</th>\n",
              "      <th>reviews_per_month</th>\n",
              "      <th>calculated_host_listings_count</th>\n",
              "      <th>availability_365</th>\n",
              "      <th>number_of_reviews_ltm</th>\n",
              "      <th>license</th>\n",
              "    </tr>\n",
              "  </thead>\n",
              "  <tbody>\n",
              "    <tr>\n",
              "      <th>2441</th>\n",
              "      <td>9205570</td>\n",
              "      <td>Super appart, piscine à 4 minutes douane de Ge...</td>\n",
              "      <td>12207393</td>\n",
              "      <td>Christelle Et Alain</td>\n",
              "      <td>NaN</td>\n",
              "      <td>Avusy</td>\n",
              "      <td>46.12869</td>\n",
              "      <td>6.00314</td>\n",
              "      <td>Entire home/apt</td>\n",
              "      <td>152</td>\n",
              "      <td>2</td>\n",
              "      <td>197</td>\n",
              "      <td>2022-06-18</td>\n",
              "      <td>2.44</td>\n",
              "      <td>1</td>\n",
              "      <td>184</td>\n",
              "      <td>20</td>\n",
              "      <td>NaN</td>\n",
              "    </tr>\n",
              "  </tbody>\n",
              "</table>\n",
              "</div>\n",
              "      <button class=\"colab-df-convert\" onclick=\"convertToInteractive('df-7b9108a3-de21-444c-8f36-3fc589d28745')\"\n",
              "              title=\"Convert this dataframe to an interactive table.\"\n",
              "              style=\"display:none;\">\n",
              "        \n",
              "  <svg xmlns=\"http://www.w3.org/2000/svg\" height=\"24px\"viewBox=\"0 0 24 24\"\n",
              "       width=\"24px\">\n",
              "    <path d=\"M0 0h24v24H0V0z\" fill=\"none\"/>\n",
              "    <path d=\"M18.56 5.44l.94 2.06.94-2.06 2.06-.94-2.06-.94-.94-2.06-.94 2.06-2.06.94zm-11 1L8.5 8.5l.94-2.06 2.06-.94-2.06-.94L8.5 2.5l-.94 2.06-2.06.94zm10 10l.94 2.06.94-2.06 2.06-.94-2.06-.94-.94-2.06-.94 2.06-2.06.94z\"/><path d=\"M17.41 7.96l-1.37-1.37c-.4-.4-.92-.59-1.43-.59-.52 0-1.04.2-1.43.59L10.3 9.45l-7.72 7.72c-.78.78-.78 2.05 0 2.83L4 21.41c.39.39.9.59 1.41.59.51 0 1.02-.2 1.41-.59l7.78-7.78 2.81-2.81c.8-.78.8-2.07 0-2.86zM5.41 20L4 18.59l7.72-7.72 1.47 1.35L5.41 20z\"/>\n",
              "  </svg>\n",
              "      </button>\n",
              "      \n",
              "  <style>\n",
              "    .colab-df-container {\n",
              "      display:flex;\n",
              "      flex-wrap:wrap;\n",
              "      gap: 12px;\n",
              "    }\n",
              "\n",
              "    .colab-df-convert {\n",
              "      background-color: #E8F0FE;\n",
              "      border: none;\n",
              "      border-radius: 50%;\n",
              "      cursor: pointer;\n",
              "      display: none;\n",
              "      fill: #1967D2;\n",
              "      height: 32px;\n",
              "      padding: 0 0 0 0;\n",
              "      width: 32px;\n",
              "    }\n",
              "\n",
              "    .colab-df-convert:hover {\n",
              "      background-color: #E2EBFA;\n",
              "      box-shadow: 0px 1px 2px rgba(60, 64, 67, 0.3), 0px 1px 3px 1px rgba(60, 64, 67, 0.15);\n",
              "      fill: #174EA6;\n",
              "    }\n",
              "\n",
              "    [theme=dark] .colab-df-convert {\n",
              "      background-color: #3B4455;\n",
              "      fill: #D2E3FC;\n",
              "    }\n",
              "\n",
              "    [theme=dark] .colab-df-convert:hover {\n",
              "      background-color: #434B5C;\n",
              "      box-shadow: 0px 1px 3px 1px rgba(0, 0, 0, 0.15);\n",
              "      filter: drop-shadow(0px 1px 2px rgba(0, 0, 0, 0.3));\n",
              "      fill: #FFFFFF;\n",
              "    }\n",
              "  </style>\n",
              "\n",
              "      <script>\n",
              "        const buttonEl =\n",
              "          document.querySelector('#df-7b9108a3-de21-444c-8f36-3fc589d28745 button.colab-df-convert');\n",
              "        buttonEl.style.display =\n",
              "          google.colab.kernel.accessAllowed ? 'block' : 'none';\n",
              "\n",
              "        async function convertToInteractive(key) {\n",
              "          const element = document.querySelector('#df-7b9108a3-de21-444c-8f36-3fc589d28745');\n",
              "          const dataTable =\n",
              "            await google.colab.kernel.invokeFunction('convertToInteractive',\n",
              "                                                     [key], {});\n",
              "          if (!dataTable) return;\n",
              "\n",
              "          const docLinkHtml = 'Like what you see? Visit the ' +\n",
              "            '<a target=\"_blank\" href=https://colab.research.google.com/notebooks/data_table.ipynb>data table notebook</a>'\n",
              "            + ' to learn more about interactive tables.';\n",
              "          element.innerHTML = '';\n",
              "          dataTable['output_type'] = 'display_data';\n",
              "          await google.colab.output.renderOutput(dataTable, element);\n",
              "          const docLink = document.createElement('div');\n",
              "          docLink.innerHTML = docLinkHtml;\n",
              "          element.appendChild(docLink);\n",
              "        }\n",
              "      </script>\n",
              "    </div>\n",
              "  </div>\n",
              "  "
            ]
          },
          "metadata": {},
          "execution_count": 51
        }
      ]
    },
    {
      "cell_type": "markdown",
      "source": [
        "Como são fornecidas as Latitudes e Longitudes para os imóveis, utilizamos um mapa de calor para destacar a concentração dos imóveis no mapa localizador.\n"
      ],
      "metadata": {
        "id": "gM8IFGWdwndA"
      }
    },
    {
      "cell_type": "code",
      "source": [
        "lat = df_clean.latitude.values\n",
        "lon = df_clean.longitude.values \n",
        "coord = np.array([latlon for latlon in zip(lat, lon)])\n",
        "\n",
        "fig_size = Figure(width=1000, height=500)\n",
        "map = Map(location=[46.2022200\t,  6.1456900], \n",
        "          zoom_start=10, \n",
        "          tiles=\"Stamen Toner\").add_to(fig_size)\n",
        "\n",
        "map.add_child(plugins.HeatMap(coord))"
      ],
      "metadata": {
        "colab": {
          "base_uri": "https://localhost:8080/",
          "height": 521
        },
        "id": "iOz2OWn6t7IL",
        "outputId": "504d7db5-c8b2-4b8a-a456-1d5a05b42c21"
      },
      "execution_count": null,
      "outputs": [
        {
          "output_type": "execute_result",
          "data": {
            "text/plain": [
              "<folium.folium.Map at 0x7f98fc3e8e50>"
            ],
            "text/html": [
              "<iframe srcdoc=\"&lt;!DOCTYPE html&gt;\n",
              "&lt;html&gt;\n",
              "&lt;head&gt;\n",
              "    \n",
              "    &lt;meta http-equiv=&quot;content-type&quot; content=&quot;text/html; charset=UTF-8&quot; /&gt;\n",
              "    \n",
              "        &lt;script&gt;\n",
              "            L_NO_TOUCH = false;\n",
              "            L_DISABLE_3D = false;\n",
              "        &lt;/script&gt;\n",
              "    \n",
              "    &lt;style&gt;html, body {width: 100%;height: 100%;margin: 0;padding: 0;}&lt;/style&gt;\n",
              "    &lt;style&gt;#map {position:absolute;top:0;bottom:0;right:0;left:0;}&lt;/style&gt;\n",
              "    &lt;script src=&quot;https://cdn.jsdelivr.net/npm/leaflet@1.6.0/dist/leaflet.js&quot;&gt;&lt;/script&gt;\n",
              "    &lt;script src=&quot;https://code.jquery.com/jquery-1.12.4.min.js&quot;&gt;&lt;/script&gt;\n",
              "    &lt;script src=&quot;https://maxcdn.bootstrapcdn.com/bootstrap/3.2.0/js/bootstrap.min.js&quot;&gt;&lt;/script&gt;\n",
              "    &lt;script src=&quot;https://cdnjs.cloudflare.com/ajax/libs/Leaflet.awesome-markers/2.0.2/leaflet.awesome-markers.js&quot;&gt;&lt;/script&gt;\n",
              "    &lt;link rel=&quot;stylesheet&quot; href=&quot;https://cdn.jsdelivr.net/npm/leaflet@1.6.0/dist/leaflet.css&quot;/&gt;\n",
              "    &lt;link rel=&quot;stylesheet&quot; href=&quot;https://maxcdn.bootstrapcdn.com/bootstrap/3.2.0/css/bootstrap.min.css&quot;/&gt;\n",
              "    &lt;link rel=&quot;stylesheet&quot; href=&quot;https://maxcdn.bootstrapcdn.com/bootstrap/3.2.0/css/bootstrap-theme.min.css&quot;/&gt;\n",
              "    &lt;link rel=&quot;stylesheet&quot; href=&quot;https://maxcdn.bootstrapcdn.com/font-awesome/4.6.3/css/font-awesome.min.css&quot;/&gt;\n",
              "    &lt;link rel=&quot;stylesheet&quot; href=&quot;https://cdnjs.cloudflare.com/ajax/libs/Leaflet.awesome-markers/2.0.2/leaflet.awesome-markers.css&quot;/&gt;\n",
              "    &lt;link rel=&quot;stylesheet&quot; href=&quot;https://cdn.jsdelivr.net/gh/python-visualization/folium/folium/templates/leaflet.awesome.rotate.min.css&quot;/&gt;\n",
              "    \n",
              "            &lt;meta name=&quot;viewport&quot; content=&quot;width=device-width,\n",
              "                initial-scale=1.0, maximum-scale=1.0, user-scalable=no&quot; /&gt;\n",
              "            &lt;style&gt;\n",
              "                #map_13b2cc95856e6a805a0906860b955ae4 {\n",
              "                    position: relative;\n",
              "                    width: 100.0%;\n",
              "                    height: 100.0%;\n",
              "                    left: 0.0%;\n",
              "                    top: 0.0%;\n",
              "                }\n",
              "            &lt;/style&gt;\n",
              "        \n",
              "    &lt;script src=&quot;https://cdn.jsdelivr.net/gh/python-visualization/folium@master/folium/templates/leaflet_heat.min.js&quot;&gt;&lt;/script&gt;\n",
              "&lt;/head&gt;\n",
              "&lt;body&gt;\n",
              "    \n",
              "    \n",
              "            &lt;div class=&quot;folium-map&quot; id=&quot;map_13b2cc95856e6a805a0906860b955ae4&quot; &gt;&lt;/div&gt;\n",
              "        \n",
              "&lt;/body&gt;\n",
              "&lt;script&gt;\n",
              "    \n",
              "    \n",
              "            var map_13b2cc95856e6a805a0906860b955ae4 = L.map(\n",
              "                &quot;map_13b2cc95856e6a805a0906860b955ae4&quot;,\n",
              "                {\n",
              "                    center: [46.20222, 6.14569],\n",
              "                    crs: L.CRS.EPSG3857,\n",
              "                    zoom: 10,\n",
              "                    zoomControl: true,\n",
              "                    preferCanvas: false,\n",
              "                }\n",
              "            );\n",
              "\n",
              "            \n",
              "\n",
              "        \n",
              "    \n",
              "            var tile_layer_835df315333c888823ed1d74264fd4ec = L.tileLayer(\n",
              "                &quot;https://stamen-tiles-{s}.a.ssl.fastly.net/toner/{z}/{x}/{y}.png&quot;,\n",
              "                {&quot;attribution&quot;: &quot;Map tiles by \\u003ca href=\\&quot;http://stamen.com\\&quot;\\u003eStamen Design\\u003c/a\\u003e, under \\u003ca href=\\&quot;http://creativecommons.org/licenses/by/3.0\\&quot;\\u003eCC BY 3.0\\u003c/a\\u003e. Data by \\u0026copy; \\u003ca href=\\&quot;http://openstreetmap.org\\&quot;\\u003eOpenStreetMap\\u003c/a\\u003e, under \\u003ca href=\\&quot;http://www.openstreetmap.org/copyright\\&quot;\\u003eODbL\\u003c/a\\u003e.&quot;, &quot;detectRetina&quot;: false, &quot;maxNativeZoom&quot;: 18, &quot;maxZoom&quot;: 18, &quot;minZoom&quot;: 0, &quot;noWrap&quot;: false, &quot;opacity&quot;: 1, &quot;subdomains&quot;: &quot;abc&quot;, &quot;tms&quot;: false}\n",
              "            ).addTo(map_13b2cc95856e6a805a0906860b955ae4);\n",
              "        \n",
              "    \n",
              "            var heat_map_254f0e3ef6fcc94acc670fad65c343e9 = L.heatLayer(\n",
              "                [[46.2014, 6.15507], [46.19704, 6.16076], [46.27944, 6.16724], [46.21428, 6.1461], [46.20682, 6.15526], [46.21092, 6.14588], [46.20508, 6.15822], [46.20518, 6.12397], [46.22388, 6.13371], [46.19321, 6.14291], [46.20174, 6.14594], [46.20175, 6.14852], [46.21491, 6.13448], [46.21671, 6.13847], [46.211998, 6.150082], [46.20267, 6.16201], [46.20166, 6.16103], [46.20625, 6.16064], [46.20089, 6.13124], [46.25854, 6.15074], [46.20693, 6.13087], [46.1914, 6.15798], [46.22874, 6.11634], [46.19068, 6.15359], [46.19656, 6.14724], [46.22845, 6.11588], [46.18797, 6.13994], [46.19979, 6.10311], [46.20553, 6.16371], [46.21149, 6.14424], [46.21341, 6.13114], [46.20439, 6.13146], [46.19405, 6.19447], [46.21057, 6.14615], [46.20862, 6.14615], [46.19978, 6.13656], [46.20053, 6.13811], [46.22493, 6.13191], [46.27786, 6.16748], [46.19005, 6.14249], [46.17101, 6.16429], [46.21302, 6.14516], [46.17136, 6.17251], [46.19368, 6.12196], [46.20439, 6.1447], [46.20173, 6.13399], [46.22086, 6.14058], [46.2097, 6.14578], [46.21604, 6.14929], [46.20508, 6.16281], [46.20147, 6.15701], [46.21416, 6.14891], [46.19726, 6.16875], [46.21338, 6.13531], [46.19099, 6.13418], [46.21226, 6.14064], [46.20548, 6.16182], [46.20404, 6.13558], [46.20183, 6.15048], [46.2036, 6.15926], [46.1972, 6.16055], [46.19308, 6.13925], [46.16422, 6.11381], [46.19159, 6.14271], [46.16715, 5.99505], [46.2049, 6.14089], [46.21464, 6.14991], [46.16419, 6.11254], [46.21474, 6.14862], [46.198, 6.13858], [46.16389, 6.11209], [46.19382, 6.1829], [46.18115, 6.13724], [46.23029, 6.11974], [46.21041, 6.11045], [46.19056, 6.14146], [46.21062, 6.14522], [46.19069, 6.13503], [46.21047, 6.15117], [46.21473, 6.21261], [46.21573, 6.12058], [46.21204, 6.13113], [46.2088, 6.14405], [46.19397, 6.16119], [46.25865, 6.15325], [46.18144, 6.09675], [46.17215, 6.1115], [46.18202, 6.14093], [46.17955, 6.09514], [46.19471, 6.1474], [46.19751, 6.15876], [46.21263, 6.14632], [46.21153, 6.14833], [46.19364, 6.14462], [46.1814, 6.13814], [46.20534, 6.17635], [46.21431, 6.14708], [46.17364, 6.14371], [46.22009, 6.14187], [46.20474, 6.15923], [46.21968, 6.0877], [46.22562, 6.10843], [46.22018, 6.1414], [46.17579, 6.11718], [46.20147, 6.16684], [46.21533, 6.14899], [46.214, 6.13356], [46.20617, 6.03003], [46.19471, 6.1474], [46.1971, 6.13604], [46.20162, 6.15815], [46.19966, 6.19874], [46.19479, 6.14214], [46.2044, 6.13418], [46.19555, 6.14724], [46.2085, 6.13271], [46.22164, 6.20439], [46.20907, 6.14594], [46.24646, 6.13597], [46.18968, 6.15711], [46.174248, 6.114157], [46.20267, 6.18263], [46.20932, 6.14867], [46.20809, 6.13415], [46.19935, 6.14897], [46.17601, 6.08685], [46.24646, 6.13734], [46.2124, 6.1353], [46.20685, 6.14087], [46.20861, 6.1385], [46.23469, 6.12367], [46.18224, 6.14181], [46.21264, 6.13854], [46.20797, 6.13667], [46.20192, 6.13791], [46.20719, 6.12964], [46.19087, 6.14062], [46.21523, 6.14753], [46.2037, 6.16431], [46.20552, 6.16236], [46.20259, 6.14457], [46.20626, 6.13821], [46.23774, 6.08196], [46.20259, 6.14457], [46.20939, 6.11226], [46.1866, 6.15395], [46.20899, 6.10784], [46.21203, 6.14758], [46.20564, 6.16237], [46.25467, 6.21783], [46.21117, 6.12957], [46.21137, 6.13409], [46.20156, 6.15034], [46.21256, 6.14288], [46.19547, 6.14485], [46.23016, 6.07735], [46.20272, 6.13159], [46.20546, 6.16119], [46.20259, 6.14457], [46.20411, 6.13848], [46.19435, 6.14448], [46.2275, 6.1178], [46.20259, 6.14457], [46.17935, 6.09566], [46.18701, 6.15445], [46.20064, 6.15016], [46.21149, 6.13421], [46.19276, 6.14512], [46.21234, 6.14069], [46.21226, 6.15037], [46.19845, 6.14356], [46.20479, 6.16178], [46.20914, 6.13261], [46.2667, 6.15635], [46.14224, 6.13522], [46.21072, 6.12748], [46.2072, 6.1263], [46.17325, 6.18132], [46.20055, 6.14929], [46.20232, 6.14755], [46.20555, 6.15849], [46.20978, 6.1293], [46.20311, 6.15759], [46.20232, 6.14768], [46.2177, 6.12762], [46.20723, 6.12012], [46.21359, 6.13339], [46.21786, 6.14776], [46.25491, 6.14164], [46.21073, 6.14743], [46.20295, 6.15866], [46.21065, 6.14419], [46.21367, 6.12981], [46.20478, 6.12369], [46.16939, 6.12375], [46.2129, 6.12956], [46.20629, 6.1254], [46.20651, 6.13294], [46.20065, 6.15695], [46.16998, 6.13609], [46.26089, 6.20313], [46.21227, 6.12988], [46.20763, 6.07481], [46.20824, 6.14148], [46.19994, 6.1519], [46.20298, 6.15791], [46.20397, 6.15767], [46.21094, 6.13844], [46.20924, 6.134], [46.19632, 6.1375], [46.20587, 6.16404], [46.19634, 6.1618], [46.19281, 6.13645], [46.2149, 6.13505], [46.28141, 6.15756], [46.17108, 6.16363], [46.21128, 6.12547], [46.20578, 6.17624], [46.16443, 6.18456], [46.19538, 6.13987], [46.21571, 6.18206], [46.21018, 6.12355], [46.21494, 6.14656], [46.19382, 6.15183], [46.19294, 6.14223], [46.19822, 6.162], [46.22245, 6.13039], [46.21292, 6.14849], [46.20499, 6.13328], [46.19795, 6.13802], [46.1905, 6.14421], [46.18909, 6.15399], [46.19868, 6.13601], [46.21345, 6.14948], [46.21055, 6.14977], [46.28608, 6.16409], [46.28469, 6.1629], [46.19716, 6.13842], [46.20103, 6.13179], [46.19234, 6.20215], [46.22104, 6.15031], [46.24367, 6.20789], [46.18776, 6.13717], [46.19925, 6.16219], [46.20845, 6.12718], [46.23606, 6.14047], [46.20754, 6.11971], [46.20561, 6.13057], [46.20254, 6.13686], [46.20641, 6.07623], [46.19819, 6.16405], [46.23119, 6.12112], [46.21067, 6.13895], [46.23845, 6.19989], [46.22563, 6.13231], [46.20503, 6.11745], [46.21916, 6.13887], [46.19935, 6.13425], [46.20119, 6.14965], [46.19303, 6.16109], [46.18408, 6.14212], [46.20819, 6.13704], [46.20113, 6.14674], [46.21742, 6.1398], [46.19842, 6.13845], [46.19339, 6.16144], [46.19375, 6.16817], [46.23884, 6.0822], [46.19963, 6.13005], [46.21035, 6.13012], [46.19369, 6.1471], [46.20672, 6.1406], [46.20314, 6.14471], [46.21018, 6.12355], [46.21266, 6.07889], [46.23024, 6.11944], [46.19959, 6.19799], [46.16605, 6.18302], [46.18618, 6.1035], [46.26585, 6.15306], [46.21372, 6.12828], [46.203, 6.14662], [46.21021, 6.1354], [46.21156, 6.14169], [46.20593, 6.14293], [46.23578, 6.07687], [46.21255, 6.12758], [46.20793, 6.14285], [46.20044, 6.1616], [46.20044, 6.1616], [46.19154, 6.16913], [46.19153, 6.13558], [46.21468, 6.13508], [46.20323, 6.164], [46.21197, 6.14639], [46.19153, 6.15509], [46.18667, 6.11993], [46.21296, 6.14569], [46.21353, 6.12924], [46.1443, 6.04688], [46.25056, 6.14733], [46.2041, 6.1367], [46.20218, 6.09574], [46.19334, 6.14468], [46.19974, 6.16129], [46.22519, 6.13261], [46.19961, 6.15589], [46.28254, 6.15845], [46.1643, 6.0199], [46.19726, 6.14154], [46.19558, 6.14834], [46.17323, 6.12328], [46.18784, 6.13676], [46.23544, 6.12614], [46.20352, 6.11384], [46.18307, 6.11167], [46.22557, 6.11742], [46.21003, 6.13729], [46.20206, 6.1366], [46.23017, 6.07229], [46.21258, 6.13236], [46.21128, 6.1463], [46.23662, 6.19695], [46.2021, 6.17312], [46.21233, 6.15088], [46.20472, 6.15875], [46.20179, 6.14635], [46.20465, 6.12326], [46.19947, 6.22208], [46.20383, 6.12349], [46.2925, 6.1635], [46.20292, 6.16019], [46.21808, 6.09233], [46.16385, 6.02289], [46.20072, 6.15466], [46.19873, 6.13707], [46.20084, 6.16204], [46.17358, 6.12328], [46.20871, 6.13978], [46.20483, 6.16082], [46.20924, 6.13304], [46.18037, 6.08823], [46.20494, 6.13605], [46.20991, 6.14625], [46.28569, 6.16251], [46.21901, 6.1091], [46.19093, 6.14438], [46.20328, 6.16026], [46.20955, 6.13877], [46.20937, 6.13477], [46.18863, 6.15989], [46.21393, 6.14712], [46.20735, 6.14109], [46.22027, 6.10987], [46.20308, 6.1583], [46.21242, 6.15006], [46.23193, 6.12338], [46.16572, 6.14018], [46.20996, 6.137], [46.22722, 6.06988], [46.21035, 6.13557], [46.22326, 6.12405], [46.20248, 6.13254], [46.20259, 6.14457], [46.20164, 6.17264], [46.19093, 6.11119], [46.21297, 6.14931], [46.19552, 6.16073], [46.20756, 6.13527], [46.29434, 6.16387], [46.20026, 6.12844], [46.21059, 6.14763], [46.17512, 6.12135], [46.2133, 6.15061], [46.14982, 6.12522], [46.19323, 6.15946], [46.19552, 6.16873], [46.2002, 6.16352], [46.17588, 6.12377], [46.21103, 6.14072], [46.20414, 6.14319], [46.19273, 6.14208], [46.21397, 6.14886], [46.19981, 6.14845], [46.19482, 6.14967], [46.20044, 6.1616], [46.20044, 6.1616], [46.21006, 6.13928], [46.20813, 6.1295], [46.22114, 6.11093], [46.21433, 6.14742], [46.21042, 6.12744], [46.21628, 6.1275], [46.20968, 6.14751], [46.20229, 6.16156], [46.20039, 6.17554], [46.21626, 6.12615], [46.21566, 6.1247], [46.21535, 6.14529], [46.23519, 6.12771], [46.20303, 6.1372], [46.20923, 6.12312], [46.20912, 6.14422], [46.21074, 6.14934], [46.20784, 6.14218], [46.2135, 6.13391], [46.22445, 6.12429], [46.18099, 6.14105], [46.20084, 6.14747], [46.19367, 6.14435], [46.29627, 6.24268], [46.20768, 6.14224], [46.24333, 6.14638], [46.21607, 6.03834], [46.23313, 6.12515], [46.24708, 6.23524], [46.19568, 6.14309], [46.21157, 6.13576], [46.19693, 6.14771], [46.18561, 6.10013], [46.21146, 6.14975], [46.21887, 6.1387], [46.18178, 6.12124], [46.21723, 6.14036], [46.23291, 6.12485], [46.23375, 6.12115], [46.19849, 6.18927], [46.19734, 6.11949], [46.21275, 6.15445], [46.20367, 6.16305], [46.21189, 6.14807], [46.20763, 6.07441], [46.21137, 6.13409], [46.21062, 6.12413], [46.20085, 6.14434], [46.20667, 6.12995], [46.14343, 6.13658], [46.18884, 6.13909], [46.20703, 6.12672], [46.21119, 6.14801], [46.28413, 6.16171], [46.21284, 6.13172], [46.20407, 6.15915], [46.21528, 6.14824], [46.23949, 6.12361], [46.23728, 6.12605], [46.20349, 6.13694], [46.20107, 6.16303], [46.214, 6.13012], [46.16825, 6.12615], [46.19323, 6.14477], [46.19952, 6.15761], [46.22387, 6.10699], [46.1838, 6.14143], [46.20161, 6.14858], [46.19508, 6.15393], [46.21743, 6.11746], [46.20249, 6.15995], [46.21517, 6.13515], [46.20198, 6.17029], [46.20955, 6.14505], [46.19154, 6.13741], [46.20827, 6.14448], [46.18506, 6.14038], [46.19286, 6.20646], [46.20595, 6.12955], [46.1883, 6.12025], [46.22539, 6.06661], [46.20242, 6.16001], [46.20892, 6.12499], [46.20039, 6.17554], [46.19386, 6.15649], [46.17776, 6.12365], [46.21837, 6.13592], [46.25017, 6.14597], [46.21257, 6.14532], [46.20458, 6.16081], [46.2167, 6.14715], [46.18816, 6.15348], [46.21134, 6.1487], [46.20587, 6.12751], [46.20556, 6.13211], [46.21151, 6.13223], [46.19977, 6.13937], [46.22428, 6.1249], [46.29089, 6.16343], [46.21505, 6.1481], [46.20712, 6.14319], [46.20336, 6.15958], [46.21418, 6.15084], [46.1976, 6.16994], [46.19839, 6.14859], [46.20248, 6.15848], [46.18855, 6.15366], [46.18739, 6.13626], [46.20187, 6.12827], [46.20966, 6.14963], [46.20931, 6.14874], [46.21061, 6.12718], [46.20362, 6.1348], [46.1628, 6.12931], [46.20123, 6.15154], [46.20703, 6.13059], [46.21194, 6.13312], [46.2007, 6.13132], [46.18903, 6.14356], [46.20117, 6.15821], [46.20355, 6.1643], [46.19752, 6.15523], [46.24596, 6.14438], [46.16278, 6.1814], [46.2004, 6.1307], [46.20507, 6.14259], [46.19114, 6.10863], [46.25663, 6.15174], [46.22938, 6.0803], [46.24678, 6.13767], [46.16675, 6.00641], [46.19769, 6.15464], [46.2035, 6.1589], [46.228, 6.10826], [46.20726, 6.14627], [46.20847, 6.14035], [46.2306, 6.078], [46.18707, 6.15588], [46.20163, 6.17188], [46.22528, 6.1288], [46.23122, 6.11851], [46.19383, 6.14446], [46.21373, 6.12415], [46.21327, 6.15018], [46.21578, 6.11944], [46.20871, 6.12257], [46.21023, 6.1283], [46.21668, 6.14562], [46.26363, 6.2234], [46.2073, 6.12989], [46.18839, 6.15593], [46.20921, 6.1343], [46.19943, 6.13723], [46.20488, 6.15996], [46.23246, 6.07493], [46.20502, 6.16256], [46.28752, 6.16274], [46.21117, 6.13528], [46.22274, 6.11041], [46.19881, 6.13945], [46.20106, 6.16799], [46.20254, 6.15953], [46.21102, 6.11531], [46.20927, 6.1244], [46.20506, 6.11057], [46.21866, 6.12299], [46.20335, 6.13591], [46.20326, 6.13587], [46.20955, 6.12275], [46.21043, 6.12382], [46.20334, 6.1446], [46.21104, 6.12391], [46.2024, 6.15949], [46.19925, 6.16219], [46.20967, 6.11944], [46.20213, 6.12996], [46.21042, 6.1354], [46.1899, 6.14702], [46.20433, 6.1609], [46.20454, 6.18315], [46.20968, 6.12447], [46.20948, 6.13952], [46.21193, 6.13495], [46.16841, 6.12214], [46.21056, 6.14996], [46.19558, 6.16082], [46.20077, 6.12759], [46.20926, 6.12409], [46.20127, 6.13029], [46.21521, 6.14779], [46.20285, 6.17234], [46.20173, 6.12173], [46.21781, 6.12369], [46.21278, 6.1458], [46.21414, 6.14663], [46.21462, 6.13204], [46.18974, 6.14541], [46.20994, 6.14623], [46.21082, 6.14288], [46.21059, 6.13367], [46.21202, 6.13294], [46.23515, 6.20412], [46.19109, 6.14498], [46.18479, 6.1458], [46.22137, 6.14995], [46.20175, 6.153], [46.20415, 6.13491], [46.22299, 6.12884], [46.18086, 6.14155], [46.19164, 6.15466], [46.18945, 6.15542], [46.20578, 6.12996], [46.21354, 6.14875], [46.19613, 6.13938], [46.18593, 6.13779], [46.19095, 6.15561], [46.20467, 6.1578], [46.19468, 6.14491], [46.23494, 6.12436], [46.24107, 6.09024], [46.20634, 6.1608], [46.20376, 6.13893], [46.20553, 6.12322], [46.18911, 6.13631], [46.19568, 6.14334], [46.19794, 6.13655], [46.17334, 6.12533], [46.19128, 6.13551], [46.22501, 6.12461], [46.2024, 6.13642], [46.22281, 6.12513], [46.23089, 6.07253], [46.19594, 6.1606], [46.20719, 6.13611], [46.2054, 6.16196], [46.23674, 6.0791], [46.20399, 6.1561], [46.20952, 6.14044], [46.20979, 6.11203], [46.19483, 6.15577], [46.23838, 6.12643], [46.18216, 6.15772], [46.14483, 6.14027], [46.22504, 6.10769], [46.19536, 6.12816], [46.19066, 6.14342], [46.21282, 6.14936], [46.30227, 6.24414], [46.17498, 6.12748], [46.20986, 6.13709], [46.19495, 6.1406], [46.28256, 6.2301], [46.20803, 6.14248], [46.21635, 6.13853], [46.2292, 6.12396], [46.18332, 6.14647], [46.18329, 6.14772], [46.18773, 6.14265], [46.19897, 6.17318], [46.2143, 6.12526], [46.28485, 6.15991], [46.19798, 6.19781], [46.1902, 6.1434], [46.20259, 6.17835], [46.19404, 6.16122], [46.2113, 6.22957], [46.20866, 6.12737], [46.18283, 6.14555], [46.21037, 6.14314], [46.21035, 6.1432], [46.20595, 6.13153], [46.21554, 6.13151], [46.20486, 6.16824], [46.20977, 6.12714], [46.20336, 6.15982], [46.21265, 6.2304], [46.20761, 6.13911], [46.20305, 6.15563], [46.20025, 6.13824], [46.18653, 6.13403], [46.21864, 6.14007], [46.20825, 6.14744], [46.20691, 6.1339], [46.17633, 6.11516], [46.17602, 6.15262], [46.28047, 6.15778], [46.20017, 6.1386], [46.21275, 6.15445], [46.1895, 6.14265], [46.20719, 6.14155], [46.17568, 6.12487], [46.20761, 6.10833], [46.20585, 6.10825], [46.19934, 6.14885], [46.20608, 6.12817], [46.19283, 6.13742], [46.19684, 6.14345], [46.19209, 6.16603], [46.2231, 6.13498], [46.21201, 6.12796], [46.20743, 6.12551], [46.21597, 6.14651], [46.20039, 6.17554], [46.22081, 6.1389], [46.19901, 6.14844], [46.2087, 6.14418], [46.20678, 6.16304], [46.20339, 6.1252], [46.21362, 6.18381], [46.20144, 6.21307], [46.2138, 6.18358], [46.22131, 6.13862], [46.21548, 6.08172], [46.22644, 6.1287], [46.1994, 6.16254], [46.20039, 6.17554], [46.21187, 6.14888], [46.20039, 6.17554], [46.21712, 6.1181], [46.16992, 6.11956], [46.20445, 6.13786], [46.21238, 6.12689], [46.22529, 6.10608], [46.19249, 6.20681], [46.27225, 6.2187], [46.20258, 6.12923], [46.20238, 6.14496], [46.27648, 6.22281], [46.22794, 6.06842], [46.21541, 6.13554], [46.19973, 6.15909], [46.21315, 6.15115], [46.18884, 6.10551], [46.19454, 6.20389], [46.19592, 6.20912], [46.22944, 6.07699], [46.20577, 6.1625], [46.20923, 6.13645], [46.20742, 6.14468], [46.22708, 6.1169], [46.1912, 6.13831], [46.19952, 6.15667], [46.19959, 6.17669], [46.21602, 6.14853], [46.20094, 6.102], [46.20175, 6.13641], [46.17299, 6.15776], [46.20684, 6.19833], [46.20692, 6.19681], [46.21107, 6.14552], [46.20522, 6.13399], [46.21982, 6.11835], [46.19219, 6.1455], [46.20489, 6.12545], [46.21101, 6.13529], [46.20938, 6.13868], [46.21045, 6.14612], [46.21069, 6.14481], [46.212, 6.12915], [46.19118, 6.14529], [46.20193, 6.16171], [46.20801, 6.14572], [46.20351, 6.15987], [46.20022, 6.13714], [46.20464, 6.15596], [46.19242, 6.14566], [46.1998, 6.16106], [46.16098, 6.10482], [46.2103, 6.14333], [46.2764, 6.16064], [46.21511, 6.13522], [46.20342, 6.16666], [46.19273, 6.14505], [46.19413, 6.14685], [46.25228, 6.2591], [46.18946, 6.15353], [46.21126, 6.1403], [46.2016, 6.15532], [46.20781, 6.14162], [46.20206, 6.17927], [46.21258, 6.14498], [46.21367, 6.13259], [46.29053, 6.16027], [46.20613, 6.12569], [46.23688, 6.12526], [46.23787, 6.12454], [46.20669, 6.13893], [46.20601, 6.14046], [46.22704, 6.06807], [46.18745, 6.10482], [46.1981, 6.16397], [46.20138, 6.128], [46.29301, 6.16348], [46.21477, 6.14686], [46.2231, 6.14849], [46.20509, 6.13971], [46.20674, 6.14115], [46.21743, 6.11939], [46.22748, 6.12013], [46.20275, 6.22431], [46.17245, 6.05524], [46.16696, 6.12666], [46.20304, 6.13003], [46.20151, 6.14927], [46.23601, 6.1257], [46.20367, 6.13851], [46.18933, 6.12038], [46.20393, 6.13223], [46.21612, 6.13418], [46.21811, 6.1469], [46.18777, 6.12215], [46.20265, 6.16036], [46.23737, 6.07782], [46.21236, 6.14961], [46.19935, 6.09299], [46.17513, 6.12011], [46.21699, 6.13588], [46.20544, 6.14385], [46.21717, 6.13643], [46.16669, 6.13542], [46.2024, 6.16445], [46.20693, 6.12803], [46.20633, 6.13806], [46.19572, 6.12231], [46.18477, 6.19308], [46.16486, 6.11412], [46.19972, 6.16508], [46.19379, 6.20381], [46.22039, 6.14773], [46.23478, 6.126], [46.2349, 6.12558], [46.23465, 6.1245], [46.21614, 6.1286], [46.19755, 6.17773], [46.21445, 6.14937], [46.2276, 6.12494], [46.30233, 6.2463], [46.20157, 6.14992], [46.19508, 6.09627], [46.19508, 6.12193], [46.19422, 6.12106], [46.21216, 6.12536], [46.21933, 6.14079], [46.19587, 6.15308], [46.17495, 6.11961], [46.207886, 6.142184], [46.207886, 6.142184], [46.2246, 6.1256], [46.197, 6.19063], [46.19614, 6.1895], [46.20925, 6.14411], [46.28548, 6.16473], [46.17232, 6.16186], [46.20178, 6.1617], [46.18214, 6.11897], [46.207996, 6.142186], [46.18847, 6.01226], [46.211666, 6.133802], [46.2045, 6.17587], [46.21007, 6.20729], [46.21146, 6.13324], [46.19583, 6.14106], [46.22056, 6.14832], [46.20103, 6.14521], [46.22521, 6.12012], [46.20523, 6.09852], [46.25386, 6.15046], [46.19948, 6.17693], [46.20797, 6.142303], [46.20797, 6.1423], [46.21167, 6.13416], [46.19322, 6.19595], [46.20127, 6.13171], [46.20546, 6.12422], [46.19635, 6.14317], [46.18515, 6.10742], [46.20648, 6.12661], [46.19568, 6.20201], [46.207, 6.1331], [46.21909, 6.10854], [46.165, 6.18603], [46.23634, 6.09247], [46.19546, 6.20118], [46.2073, 6.1411], [46.19389, 6.20081], [46.207886, 6.142184], [46.20797, 6.142303], [46.20797, 6.1423], [46.20852, 6.1413], [46.20789, 6.14218], [46.21132, 6.13303], [46.27905, 6.15936], [46.21182, 6.1451], [46.20677, 6.14325], [46.20406, 6.15699], [46.21226, 6.15055], [46.19461, 6.14409], [46.19876, 6.14702], [46.20366, 6.15821], [46.22554, 6.06848], [46.28636, 6.1653], [46.21159, 6.13183], [46.21628, 6.13573], [46.25572, 6.21092], [46.2202, 6.14109], [46.14247, 6.04331], [46.20225, 6.16437], [46.19156, 6.15621], [46.21298, 6.15051], [46.22362, 6.12833], [46.19395, 6.15781], [46.23565, 6.12487], [46.23441, 6.12479], [46.26331, 6.22476], [46.18933, 6.15734], [46.2105, 6.14751], [46.20904, 6.14227], [46.21537, 6.14666], [46.20862, 6.1435], [46.23476, 6.12376], [46.20084, 6.15764], [46.23566, 6.12359], [46.20139, 6.15682], [46.2343, 6.12878], [46.19424, 6.20038], [46.28268, 6.232], [46.20118, 6.14994], [46.19345, 6.16582], [46.17629, 6.07079], [46.21299, 6.14979], [46.18764, 6.17499], [46.19, 6.1397], [46.20191, 6.13588], [46.21039, 6.12384], [46.20472, 6.16093], [46.18235, 6.14669], [46.21181, 6.14298], [46.21027, 6.14165], [46.2109, 6.14279], [46.21218, 6.14104], [46.21003, 6.14098], [46.21192, 6.14086], [46.21147, 6.14293], [46.21076, 6.14271], [46.21177, 6.143], [46.21018, 6.14286], [46.19178, 6.14436], [46.20724, 6.14417], [46.21419, 6.15038], [46.18663, 6.09017], [46.20091, 6.16253], [46.18941, 6.15407], [46.22137, 6.15], [46.19561, 6.19353], [46.20077, 6.1587], [46.18431, 6.19356], [46.18566, 6.14261], [46.20513, 6.15938], [46.20635, 6.15687], [46.20137, 6.13227], [46.19472, 6.19125], [46.19504, 6.14225], [46.22184, 6.11772], [46.18547, 6.13997], [46.20847, 6.1465], [46.20989, 6.13948], [46.20951, 6.14724], [46.21016, 6.1462], [46.20688, 6.16375], [46.19098, 6.16804], [46.21011, 6.14089], [46.21215, 6.14175], [46.21135, 6.14862], [46.211346, 6.148624], [46.1996, 6.14913], [46.21136, 6.14619], [46.18439, 6.19273], [46.20406, 6.15868], [46.19326, 6.13735], [46.19344, 6.19864], [46.21416, 6.12677], [46.20196, 6.15029], [46.20196, 6.15213], [46.20171, 6.15178], [46.2028, 6.15131], [46.17829, 5.99511], [46.19551, 6.15618], [46.1966, 6.15677], [46.19641, 6.15853], [46.19497, 6.15648], [46.19669, 6.15641], [46.19526, 6.15706], [46.19966, 6.13913], [46.21283, 6.15027], [46.2086, 6.1335], [46.18433, 6.14589], [46.18415, 6.14515], [46.19349, 6.13742], [46.19405, 6.13841], [46.18465, 6.08917], [46.22618, 6.12445], [46.18024, 6.14468], [46.26603, 6.13465], [46.21561, 6.13337], [46.22365, 6.12605], [46.20389, 6.17261], [46.1912, 6.20238], [46.18798, 6.14561], [46.21078, 6.12707], [46.21214, 6.14453], [46.20397, 6.15782], [46.19497, 6.14672], [46.20288, 6.15811], [46.21263, 6.14641], [46.20082, 6.13858], [46.19151, 6.16344], [46.24323, 6.13199], [46.21177, 6.14281], [46.21053, 6.14099], [46.21034, 6.1414], [46.21174, 6.14178], [46.21011, 6.12773], [46.21316, 6.12937], [46.21053, 6.14159], [46.21142, 6.14265], [46.20633, 6.143], [46.20732, 6.14102], [46.21026, 6.13429], [46.19692, 6.1674], [46.1801, 6.14258], [46.19893, 6.16196], [46.21083, 6.14698], [46.20478, 6.13958], [46.20468, 6.13937], [46.1912, 6.15576], [46.20281, 6.13068], [46.21509, 6.14872], [46.20665, 6.13635], [46.19237, 6.19833], [46.20919, 6.12385], [46.21338, 6.12415], [46.20725, 6.12843], [46.20838, 6.14768], [46.20998, 6.14695], [46.20154, 6.14617], [46.20991, 6.14781], [46.15944, 6.15724], [46.19999, 6.14639], [46.18925, 6.1596], [46.21073, 6.13481], [46.20072, 6.15412], [46.20667, 6.16414], [46.20774, 6.14202], [46.20704, 6.16841], [46.2105, 6.1458], [46.21275, 6.1293], [46.17396, 6.12661], [46.1974, 6.15746], [46.20798, 6.14272], [46.19289, 6.16031], [46.2181, 6.12632], [46.203373, 6.155819], [46.19915, 6.13598], [46.19811, 6.19773], [46.19436, 6.14704], [46.19731, 6.14113], [46.20919, 6.13899], [46.20866, 6.13926], [46.18825, 6.14591], [46.20154, 6.15542], [46.2461, 6.23526], [46.2043, 6.13718], [46.20972, 6.11243], [46.27738, 6.17013], [46.21397, 6.14893], [46.20148, 6.12865], [46.21142, 6.14887], [46.18933, 6.20351], [46.20104, 6.13048], [46.18919, 6.12318], [46.21231, 6.12702], [46.19527, 6.12094], [46.2183, 6.12545], [46.1818, 6.1382], [46.21859, 6.12591], [46.18853, 6.15336], [46.19833, 6.1383], [46.29217, 6.16382], [46.21507, 6.08295], [46.18874, 6.15651], [46.20932, 6.13506], [46.20425, 6.14429], [46.1928, 6.14379], [46.21153, 6.13871], [46.20979, 6.14404], [46.21734, 6.14724], [46.21613, 6.13348], [46.20437, 6.14573], [46.21165, 6.13339], [46.19152, 6.14028], [46.20967, 6.13521], [46.21041, 6.13422], [46.17906, 6.14642], [46.20201, 6.168], [46.19206, 6.14445], [46.20285, 6.185], [46.23191, 6.07254], [46.24173, 6.13434], [46.19823, 6.16143], [46.18257, 6.10004], [46.20193, 6.09251], [46.20668, 6.13209], [46.21434, 6.14694], [46.15922, 6.15713], [46.20052, 6.13794], [46.21502, 6.12543], [46.21368, 6.12604], [46.22404, 6.13044], [46.19485, 6.14546], [46.19883, 6.14051], [46.20769, 6.14623], [46.197853, 6.138725], [46.20392, 6.16278], [46.20432, 6.17417], [46.211651, 6.132273], [46.207989, 6.142243], [46.207886, 6.142184], [46.19207, 6.13679], [46.19605, 6.1565], [46.19809, 6.17713], [46.20588, 6.12555], [46.26209, 6.22364], [46.21164, 6.14614], [46.20681, 6.12736], [46.20341, 6.09868], [46.21689, 6.12809], [46.20965, 6.13577], [46.2919, 6.16248], [46.20384, 6.16126], [46.21225, 6.12657], [46.19403, 6.14815], [46.19747, 6.16563], [46.18285, 6.19381], [46.2453, 6.129136], [46.20902, 6.13755], [46.199673, 6.149515], [46.20342, 6.16131], [46.20462, 6.16256], [46.21252, 6.15092], [46.18522, 6.14534], [46.18986, 6.13581], [46.21064, 6.14875], [46.21247, 6.14363], [46.18161, 6.14159], [46.20185, 6.13124], [46.20253, 6.1623], [46.20284, 6.15914], [46.20488, 6.1621], [46.19527, 6.15564], [46.20982, 6.11263], [46.19317, 6.16033], [46.20319, 6.09895], [46.16775, 6.16701], [46.21826, 6.12163], [46.20282, 6.14387], [46.20418, 6.15811], [46.18074, 6.12169], [46.21871, 6.13212], [46.19718, 6.16104], [46.20261, 6.19908], [46.20764, 6.12277], [46.20199, 6.19704], [46.19826, 6.14207], [46.20291, 6.13287], [46.20935, 6.14844], [46.2067, 6.12255], [46.21048, 6.14624], [46.22084, 6.13917], [46.21132, 6.14779], [46.2092, 6.14775], [46.21171, 6.14896], [46.21058, 6.14635], [46.19661, 6.14382], [46.21105, 6.14528], [46.15044, 5.97383], [46.19256, 6.13909], [46.21127, 6.14675], [46.21032, 6.14776], [46.21089, 6.14698], [46.21128, 6.14858], [46.19491, 6.14811], [46.20987, 6.14694], [46.21052, 6.14777], [46.21431, 6.14993], [46.21131, 6.13062], [46.20643, 6.13468], [46.21579, 6.14706], [46.21601, 6.14998], [46.20483, 6.12311], [46.20432, 6.16304], [46.23794, 6.1258], [46.19849, 6.13811], [46.20897, 6.12544], [46.19073, 6.14636], [46.19863, 6.15006], [46.20526, 6.16257], [46.19161, 6.1549], [46.18881, 6.15375], [46.20807, 6.13738], [46.20461, 6.126], [46.23374, 6.07517], [46.20106, 6.1374], [46.18896, 6.1429], [46.21247, 6.14499], [46.21106, 6.13225], [46.19166, 6.14557], [46.21348, 6.12138], [46.21515, 6.14751], [46.1771, 6.11748], [46.20287, 6.15665], [46.21188, 6.13476], [46.21174, 6.12952], [46.236374, 6.12452], [46.21465, 6.14991], [46.19052, 6.10663], [46.23394, 6.12168], [46.2111, 6.13005], [46.20194, 6.16107], [46.20441, 6.17422], [46.21465, 6.15073], [46.19951, 6.13777], [46.20488, 6.16767], [46.20884, 6.12339], [46.22225, 6.128], [46.21314, 6.13231], [46.20112, 6.13073], [46.20084, 6.13111], [46.1985, 6.15011], [46.19211, 6.15101], [46.17407, 6.11898], [46.16321, 6.05754], [46.21555, 6.27437], [46.19276, 6.20079], [46.22401, 6.12435], [46.20954, 6.1433], [46.17529, 6.07066], [46.20365, 6.1451], [46.20978, 6.13456], [46.20562, 6.15917], [46.1927, 6.14447], [46.16933, 6.16671], [46.21404, 6.15012], [46.22516, 6.10496], [46.19104, 6.14539], [46.20941, 6.13909], [46.20292, 6.14513], [46.18951, 6.11365], [46.21546, 6.13499], [46.14285, 6.04207], [46.20069, 6.12904], [46.2047, 6.20156], [46.20377, 6.15669], [46.20954, 6.14495], [46.19797, 6.14486], [46.19227, 6.14686], [46.21295, 6.13688], [46.19175, 6.20215], [46.17827, 6.12042], [46.19978, 6.1502], [46.19079, 6.14946], [46.20456, 6.12109], [46.22261, 6.13501], [46.28256, 6.15981], [46.22896, 6.12572], [46.20856, 6.1415], [46.15092, 6.08458], [46.194, 6.14304], [46.28705, 6.15863], [46.20829, 6.13494], [46.16945, 6.1552], [46.18504, 6.14348], [46.20296, 6.16337], [46.21105, 6.14951], [46.20203, 6.12828], [46.21152, 6.14929], [46.1941, 6.15383], [46.21505, 6.13412], [46.21065, 6.14898], [46.21004, 6.13795], [46.2044, 6.16253], [46.21186, 6.14759], [46.2124, 6.14752], [46.21375, 6.14745], [46.19502, 6.15454], [46.23065, 6.1236], [46.20835, 6.14378], [46.225082, 6.10903], [46.21424, 6.13149], [46.21239, 6.14921], [46.20056, 6.13763], [46.20151, 6.16371], [46.1977, 6.16213], [46.21142, 6.14839], [46.18974, 6.14397], [46.20004, 6.12803], [46.20902, 6.13743], [46.20566, 6.15967], [46.21328, 6.21012], [46.20417, 6.13628], [46.17979, 6.11874], [46.21005, 6.12785], [46.20966, 6.14944], [46.20575, 6.23802], [46.21076, 6.13331], [46.1953, 6.143], [46.21664, 6.1311], [46.19624, 6.16177], [46.19114, 6.14201], [46.18705, 6.13858], [46.20175, 6.16211], [46.20372, 6.15755], [46.20301, 6.18756], [46.2003, 6.13626], [46.29943, 6.24519], [46.21106, 6.11149], [46.21458, 6.15151], [46.218201, 6.14267], [46.19528, 6.14169], [46.18548, 6.09672], [46.22269, 6.14812], [46.1952, 6.20071], [46.21281, 6.13511], [46.20218, 6.15873], [46.19719, 6.15059], [46.19575, 6.15049], [46.19693, 6.15126], [46.1955, 6.15244], [46.19556, 6.15074], [46.19586, 6.15254], [46.19698, 6.15207], [46.19522, 6.15066], [46.19582, 6.15054], [46.19522, 6.1506], [46.19647, 6.15192], [46.19706, 6.15237], [46.19741, 6.15138], [46.1966, 6.15275], [46.19598, 6.15122], [46.19571, 6.15253], [46.1952, 6.15223], [46.1959, 6.15229], [46.21284, 6.13435], [46.21313, 6.14766], [46.207886, 6.142184], [46.22662, 6.109054], [46.22662, 6.109054], [46.22662, 6.109054], [46.23162, 6.11277], [46.2102, 6.14288], [46.19931, 6.15563], [46.18941, 6.14346], [46.20642, 6.16356], [46.21262, 6.14491], [46.20361, 6.1379], [46.21226, 6.14851], [46.21038, 6.13125], [46.20285, 6.167], [46.19744, 6.14012], [46.2099, 6.13102], [46.20885, 6.12707], [46.2087, 6.1443], [46.21581, 6.14823], [46.213772, 6.079366], [46.2129, 6.1468], [46.19438, 6.14042], [46.20285, 6.17311], [46.20443, 6.15741], [46.22107, 6.11149], [46.19521, 6.14367], [46.207272, 6.142974], [46.19504, 6.15709], [46.20307, 6.15591], [46.20002, 6.13705], [46.20504, 6.13274], [46.17632, 6.06625], [46.21149, 6.13075], [46.21041, 6.13497], [46.19183, 6.1435], [46.28463, 6.16424], [46.20542, 6.07498], [46.18778, 6.14593], [46.18838, 6.19009], [46.19941, 6.16656], [46.21102, 6.13527], [46.21159, 6.13135], [46.19396, 6.20808], [46.193001, 6.142386], [46.20305, 6.13005], [46.20822, 6.14349], [46.19979, 6.15638], [46.14255, 6.0436], [46.14208, 6.04244], [46.20271, 6.13874], [46.20095, 6.13878], [46.19474, 6.14806], [46.19628, 6.16451], [46.19473, 6.13837], [46.21061, 6.13469], [46.20637, 6.07443], [46.20923, 6.14736], [46.2053, 6.07496], [46.21269, 6.14421], [46.224216, 6.126731], [46.21951, 6.14056], [46.21109, 6.14644], [46.19001, 6.14346], [46.20784, 6.14485], [46.19862, 6.1733], [46.20411, 6.15834], [46.21292, 6.13092], [46.22205, 6.14816], [46.20513, 6.12939], [46.22286, 6.14783], [46.19815, 6.14971], [46.21476, 6.1348], [46.20931, 6.14836], [46.20212, 6.12883], [46.20462, 6.13497], [46.21221, 6.12792], [46.19645, 6.16345], [46.1933, 6.14114], [46.21017, 6.14768], [46.211704, 6.132181], [46.19498, 6.13955], [46.19681, 6.16042], [46.19619, 6.15207], [46.16888, 6.1234], [46.28983, 6.16477], [46.214821, 6.146837], [46.19071, 6.1382], [46.21468, 6.0322], [46.21166, 6.14595], [46.20113, 6.18826], [46.214012, 6.14731], [46.18639, 6.13852], [46.20018, 6.16444], [46.18854, 6.14465], [46.21259, 6.15153], [46.20854, 6.14516], [46.19222, 6.14405], [46.21581, 6.14897], [46.23054, 6.11808], [46.20177, 6.14448], [46.21774, 6.12219], [46.23707, 6.1297], [46.20472, 6.16073], [46.21148, 6.1278], [46.21073, 6.1464], [46.208694, 6.134156], [46.19804, 6.13377], [46.19486, 6.14441], [46.197121, 6.137591], [46.2027, 6.16168], [46.20472, 6.15943], [46.203365, 6.184675], [46.20626, 6.15931], [46.20435, 6.16104], [46.21888, 6.12883], [46.21148, 6.1292], [46.19082, 6.15477], [46.20375, 6.16617], [46.20935, 6.13363], [46.20734, 6.13821], [46.21324, 6.14881], [46.19064, 6.13929], [46.191135, 6.141339], [46.20036, 6.12875], [46.19199, 6.16585], [46.19857, 6.16372], [46.20797, 6.14026], [46.18554, 6.1566], [46.20289, 6.15773], [46.20683, 6.13726], [46.20853, 6.14105], [46.20824, 6.14243], [46.20482, 6.13853], [46.17201, 6.18276], [46.20682, 6.16138], [46.21205, 6.15039], [46.20978, 6.14797], [46.20555, 6.15625], [46.2088, 6.13729], [46.19612, 6.14487], [46.19385, 6.14656], [46.19636, 6.14355], [46.21336, 6.1316], [46.21181, 6.15142], [46.20723, 6.12832], [46.19922, 6.13333], [46.21084, 6.13177], [46.1999, 6.13276], [46.20615, 6.16194], [46.22561, 6.12491], [46.223099, 6.148487], [46.21299, 6.13606], [46.21456, 6.14592], [46.213177, 6.149165], [46.18285, 6.09651], [46.2129, 6.1508], [46.19369, 6.15047], [46.21963, 6.13132], [46.223194, 6.119197], [46.20744, 6.13919], [46.20458, 6.11452], [46.20807, 6.1333], [46.211704, 6.132181], [46.21055, 6.13137], [46.21771, 6.14649], [46.21416, 6.1338], [46.21298, 6.13189], [46.21214, 6.13142], [46.2018, 6.12835], [46.20172, 6.16106], [46.19614, 6.1417], [46.22689, 6.11855], [46.20097, 6.13868], [46.20475, 6.1577], [46.19184, 6.13709], [46.21292, 6.14635], [46.19096, 6.15483], [46.20228, 6.14499], [46.21165, 6.15026], [46.278198, 6.1594], [46.20183, 6.12887], [46.21026, 6.1354], [46.20353, 6.16504], [46.21184, 6.13177], [46.20694, 6.14235], [46.22351, 6.13508], [46.203815, 6.161567], [46.18547, 6.10065], [46.22105, 6.14731], [46.20497, 6.22192], [46.1896, 6.14579], [46.2061, 6.16171], [46.19275, 6.1394], [46.18091, 6.0814], [46.18645, 6.14161], [46.20718, 6.12816], [46.203171, 6.160101], [46.19107, 6.15164], [46.2156, 6.14612], [46.199673, 6.149515], [46.20943, 6.14545], [46.21123, 6.13719], [46.21166, 6.14621], [46.1868, 6.14029], [46.215191, 6.127975], [46.23006, 6.12113], [46.20341, 6.1568], [46.202873, 6.166025], [46.19947, 6.16175], [46.185699, 6.132514], [46.200356, 6.175867], [46.188614, 6.14588], [46.168236, 6.12345], [46.21597, 6.13268], [46.19514, 6.14505], [46.22926, 6.06931], [46.185471, 6.139968], [46.21055, 6.14908], [46.19664, 6.15892], [46.20589, 6.16339], [46.18974, 6.13573], [46.20655, 6.12918], [46.19127, 6.13457], [46.20643, 6.12504], [46.2117, 6.13218], [46.19684, 6.14186], [46.1756572, 6.0807221], [46.18477, 6.14856], [46.2128, 6.14726], [46.1824406, 6.1461877], [46.20426, 6.16263], [46.19508, 6.15346], [46.19501, 6.15486], [46.20807, 6.14149], [46.1986301, 6.1371173], [46.20288, 6.15795], [46.20871, 6.14724], [46.19706, 6.16448], [46.1902, 6.13513], [46.20346, 6.17795], [46.210441931266445, 6.13636951893568], [46.2024, 6.17522], [46.19199850375802, 6.143796555697918], [46.2076535, 6.1150541], [46.2072, 6.12605], [46.21133, 6.14692], [46.20422, 6.15884], [46.18961, 6.1342], [46.20139, 6.13079], [46.19606, 6.14622], [46.19905, 6.13674], [46.20188, 6.13061], [46.20434, 6.15804], [46.19475, 6.14216], [46.1754817, 6.1251483], [46.18963, 6.21705], [46.19053, 6.2488], [46.1906, 6.20957], [46.19861, 6.23512], [46.19168, 6.2164], [46.1998441, 6.2258071], [46.18207, 6.20815], [46.19595, 6.2342], [46.19645, 6.23776], [46.19345, 6.22556], [46.1925, 6.22428], [46.19296, 6.23299], [46.191631, 6.213041], [46.19081, 6.21111], [46.19768, 6.23693], [46.18657, 6.20895], [46.19668, 6.23594], [46.18234, 6.20827], [46.19308, 6.2228], [46.19211, 6.23939], [46.190598, 6.210506], [46.19577, 6.23886], [46.19356, 6.23462], [46.19721, 6.23703], [46.19335, 6.23501], [46.19632, 6.24196], [46.19533, 6.23705], [46.19055, 6.23531], [46.19617, 6.23923], [46.19233, 6.22853], [46.195, 6.23371], [46.18974, 6.23454], [46.19309, 6.24058], [46.19651, 6.237], [46.19671, 6.25505], [46.19203, 6.20856], [46.13161, 6.15673], [46.19132, 6.2236], [46.1993, 6.22631], [46.20079, 6.24123], [46.22943, 6.32303], [46.2372, 6.3195], [46.12267, 6.13532], [46.14401, 6.14264], [46.19147, 6.23186], [46.25096, 6.11864], [46.25293, 6.11482], [46.15355, 6.16579], [46.1928, 6.22935], [46.27768, 6.09263], [46.18769, 6.20968], [46.19323, 6.24291], [46.18537, 6.22059], [46.19784, 6.23469], [46.20018, 6.24601], [46.19845, 6.23451], [46.19434, 6.22695], [46.19294, 6.24711], [46.19285, 6.2214], [46.182, 6.1971], [46.19303, 6.23545], [46.24691, 6.02776], [46.19645, 6.2291], [46.19176, 6.22071], [46.1974, 6.23553], [46.19374, 6.24631], [46.18848, 6.25079], [46.19178, 6.22074], [46.18422, 6.20434], [46.19353110000001, 6.225867399999999], [46.18681, 6.22967], [46.19089, 6.23136], [46.19533, 6.23602], [46.19521, 6.23313], [46.24201, 6.02809], [46.13882, 6.12167], [46.18274, 6.19728], [46.14067, 6.1443], [46.19163, 6.22593], [46.18704, 6.20877], [46.18906, 6.20632], [46.18353, 6.20411], [46.19144, 6.24227], [46.1942, 6.23293], [46.2413, 6.02135], [46.19697, 6.23684], [46.19331, 6.23034], [46.13888, 6.12019], [46.18953, 6.21267], [46.24872, 6.07666], [46.18249, 6.1935], [46.19578, 6.23549], [46.18398, 6.20295], [46.19089, 6.2201], [46.19235, 6.22368], [46.19429, 6.23732], [46.19673, 6.21991], [46.19149, 6.23306], [46.183636, 6.195642], [46.25315, 6.03324], [46.23615, 5.98068], [46.19241, 6.22503], [46.19517, 6.23827], [46.25378, 6.09975], [46.13921, 6.1193], [46.1964, 6.233], [46.194927, 6.237076], [46.18845, 6.205169], [46.19225, 6.21946], [46.18803, 6.21264], [46.139675, 6.074278], [46.271, 6.09864], [46.19427, 6.2328], [46.25216, 6.11924], [46.25163, 6.10124], [46.31433, 6.16991], [46.18644, 6.22849], [46.1906, 6.2276], [46.18361, 6.20458], [46.1399, 6.12018], [46.19043, 6.23632], [46.19502, 6.23555], [46.19519, 6.23572], [46.19423, 6.23314], [46.18976, 6.21153], [46.14364, 6.1384], [46.25342, 6.11698], [46.19615, 6.23308], [46.19254, 6.22255], [46.18236, 6.19307], [46.14279, 6.13862], [46.25165, 6.1004], [46.25355, 6.09929], [46.2601, 6.1171], [46.30747, 6.18171], [46.33257, 6.173], [46.14057, 6.12047], [46.263016, 6.108573], [46.27232, 6.09896], [46.25294, 6.11612], [46.13298, 6.16018], [46.2004, 6.25905], [46.1343, 6.15832], [46.1329, 6.16002], [46.20237, 6.26035], [46.21203, 6.27071], [46.13396, 6.13668], [46.21221, 6.27216], [46.19848, 6.25395], [46.19844, 6.24697], [46.19068, 6.20772], [46.21349, 6.27084], [46.18892, 6.24742], [46.18624, 6.23529], [46.19216, 6.22249], [46.19488, 6.24542], [46.20523, 6.23655], [46.20046, 6.24055], [46.1984, 6.23887], [46.18625, 6.20611], [46.1911107, 6.2270832], [46.20235, 6.24876], [46.20281, 6.24663], [46.18726, 6.23482], [46.14996, 6.16172], [46.19476, 6.24109], [46.19255, 6.23609], [46.19071, 6.23287], [46.20189, 6.25265], [46.19137, 6.23595], [46.18808, 6.23787], [46.19258, 6.23924], [46.18502, 6.24023], [46.19705, 6.238], [46.13342, 6.14921], [46.19319, 6.23053], [46.18883, 6.25027], [46.20017, 6.23936], [46.19084, 6.23428], [46.19115, 6.23445], [46.19783, 6.24572], [46.19544, 6.23877], [46.18509, 6.23014], [46.18338, 6.221], [46.19381, 6.23756], [46.19074, 6.23449], [46.19247, 6.2484], [46.19275, 6.25207], [46.19532, 6.23737], [46.13181, 6.1481], [46.18445, 6.20972], [46.18535, 6.25251], [46.1843, 6.2105], [46.19856, 6.23496], [46.2035, 6.25463], [46.18662, 6.22849], [46.19105, 6.23147], [46.19349, 6.23641], [46.20002, 6.23191], [46.19291, 6.2189], [46.2031, 6.2463], [46.19409, 6.22667], [46.19358, 6.23175], [46.18933, 6.24265], [46.19215, 6.23561], [46.18972, 6.20573], [46.19777, 6.23614], [46.18716, 6.221222], [46.1304, 6.15748], [46.19662, 6.23707], [46.19142, 6.21414], [46.18601, 6.20485], [46.19751, 6.23555], [46.191734, 6.206592], [46.1945, 6.23659], [46.19413, 6.24181], [46.19516, 6.23285], [46.19162, 6.23958], [46.19853, 6.23656], [46.19442, 6.2437], [46.18968, 6.23729], [46.19393, 6.23514], [46.19543, 6.23286], [46.19847, 6.23741], [46.19436, 6.23501], [46.18232, 6.19923], [46.19258, 6.22289], [46.19602, 6.23235], [46.19769, 6.23659], [46.18955, 6.23316], [46.34689, 6.19207], [46.1446, 6.14222], [46.19751, 6.23555], [46.25491, 6.11355], [46.19385, 6.23313], [46.19569, 6.24027], [46.19548, 6.23527], [46.19436, 6.23672], [46.19561, 6.23335], [46.1974, 6.23553], [46.18465, 6.21157], [46.18492, 6.2061], [46.19302, 6.23103], [46.19227373108523, 6.222731334393319], [46.19162, 6.21281], [46.18908, 6.20806], [46.19134, 6.23799], [46.19196, 6.22344], [46.18895, 6.22166], [46.19264, 6.23543], [46.197, 6.23556], [46.19103, 6.24111], [46.19109, 6.23491], [46.1928, 6.21416], [46.191662, 6.216885], [46.18951, 6.21404], [46.18637, 6.21327], [46.19635, 6.22442], [46.19607, 6.23353], [46.19065, 6.21961], [46.19647, 6.23612], [46.19104, 6.23694], [46.18352, 6.20644], [46.18708, 6.2198], [46.19315, 6.22361], [46.19757, 6.23765], [46.19717, 6.23854], [46.1907, 6.23682], [46.19224, 6.23416], [46.19236, 6.23208], [46.19425, 6.24094], [46.19691, 6.23328], [46.13881, 6.14577], [46.19573, 6.23774], [46.19514, 6.23306], [46.19219, 6.23453], [46.18159, 6.1966], [46.19524, 6.23622], [46.19075, 6.23508], [46.25238, 6.11952], [46.24954, 6.08073], [46.31486, 6.11933], [46.19228, 6.25583], [46.18959, 6.23318], [46.21675, 6.29934], [46.20651, 6.26057], [46.19416, 6.24175], [46.19816, 6.23937], [46.19315, 6.24964], [46.19519, 6.23792], [46.27341, 6.26093], [46.19347, 6.23532], [46.269875, 6.093466], [46.26872, 6.25833], [46.14042, 6.11997], [46.1404, 6.12143], [46.34659, 6.19217], [46.26543, 6.25677], [46.1396, 6.07089], [46.36916, 6.15608], [46.25142, 6.03348], [46.13979, 6.08092], [46.12447, 6.09864], [46.31701, 6.11579], [46.14201, 6.07108], [46.11813, 6.03654], [46.11717, 5.9699], [46.30697, 6.17359], [46.3142, 6.17007], [46.18551, 6.2045], [46.18219, 6.20542], [46.19485, 6.23505], [46.19787, 6.23635], [46.19439, 6.23708], [46.19595, 6.24987], [46.19074, 6.2112], [46.1922, 6.22144], [46.19287, 6.24306], [46.19872, 6.24051], [46.19482, 6.2364], [46.19439, 6.24626], [46.19789, 6.23511], [46.19249, 6.23732], [46.18536, 6.22826], [46.1931, 6.22185], [46.19254, 6.23515], [46.19515, 6.23514], [46.18398, 6.20528], [46.12463, 6.14534], [46.19866, 6.23865], [46.18868, 6.25152], [46.18688, 6.23029], [46.19223, 6.2554], [46.19523, 6.21878], [46.26934, 6.27631], [46.24968, 6.08514], [46.25954, 6.09159], [46.26356, 6.09675], [46.25385, 6.11733], [46.25339, 6.11762], [46.14364, 6.07078], [46.26532, 6.1115], [46.12294, 5.974473], [46.14056, 6.07378], [46.27787, 6.09141], [46.25423, 6.09592], [46.25887, 6.08156], [46.25471, 6.08819], [46.25847, 6.32581], [46.25819, 6.10522], [46.30076150000001, 6.1750206], [46.27935, 6.09264], [46.13169, 6.08566], [46.25191, 6.09949], [46.25027, 6.1009], [46.25086, 6.10235], [46.31389, 6.17023], [46.21853, 5.95396], [46.13591, 6.12711], [46.31558, 6.1167], [46.14241, 6.08483], [46.27967, 6.09285], [46.18255, 6.19869], [46.19062, 6.23446], [46.23718, 6.00936], [46.23738, 6.00963], [46.24068, 6.02888], [46.14516, 5.9623], [46.14217, 6.0829], [46.27793, 6.09316], [46.27576, 6.09168], [46.27914, 6.09158], [46.27212, 6.0961], [46.14207, 6.07872], [46.14308, 6.07143], [46.25327, 6.06635], [46.1797, 5.9778], [46.12869, 6.00314], [46.19665, 6.23772], [46.26359176635742, 6.112789154052734], [46.14625, 6.08601], [46.2622, 6.11512], [46.24708, 6.08099], [46.26021, 6.11273], [46.26134, 6.11107], [46.1504, 6.08705], [46.26042, 6.11926], [46.35016, 6.16609], [46.2555, 6.11823], [46.26028, 6.11332], [46.24571, 6.03221], [46.26777, 6.30409], [46.23477, 5.97889], [46.13874, 6.12079], [46.29445, 6.10239], [46.12705, 6.05474], [46.24739, 6.08003], [46.226181, 5.969697], [46.17297, 5.97977], [46.14965, 6.08289], [46.2428, 6.02184], [46.14336, 6.08029], [46.13905, 6.12173], [46.2726, 6.31181], [46.30754, 6.25771], [46.2518, 6.03429], [46.12527, 5.96925], [46.25079, 6.0298], [46.26914, 6.25662], [46.1405, 6.0659], [46.25224, 6.09597], [46.11639, 6.03535], [46.25341, 6.11562], [46.26031, 6.11625], [46.25668, 6.11445], [46.24434, 6.01933], [46.23971, 6.01692], [46.25171, 6.12016], [46.25816, 6.1108], [46.24917, 6.07341], [46.2498, 6.06478], [46.26073, 6.11559], [46.14069, 6.12085], [46.25673, 6.10588], [46.25363, 6.11855], [46.26183, 6.11442], [46.273918, 6.247869], [46.25475664792629, 6.116071853967275], [46.26411, 6.09598], [46.27925, 6.09286], [46.13748, 6.12538], [46.26133, 6.11604], [46.36916, 6.15442], [46.25497, 6.11044], [46.24604, 6.0201], [46.14276, 6.07975], [46.14231, 6.07241], [46.11644, 6.03508], [46.2472, 6.02118], [46.21853, 5.95396], [46.25443, 6.11872], [46.25196, 6.11717], [46.17772, 5.98245], [46.25324, 6.0789], [46.31474, 6.11681], [46.2601, 6.11125], [46.14558, 6.08773], [46.1387, 6.12212], [46.32662, 6.19967], [46.24708, 6.02131], [46.13274, 6.12646], [46.25925, 6.11148], [46.25862, 6.11876], [46.25069, 6.02623], [46.25449, 6.1118], [46.27264, 6.25857], [46.25814, 6.11335], [46.25293, 6.11482], [46.25041, 6.07342], [46.139, 6.1208], [46.23588, 6.00795], [46.14615, 6.07784], [46.25417, 6.11705], [46.24181, 6.020431], [46.25457, 6.11877], [46.25062, 6.02435], [46.34689, 6.19269], [46.27107, 6.098], [46.24956, 6.02807], [46.263981, 6.111923], [46.24495, 6.01954], [46.1477, 6.0818], [46.26404, 6.11371], [46.26498, 6.26619], [46.13916, 6.12084], [46.27891, 6.09334], [46.2496, 6.07821], [46.25475, 6.1098], [46.27275, 6.09611], [46.14879, 6.08493], [46.32503, 6.1972], [46.14404, 6.08199], [46.13991, 6.08611], [46.14352, 6.08272], [46.14768, 6.08361], [46.13902, 6.07502], [46.27327, 6.24917], [46.30663, 6.2578], [46.2543, 6.11536], [46.13653, 6.08224], [46.25115, 6.03258], [46.13537, 5.95004], [46.26466, 6.11178], [46.24437, 6.0212], [46.33564, 6.16341], [46.26051, 6.11688], [46.24082, 6.02681], [46.14836, 6.08263], [46.25293, 6.11785], [46.2541, 6.11523], [46.25112, 6.03446], [46.25761, 6.11899], [46.25095, 6.10255], [46.26167, 6.08679], [46.25288, 6.10365], [46.14421, 6.09026], [46.25154, 6.0968], [46.1469, 6.08858], [46.24893, 6.03134], [46.25327, 6.06635], [46.21746, 5.9551], [46.14193, 6.07304], [46.25508, 6.09905], [46.14922, 6.08635], [46.25476, 6.11792], [46.27944, 6.09173], [46.27307, 6.31062], [46.14078, 6.12142], [46.24181, 6.020431], [46.14266, 6.08058], [46.14795, 6.08306], [46.25999, 6.11146], [46.14162, 6.07215], [46.236, 6.00839], [46.33501, 6.19118], [46.11702, 6.03604], [46.17732, 5.96712], [46.12189, 6.04199], [46.11782, 6.03642], [46.26068, 6.1187], [46.14228, 6.07418], [46.23431, 5.97481], [46.17793, 5.9654], [46.30906, 6.17468], [46.24492, 6.02643], [46.3135, 6.17035], [46.13554, 5.95013], [46.14044, 6.12007], [46.25593, 6.11816], [46.25406, 6.1173], [46.27912, 6.08343], [46.13881, 6.02276], [46.25863, 6.11133], [46.24138, 6.02683], [46.2528, 6.11641], [46.24829, 6.07804], [46.141, 6.04306], [46.25393, 6.08607], [46.25408, 6.11805], [46.24385, 6.03317], [46.14434, 6.07214], [46.3245, 6.18009], [46.26145, 6.11388], [46.25315, 6.11809], [46.37456, 6.19519], [46.14781, 6.0822], [46.25904, 6.11689], [46.25044, 6.07346], [46.24279, 6.03407], [46.1439, 6.08539], [46.25193, 6.11948], [46.33759, 6.16223], [46.26082, 6.11856], [46.27784, 6.09188], [46.25327, 6.11155], [46.26001, 6.08299], [46.28619, 6.08705], [46.25977, 6.10986], [46.15012, 6.08668], [46.25263, 6.11694], [46.24546, 6.02795], [46.25655, 6.10943], [46.143753, 6.080559], [46.27367, 6.2608], [46.25897, 6.11772], [46.23597, 5.97849], [46.11665, 5.971], [46.13269, 6.12686], [46.24199, 6.02171], [46.18513, 6.21172], [46.2547, 6.08791], [46.13847, 6.12181], [46.28595, 6.08573], [46.14891, 6.08093], [46.29874, 6.0947], [46.19819, 6.23451], [46.24584, 6.02085], [46.31445, 6.13239], [46.24403, 6.02497], [46.37745, 6.16601], [46.25725, 6.11113], [46.25399, 6.06882], [46.31409, 6.1702], [46.2468, 6.01922], [46.261, 6.11229], [46.23992, 6.03], [46.25915, 6.11759], [46.25598, 6.11456], [46.192245, 6.256168], [46.2556812, 6.0961858], [46.25695, 6.10592], [46.191, 6.25805], [46.35271, 6.16168], [46.179634, 6.21454], [46.13548, 6.1237], [46.13209, 6.15125], [46.32996, 6.11738], [46.25924, 6.11561], [46.33335, 6.19365], [46.19127, 6.25421], [46.25359, 6.07581], [46.37638, 6.16336], [46.25421, 6.11687], [46.2577, 6.10854], [46.24714, 6.01751], [46.27809, 6.09265], [46.14523, 6.07323], [46.2448, 6.01663], [46.25953, 6.11046], [46.248772, 6.07674], [46.30966, 6.17599], [46.26112, 6.112363], [46.26751, 6.265], [46.23228, 5.97745], [46.33132, 6.19972], [46.28066, 6.0852], [46.25196, 6.32246], [46.21218, 5.95095], [46.31296, 6.10482], [46.30555, 6.10421], [46.25616, 6.11635], [46.25862, 6.11296], [46.27751, 6.09309], [46.14226, 6.07233], [46.25296, 6.11165], [46.24522, 6.02663], [46.31071, 6.11478], [46.25286, 6.11725], [46.14433, 6.14673], [46.26381, 6.09568], [46.2452, 6.00997], [46.13793, 6.14698], [46.20385, 6.26207], [46.13913, 6.14452], [46.1949, 6.24028], [46.19487, 6.23995], [46.19087, 6.20635], [46.19188, 6.21656], [46.19694, 6.2409], [46.197147, 6.234864], [46.19506, 6.23004], [46.1917, 6.20615], [46.19184, 6.22544], [46.19478, 6.23819], [46.19138, 6.2187], [46.19231, 6.23571], [46.19114, 6.21928], [46.24529, 6.00968], [46.19199, 6.25117], [46.18856, 6.23418], [46.25291, 6.09905], [46.23944, 6.01582], [46.2513, 6.10319], [46.18638, 6.23512], [46.1875, 6.24913], [46.18535, 6.23493], [46.13725, 6.146], [46.19432, 6.23379], [46.18803, 6.25583], [46.19179, 6.23098], [46.19524, 6.23598], [46.19388, 6.22817], [46.19567, 6.23661], [46.18846, 6.23714], [46.1893, 6.23322], [46.19973, 6.24113], [46.19411, 6.2351], [46.32965, 6.11322], [46.19563, 6.25196], [46.14912, 6.08117], [46.19671, 6.25392], [46.31366, 6.16959], [46.18592, 6.23059], [46.31373, 6.16934], [46.19465, 6.2281], [46.21156, 5.95097], [46.1856, 6.24537], [46.19073, 6.2114], [46.26024, 6.11864], [46.19047, 6.20796], [46.1814, 6.19672], [46.19148, 6.20747], [46.15266, 6.16221], [46.25429, 6.11872], [46.18911, 6.21049], [46.19451, 6.22334], [46.19321, 6.24219], [46.19787, 6.23726], [46.19264, 6.2094], [46.18757, 6.20565], [46.1944, 6.23543], [46.19495, 6.23478], [46.19482, 6.23702], [46.19042, 6.23449], [46.1975, 6.23885], [46.18921, 6.2074], [46.19627, 6.23497], [46.193211, 6.235], [46.19434, 6.23973], [46.19299, 6.22424], [46.193211, 6.235], [46.18615, 6.22098], [46.18684, 6.22006], [46.19556, 6.21849], [46.193211, 6.235], [46.193089, 6.23595], [46.19309, 6.21538], [46.19064, 6.20839], [46.1943, 6.2385], [46.18885, 6.22696], [46.193211, 6.235], [46.193089, 6.23595], [46.19636, 6.23469], [46.13412, 6.13432], [46.19098, 6.2344], [46.22992, 6.32326], [46.13351, 6.14901], [46.18537, 6.24669], [46.20294, 6.2452], [46.18928, 6.23366], [46.14748, 6.16243], [46.1841, 6.23523], [46.18873, 6.24886], [46.19276, 6.21299], [46.18906, 6.2331], [46.20258, 6.24994], [46.20289, 6.23001], [46.27248, 6.09789], [46.25766, 6.08148], [46.31139, 6.18238], [46.27919, 6.09314], [46.14001, 6.07722], [46.24597, 6.022], [46.24786, 6.08166], [46.25523, 6.08803], [46.36806, 6.15473], [46.25956, 6.26291], [46.23607, 6.00907], [46.25375, 6.11575], [46.25126, 6.033], [46.23754, 6.00987], [46.20379, 6.26036], [46.24181, 6.020431], [46.23739, 6.00766], [46.23755, 6.00937], [46.20709, 6.26501], [46.19895, 6.22364], [46.18998, 6.25803], [46.13938, 6.12089], [46.20703, 6.27807], [46.25394, 6.11723], [46.1798, 6.22639], [46.25165, 6.02979], [46.19031, 6.2571], [46.37336, 6.16272], [46.19806, 6.23376], [46.17074, 6.19369], [46.1985, 6.24008], [46.21021, 6.27513], [46.18034, 6.19273], [46.198, 6.22766], [46.19931, 6.23962], [46.19941, 6.22563], [46.27924, 6.08325], [46.19796, 6.23766], [46.2434, 6.02757], [46.20001, 6.24602], [46.20364, 6.2494], [46.19557, 6.23871], [46.179634, 6.21454], [46.19936, 6.24976], [46.19942, 6.23856], [46.17085, 6.19242], [46.20042, 6.25723], [46.20379, 6.23674], [46.20634, 6.25294], [46.26078, 6.11896], [46.19812, 6.23168], [46.19893, 6.24786], [46.1985, 6.24674], [46.25862, 6.1095], [46.18328, 6.21183], [46.25987, 6.09894], [46.199894, 6.225563], [46.17229, 6.19257], [46.14643, 6.16586], [46.14242, 6.1411], [46.25049, 6.10089], [46.2566, 6.10893], [46.2543, 6.11618], [46.19006, 6.25046], [46.2764, 6.09312], [46.2518, 6.08349], [46.179634, 6.21454], [46.1962, 6.23617], [46.13197, 6.15072], [46.19576, 6.23568], [46.19008, 6.2361], [46.19135, 6.23497], [46.18745, 6.20576], [46.18487, 6.2057], [46.19844, 6.23886], [46.19055, 6.21943], [46.19357, 6.23416], [46.13406, 6.13476], [46.1862, 6.22125], [46.18588, 6.22964], [46.1911, 6.21036], [46.18938, 6.21402], [46.1849, 6.22821], [46.19168, 6.23966], [46.19607, 6.23977], [46.19698, 6.23653], [46.193089, 6.23595], [46.1921, 6.22393], [46.19279, 6.21408], [46.1884, 6.21574], [46.19059, 6.21596], [46.1965, 6.2324], [46.14794, 6.16768], [46.19516, 6.2384], [46.19381, 6.23181], [46.19109, 6.24238], [46.19242, 6.23969], [46.1873, 6.20279], [46.194733, 6.231131], [46.18881, 6.20491], [46.19781, 6.23668], [46.19111, 6.24279], [46.19432, 6.23738], [46.19352, 6.22506], [46.1931, 6.23764], [46.1905, 6.21579], [46.19786, 6.23827], [46.19396, 6.22485], [46.19574, 6.24], [46.193089, 6.23595], [46.19603, 6.23384], [46.19761, 6.24014], [46.19338, 6.22351], [46.19699, 6.21728], [46.19637, 6.23439], [46.1948, 6.23297], [46.19572, 6.21831], [46.18812, 6.20951], [46.19371, 6.23668], [46.19534, 6.23233], [46.19203, 6.23352], [46.18829, 6.23668], [46.18767, 6.21188], [46.19731, 6.23444], [46.193211, 6.235], [46.19648824335483, 6.238420979279717], [46.19411, 6.23343], [46.18748, 6.20294], [46.19364, 6.23136], [46.19651, 6.24813], [46.19262, 6.23413], [46.19713, 6.24041], [46.19495, 6.23434], [46.19282, 6.23668], [46.1918, 6.23409], [46.19781, 6.22554], [46.19437, 6.23489], [46.19548, 6.23763], [46.19798, 6.23709], [46.18769, 6.22131], [46.19156, 6.23068], [46.1868, 6.24721], [46.18812, 6.23819], [46.19774, 6.23645], [46.19452, 6.21733], [46.195805, 6.23886], [46.18549, 6.22202], [46.14213, 6.13927], [46.19615, 6.23192], [46.31525, 6.11582], [46.19636, 6.23637], [46.193089, 6.23595], [46.19164, 6.25528], [46.19668, 6.23755], [46.19092, 6.21216], [46.19888, 6.23695], [46.19311, 6.23724], [46.19044, 6.22587], [46.18306, 6.20106], [46.19119, 6.22258], [46.18716, 6.2355], [46.19297, 6.23022], [46.19095, 6.21068], [46.1911, 6.21603], [46.19297, 6.22801], [46.1955, 6.21925], [46.19633, 6.24012], [46.19472, 6.23513], [46.19457, 6.23846], [46.19344, 6.2236], [46.18725, 6.22079], [46.1897, 6.2088], [46.193211, 6.235], [46.19426, 6.24213], [46.1973, 6.24828], [46.19848, 6.23733], [46.18221, 6.19459], [46.19396, 6.23035], [46.14309, 6.14896], [46.18601, 6.22202], [46.19569, 6.22997], [46.19084, 6.20944], [46.19696, 6.23747], [46.20103, 6.25475], [46.19814, 6.2372], [46.19338, 6.22715], [46.190006, 6.233866], [46.19327, 6.23449], [46.18963, 6.24083], [46.19388, 6.23513], [46.19235, 6.23134], [46.18894, 6.20798], [46.194733, 6.240277], [46.19696, 6.24879], [46.190121, 6.208617], [46.18743, 6.23617], [46.19752, 6.23517], [46.19694, 6.23747], [46.13081, 6.15194], [46.18911, 6.20776], [46.19079, 6.20726], [46.19211, 6.23603], [46.1974, 6.23662], [46.19958, 6.24081], [46.19491, 6.23109], [46.18452, 6.20561], [46.19259, 6.2122], [46.19626, 6.23633], [46.19585, 6.23214], [46.19766, 6.25297], [46.19146, 6.22017], [46.19066, 6.23306], [46.1858, 6.2205], [46.18569, 6.22075], [46.19736, 6.22686], [46.19579, 6.24537], [46.14636, 6.06947], [46.24511, 6.09504], [46.19117, 6.2119], [46.13412, 6.13541], [46.13754, 6.07518], [46.25296, 6.07906], [46.26835, 6.25688], [46.31154, 6.10404], [46.21332, 5.95252], [46.14317, 5.96109], [46.2572, 6.11427], [46.33707, 6.19075], [46.25445, 6.1173], [46.192894, 6.254997], [46.25691, 6.11523], [46.25326, 6.09866], [46.25235, 6.10268], [46.13238, 6.13329], [46.20343, 6.24924], [46.20067, 6.23974], [46.19917, 6.23941], [46.14198, 6.14714], [46.19466, 6.24558], [46.19592, 6.24421], [46.18973, 6.25159], [46.179634, 6.21454], [46.179634, 6.21454], [46.19847, 6.25543], [46.18559, 6.24878], [46.198116, 6.237854], [46.25382, 6.09881], [46.18956, 6.23375], [46.17108, 6.1906], [46.19116, 6.21223], [46.19971, 6.22546], [46.16446, 6.19149], [46.16376, 6.19234], [46.16222, 6.18654], [46.16522, 6.19063], [46.16344, 6.19175], [46.19854, 6.24098], [46.1628, 6.2038], [46.21949, 6.2905], [46.31451, 6.11211], [46.16506, 6.1873], [46.19796, 6.23778], [46.1807, 6.22687], [46.19095, 6.21064], [46.230587, 6.31999], [46.16497, 6.19165], [46.17963, 6.2271], [46.22106, 6.31445], [46.20016, 6.2234], [46.17963, 6.2271], [46.132992, 6.1495], [46.1612, 6.20633], [46.17919, 6.22493], [46.19812, 6.25547], [46.22667, 6.29888], [46.191467, 6.212209], [46.21646, 6.29749], [46.18967, 6.21185], [46.1993, 6.22504], [46.23028, 6.32173], [46.22272, 6.3161], [46.18053, 6.19729], [46.2401, 6.32819], [46.23069, 6.32035], [46.19954, 6.22211], [46.16361, 6.18514], [46.20319, 6.29097], [46.18003, 6.19778], [46.18948, 6.24753], [46.18659, 6.21393], [46.191677, 6.25049], [46.20574, 6.25201], [46.16405, 6.192], [46.18861, 6.24908], [46.19219, 6.24727], [46.1535, 6.16793], [46.18903, 6.24327], [46.17964, 6.19664], [46.16369, 6.18529], [46.19846, 6.23625], [46.16157, 6.18278], [46.17813, 6.2246], [46.19813, 6.23729], [46.18606, 6.24262], [46.20583, 6.26735], [46.14304, 6.13916], [46.18454, 6.233267], [46.20217, 6.26058], [46.18344, 6.20704], [46.20089, 6.2416], [46.18891, 6.23351], [46.19654, 6.23679], [46.19558, 6.23753], [46.18516, 6.20597], [46.19607, 6.2339]],\n",
              "                {&quot;blur&quot;: 15, &quot;maxZoom&quot;: 18, &quot;minOpacity&quot;: 0.5, &quot;radius&quot;: 25}\n",
              "            ).addTo(map_13b2cc95856e6a805a0906860b955ae4);\n",
              "        \n",
              "&lt;/script&gt;\n",
              "&lt;/html&gt;\" width=\"1000\" height=\"500\"style=\"border:none !important;\" \"allowfullscreen\" \"webkitallowfullscreen\" \"mozallowfullscreen\"></iframe>"
            ]
          },
          "metadata": {},
          "execution_count": 52
        }
      ]
    },
    {
      "cell_type": "markdown",
      "source": [
        "## Conclusões\n",
        "Neste dataset foi realizado uma análise simplória dos dados do airbnb que foi utilizada para uma abordagem inicial.recomendados que para uma análise exploratória aprofundada, seja considerado uma versão mais completa(listings.csv.gz).\n",
        "\n",
        "No desenvolvimento da análise, observamos a partir do histograma, desvio padrão e boxplot a existência de outliers presentes na maioria das variáveis ​​numéricas. Conscientes desse fenômeno, decidimos adotar a regra do IQR Score para limpeza dos valores extremos presentes em price e minimum_nights.\n",
        "\n",
        "Por fim, em relação aos lugares mais caros de Genebra, embora a maioria das áreas que examinamos são geograficamente próximas e adequadas a altos padrões financeiros ou Contém grandes sítios históricos, também notamos que algumas dessas áreas tem muito poucas propriedades disponíveis, o que pode distorcer as estatísticas de alguns atributos. A ideia é que, se você quer estar perto de elegantes monumentos históricos, praticar esqui aquático e wakeboard ou saborear a melhor comida em um restaurante Michelin, sua acomodação é sem dúvida uma excelente opção para admirar o Lago de Genebra. Agora, se você não quer gastar tanto e não quer abrir mão do conforto, não custa ficar um pouco mais longe do centro Genebrino."
      ],
      "metadata": {
        "id": "zZw5SaP5oGPK"
      }
    }
  ],
  "metadata": {
    "colab": {
      "provenance": [],
      "include_colab_link": true
    },
    "kernelspec": {
      "display_name": "Python 3",
      "name": "python3"
    },
    "language_info": {
      "name": "python"
    }
  },
  "nbformat": 4,
  "nbformat_minor": 0
}